{
 "cells": [
  {
   "cell_type": "markdown",
   "id": "090e0754",
   "metadata": {},
   "source": [
    "# SET (remove, discard,pop)"
   ]
  },
  {
   "cell_type": "raw",
   "id": "787b4f5e",
   "metadata": {},
   "source": [
    ".remove(x)\n",
    "This operation removes element x from the set.\n",
    "If element x does not exist, it raises a KeyError.\n",
    "The .remove(x) operation returns None\n",
    "Example\n",
    "\n",
    ">>> s = set([1, 2, 3, 4, 5, 6, 7, 8, 9])\n",
    ">>> s.remove(5)\n",
    ">>> print s\n",
    "set([1, 2, 3, 4, 6, 7, 8, 9])\n",
    ">>> print s.remove(4)\n",
    "None\n",
    ">>> print s\n",
    "set([1, 2, 3, 6, 7, 8, 9])\n",
    ">>> s.remove(0)\n",
    "KeyError: 0"
   ]
  },
  {
   "cell_type": "raw",
   "id": "3f2da184",
   "metadata": {},
   "source": [
    ".discard(x)\n",
    "This operation also removes element x from the set.\n",
    "If element x does not exist, it does not raise a KeyError.\n",
    "The .discard(x) operation returns None.\n",
    "Example\n",
    "\n",
    ">>> s = set([1, 2, 3, 4, 5, 6, 7, 8, 9])\n",
    ">>> s.discard(5)\n",
    ">>> print s\n",
    "set([1, 2, 3, 4, 6, 7, 8, 9])\n",
    ">>> print s.discard(4)\n",
    "None\n",
    ">>> print s\n",
    "set([1, 2, 3, 6, 7, 8, 9])\n",
    ">>> s.discard(0)\n",
    ">>> print s\n",
    "set([1, 2, 3, 6, 7, 8, 9])"
   ]
  },
  {
   "cell_type": "raw",
   "id": "20332545",
   "metadata": {},
   "source": [
    ".pop()\n",
    "This operation removes and return an arbitrary element from the set.\n",
    "If there are no elements to remove, it raises a KeyError.\n",
    "\n",
    "Example\n",
    ">>> s = set([1])\n",
    ">>> print s.pop()\n",
    "1\n",
    ">>> print s\n",
    "set([])\n",
    ">>> print s.pop()\n",
    "KeyError: pop from an empty set"
   ]
  },
  {
   "cell_type": "markdown",
   "id": "8e71537a",
   "metadata": {},
   "source": [
    "# list comprehention"
   ]
  },
  {
   "cell_type": "code",
   "execution_count": 1,
   "id": "cb9325ed",
   "metadata": {},
   "outputs": [
    {
     "name": "stdout",
     "output_type": "stream",
     "text": [
      "1\n",
      "1\n",
      "1\n",
      "2\n",
      "[[0, 0, 0], [0, 0, 1], [0, 1, 0], [1, 0, 0], [1, 1, 1]]\n"
     ]
    }
   ],
   "source": [
    "if __name__ == '__main__':\n",
    "    x = int(input())\n",
    "    y = int(input())\n",
    "    z = int(input())\n",
    "    n = int(input())\n",
    "    \n",
    "    per_list=[[i,j,k] for i in range(x+1) for j in range(y+1) for k in range(z+1) if (i+j+k) != n]\n",
    "    print(per_list)"
   ]
  },
  {
   "cell_type": "markdown",
   "id": "7e2a615a",
   "metadata": {},
   "source": [
    "# Find the Runner-Up Score!"
   ]
  },
  {
   "cell_type": "markdown",
   "id": "d9fbe531",
   "metadata": {},
   "source": [
    "Given the participants' score sheet for your University Sports Day, you are required to find the runner-up score. You are given  scores. Store them in a list and find the score of the runner-up.\n",
    "Explanation 0\n",
    "\n",
    "Given list is [2,3,6,6,5]. The maximum score is 6, second maximum is 5. Hence, we print 5 as the runner-up score."
   ]
  },
  {
   "cell_type": "code",
   "execution_count": null,
   "id": "7e56c29a",
   "metadata": {},
   "outputs": [],
   "source": [
    "if __name__ == '__main__':\n",
    "    n = int(input())\n",
    "    arr = map(int, input().split())\n",
    "    arr=list(arr)\n",
    "    a=0\n",
    "    \n",
    "    arr.sort()\n",
    "    # print(arr)\n",
    "    b=arr[-1]\n",
    "    for  i in arr[::-1]:\n",
    "        if i < b:\n",
    "            a=i\n",
    "            break    \n",
    "    print(i)"
   ]
  },
  {
   "cell_type": "markdown",
   "id": "a2fe9390",
   "metadata": {},
   "source": [
    "# Nested Lists\n",
    "\n"
   ]
  },
  {
   "cell_type": "markdown",
   "id": "e9cb8590",
   "metadata": {},
   "source": [
    "Given the names and grades for each student in a class of N students, store them in a nested list and print the name(s) of any student(s) having the second lowest grade.\n",
    "Print the name(s) of any student(s) having the second lowest grade in. If there are multiple students, order their names alphabetically and print each one on a new line.\n",
    "\n",
    "Note: If there are multiple students with the second lowest grade, order their names alphabetically and print each name on a new line.\n",
    "\n",
    "There are  students in this class whose names and grades are assembled to build the following list:\n",
    "\n",
    "python students = [['Harry', 37.21], ['Berry', 37.21], ['Tina', 37.2], ['Akriti', 41], ['Harsh', 39]]\n",
    "\n",
    "The lowest grade of 37.21  belongs to Tina. The second lowest grade of 37.21 belongs to both Harry and Berry, so we order their names alphabetically and print each name on a new line."
   ]
  },
  {
   "cell_type": "code",
   "execution_count": null,
   "id": "2cda5303",
   "metadata": {},
   "outputs": [],
   "source": [
    "student=[]\n",
    "a=set() # by making set we don't allow the repetion of value i.e we only get unique  value so by this  we can easly get the lowest second value  \n",
    "if __name__ == '__main__':\n",
    "    \n",
    "    for _ in range(int(input())):\n",
    "        name = input()\n",
    "        score = float(input())\n",
    "        student.append([name,score])\n",
    "        a.add(score)\n",
    "    \n",
    "    a=sorted(a)\n",
    "    # a=tuple(a)\n",
    "    # print(a)\n",
    "    b=[student[j][0] for j in range(len(student)) if student[j][1] == a[1]]\n",
    "b=sorted(b)\n",
    "for i in b:\n",
    "    print(i)\n",
    "\n"
   ]
  },
  {
   "cell_type": "markdown",
   "id": "d6d51f66",
   "metadata": {},
   "source": [
    "# Finding the percentage\n"
   ]
  },
  {
   "cell_type": "markdown",
   "id": "1f5587f4",
   "metadata": {},
   "source": [
    "The provided code stub will read in a dictionary containing key/value pairs of name:[marks] for a list of students. Print the average of the marks array for the student name provided, showing 2 places after the decimal.\n",
    "Output Format\n",
    "\n",
    "Print one line: The average of the marks obtained by the particular student correct to 2 decimal places.\n",
    "\n",
    "Sample Input 0\n",
    "\n",
    "3\n",
    "Krishna 67 68 69\n",
    "Arjun 70 98 63\n",
    "Malika 52 56 60\n",
    "Malika\n",
    "Sample Output 0\n",
    "\n",
    "56.00"
   ]
  },
  {
   "cell_type": "code",
   "execution_count": null,
   "id": "b780f6bb",
   "metadata": {},
   "outputs": [],
   "source": [
    "if __name__ == '__main__':\n",
    "    n = int(input())\n",
    "    student_marks = {}\n",
    "    for _ in range(n):\n",
    "        name, *line = input().split()\n",
    "        scores = list(map(float, line))\n",
    "        student_marks[name] = scores\n",
    "    query_name = input()\n",
    "    a=0\n",
    "    # for i,j in student_marks.keys():\n",
    "        # if i is query_name:\n",
    "        \n",
    "    k=student_marks[query_name]\n",
    "    a=sum(k)/len(k)\n",
    "    # a=float(a)    \n",
    "    a=str(round(a,2))\n",
    "    # print(len(a))\n",
    "    if len(a) <=4:\n",
    "        print(a+\"0\")\n",
    "    else:\n",
    "        print(a)"
   ]
  },
  {
   "cell_type": "markdown",
   "id": "864e9d83",
   "metadata": {},
   "source": [
    "# Lists\n",
    "\n"
   ]
  },
  {
   "cell_type": "markdown",
   "id": "1336d26b",
   "metadata": {},
   "source": [
    "consider a list (list = []). You can perform the following commands:\n",
    "\n",
    "insert i e: Insert integer e  at position i.\n",
    "print: Print the list.\n",
    "remove e: Delete the first occurrence of integer e .\n",
    "append e: Insert integer e at the end of the list.\n",
    "sort: Sort the list.\n",
    "pop: Pop the last element from the list.\n",
    "reverse: Reverse the list.\n",
    "Initialize your list and read in the value of n  followed by n lines of commands where each command will be of the 7 types listed above. Iterate through each command in order and perform the corresponding operation on your list.\n",
    "\n",
    "Sample Input 0\n",
    "\n",
    "12\n",
    "insert 0 5\n",
    "insert 1 10\n",
    "insert 0 6\n",
    "print\n",
    "remove 6\n",
    "append 9\n",
    "append 1\n",
    "sort\n",
    "print\n",
    "pop\n",
    "reverse\n",
    "print\n",
    "Sample Output 0\n",
    "\n",
    "[6, 5, 10]\n",
    "[1, 5, 9, 10]\n",
    "[9, 5, 1]"
   ]
  },
  {
   "cell_type": "code",
   "execution_count": null,
   "id": "f82af90b",
   "metadata": {},
   "outputs": [],
   "source": [
    "if __name__ == '__main__':\n",
    "    N = int(input())\n",
    "    a=[]\n",
    "    for i in range(N):\n",
    "        w,*e=input().split(\" \") #we use *e , if we have any uncertainity the no. argument passed (it will be treated as list)\n",
    "        # print(w,e,r,sep=\"-\")\n",
    "        if w == \"insert\" :\n",
    "            a.insert(int(e[0]),int(e[1]))\n",
    "        elif w == 'append':\n",
    "            a.append(int(e[0]))\n",
    "        elif w == 'remove':\n",
    "            # print(e)\n",
    "            a.remove(int(e[0]))\n",
    "        elif w == 'reverse':\n",
    "            a.reverse()\n",
    "        elif w == 'print':\n",
    "            print(a)\n",
    "        elif w == 'pop':\n",
    "            a.pop()\n",
    "        elif w == 'sort':\n",
    "            a.sort()\n",
    "        else:\n",
    "            print(w)\n",
    "        "
   ]
  },
  {
   "cell_type": "markdown",
   "id": "402a0211",
   "metadata": {},
   "source": [
    "# positional argument"
   ]
  },
  {
   "cell_type": "markdown",
   "id": "5e5a1c6c",
   "metadata": {},
   "source": [
    "Unpacking a function using positional argument.\n",
    "This method is very useful while printing your data in a raw format (without any comma and brackets ). Many of the programmer try to remove comma and bracket by using a convolution of functions, Hence this simple prefix asterisk can solve your problem in unpacking them.  \n"
   ]
  },
  {
   "cell_type": "code",
   "execution_count": 1,
   "id": "c94e6ea2",
   "metadata": {},
   "outputs": [
    {
     "name": "stdout",
     "output_type": "stream",
     "text": [
      "sunday monday tuesday wednesday\n",
      "sunday monday tuesday wednesday\n"
     ]
    }
   ],
   "source": [
    "\n",
    "arr = ['sunday', 'monday', 'tuesday', 'wednesday']\n",
    "  \n",
    "# without using asterisk\n",
    "print(' '.join(map(str,arr))) \n",
    "  \n",
    "# using asterisk\n",
    "print (*arr)"
   ]
  },
  {
   "cell_type": "code",
   "execution_count": 2,
   "id": "f9d375e1",
   "metadata": {},
   "outputs": [
    {
     "name": "stdout",
     "output_type": "stream",
     "text": [
      "cherry is a fruit\n",
      "potato is a vegetable\n",
      "srikrishna is a boy\n"
     ]
    }
   ],
   "source": [
    "# using asterisk\n",
    "def food(**kwargs):\n",
    "  for items in kwargs:\n",
    "    print(f\"{kwargs[items]} is a {items}\")\n",
    "      \n",
    "      \n",
    "food(fruit = 'cherry', vegetable = 'potato', boy = 'srikrishna')"
   ]
  },
  {
   "cell_type": "markdown",
   "id": "04ffe924",
   "metadata": {},
   "source": [
    "Just another example of using **kwargs, for much better understanding."
   ]
  },
  {
   "cell_type": "code",
   "execution_count": 4,
   "id": "87b6d000",
   "metadata": {},
   "outputs": [
    {
     "name": "stdout",
     "output_type": "stream",
     "text": [
      "cherry is a fruit\n",
      "potato is a vegetable\n",
      "srikrishna is a boy\n"
     ]
    }
   ],
   "source": [
    "\n",
    "# using asterisk\n",
    "def food(**kwargs):\n",
    "  for items in kwargs:\n",
    "    print(f\"{kwargs[items]} is a {items}\")\n",
    "      \n",
    "      \n",
    "dict = {'fruit' : 'cherry', 'vegetable' : 'potato', 'boy' : 'srikrishna'}\n",
    "# using asterisk\n",
    "food(**dict)"
   ]
  },
  {
   "cell_type": "markdown",
   "id": "3c41311c",
   "metadata": {},
   "source": [
    "# Python hash() method"
   ]
  },
  {
   "cell_type": "markdown",
   "id": "56f71a73",
   "metadata": {},
   "source": [
    "Python offers hash() method to encode the data into unrecognisable value."
   ]
  },
  {
   "cell_type": "markdown",
   "id": "f20ec2f4",
   "metadata": {},
   "source": [
    "Syntax : hash(obj)\n",
    "\n",
    "Parameters :\n",
    "obj : The object which we need to convert into hash.\n",
    "\n",
    "Returns : Returns the hashed value if possible.\n",
    "\n"
   ]
  },
  {
   "cell_type": "markdown",
   "id": "d0b8c9c0",
   "metadata": {},
   "source": [
    "### Properties of hash() ->"
   ]
  },
  {
   "cell_type": "markdown",
   "id": "01a51989",
   "metadata": {},
   "source": [
    "\n",
    "\n",
    "Objects hashed using hash() are irreversible, leading to loss of information.\n",
    "hash() returns hashed value only for immutable objects, hence can be used as an indicator to check for mutable/immutable objects."
   ]
  },
  {
   "cell_type": "code",
   "execution_count": 5,
   "id": "3ccdb80c",
   "metadata": {},
   "outputs": [
    {
     "name": "stdout",
     "output_type": "stream",
     "text": [
      "The tuple hash value is : -5659871693760987716\n"
     ]
    },
    {
     "ename": "TypeError",
     "evalue": "unhashable type: 'list'",
     "output_type": "error",
     "traceback": [
      "\u001b[0;31m---------------------------------------------------------------------------\u001b[0m",
      "\u001b[0;31mTypeError\u001b[0m                                 Traceback (most recent call last)",
      "\u001b[0;32m<ipython-input-5-9e37c4fdafbc>\u001b[0m in \u001b[0;36m<module>\u001b[0;34m\u001b[0m\n\u001b[1;32m     13\u001b[0m \u001b[0;31m# to convert mutable object\u001b[0m\u001b[0;34m\u001b[0m\u001b[0;34m\u001b[0m\u001b[0;34m\u001b[0m\u001b[0m\n\u001b[1;32m     14\u001b[0m \u001b[0mprint\u001b[0m \u001b[0;34m(\u001b[0m\u001b[0;34m\"The tuple hash value is : \"\u001b[0m \u001b[0;34m+\u001b[0m \u001b[0mstr\u001b[0m\u001b[0;34m(\u001b[0m\u001b[0mhash\u001b[0m\u001b[0;34m(\u001b[0m\u001b[0mtuple_val\u001b[0m\u001b[0;34m)\u001b[0m\u001b[0;34m)\u001b[0m\u001b[0;34m)\u001b[0m\u001b[0;34m\u001b[0m\u001b[0;34m\u001b[0m\u001b[0m\n\u001b[0;32m---> 15\u001b[0;31m \u001b[0mprint\u001b[0m \u001b[0;34m(\u001b[0m\u001b[0;34m\"The list hash value is : \"\u001b[0m \u001b[0;34m+\u001b[0m \u001b[0mstr\u001b[0m\u001b[0;34m(\u001b[0m\u001b[0mhash\u001b[0m\u001b[0;34m(\u001b[0m\u001b[0mlist_val\u001b[0m\u001b[0;34m)\u001b[0m\u001b[0;34m)\u001b[0m\u001b[0;34m)\u001b[0m\u001b[0;34m\u001b[0m\u001b[0;34m\u001b[0m\u001b[0m\n\u001b[0m",
      "\u001b[0;31mTypeError\u001b[0m: unhashable type: 'list'"
     ]
    }
   ],
   "source": [
    "\n",
    "# Python 3 code to demonstrate \n",
    "# property of hash()\n",
    "  \n",
    "# initializing objects\n",
    "# tuple are immutable\n",
    "tuple_val = (1, 2, 3, 4, 5)\n",
    "  \n",
    "# list are mutable\n",
    "list_val = [1, 2, 3, 4, 5]\n",
    "  \n",
    "# Printing the hash values.\n",
    "# Notice exception when trying\n",
    "# to convert mutable object\n",
    "print (\"The tuple hash value is : \" + str(hash(tuple_val)))\n",
    "print (\"The list hash value is : \" + str(hash(list_val)))"
   ]
  },
  {
   "cell_type": "markdown",
   "id": "79c70922",
   "metadata": {},
   "source": [
    "# Find Angle MBC\n"
   ]
  },
  {
   "cell_type": "markdown",
   "id": "02dc0e3c",
   "metadata": {},
   "source": [
    "### degrees() and radians() in Python"
   ]
  },
  {
   "cell_type": "markdown",
   "id": "dd42a031",
   "metadata": {},
   "source": [
    "radians()\n",
    "This function accepts the “degrees” as input and converts it into its radians equivalent.\n",
    "\n",
    "Syntax : radians(deg)\n",
    "\n",
    "Parameters :\n",
    "deg : The degrees value that one needs to convert into radians"
   ]
  },
  {
   "cell_type": "markdown",
   "id": "95ad826a",
   "metadata": {},
   "source": [
    "degrees()\n",
    "This function accepts the “radians” as input and converts it into its degrees equivalent.\n",
    "\n",
    "Syntax : degrees(rad)\n",
    "\n",
    "Parameters :\n",
    "rad : The radians value that one needs to convert into degrees.\n",
    "\n",
    "Returns : This function returns the floating point degrees equivalent of argument.\n",
    "Computational Equivalent : 1 Degrees = pi/180 Radians."
   ]
  },
  {
   "cell_type": "code",
   "execution_count": 8,
   "id": "e059ed4b",
   "metadata": {},
   "outputs": [
    {
     "name": "stdout",
     "output_type": "stream",
     "text": [
      "180 Degrees is equal to Radians : 3.141592653589793\n",
      "180 Radians is equal to Degrees : 10313.240312354817\n"
     ]
    }
   ],
   "source": [
    "import math\n",
    "print(\"180 Degrees is equal to Radians : \", end =\"\")\n",
    "print (math.radians(180))\n",
    "print(\"180 Radians is equal to Degrees : \", end =\"\")\n",
    "print (math.degrees(180))"
   ]
  },
  {
   "cell_type": "code",
   "execution_count": 11,
   "id": "c4cc329c",
   "metadata": {},
   "outputs": [
    {
     "name": "stdout",
     "output_type": "stream",
     "text": [
      "12\n",
      "12\n",
      "45°\n"
     ]
    }
   ],
   "source": [
    "# Enter your code here. Read input from STDIN. Print output to STDOUT\n",
    "import math\n",
    "AB=int(input())\n",
    "BC=int(input())\n",
    "# AC=math.sqrt(math.pow(AB,2)+math.pow(BC,2))\n",
    "AC=math.hypot(AB,BC)                      #to calculate hypotenuse\n",
    "\n",
    "# print(AC)\n",
    "MC=AC/2\n",
    "# print(MC)\n",
    "MBC =  math.acos(BC/AC) # here we are using inverse sin which gives the result in radian so for degree we have to change it manually\n",
    "\n",
    "# MBC_degree = round((360*MBC)/(2*math.pi))\n",
    "MBC_degree = round( math.degrees(MBC))\n",
    "# degree_sign= u'\\N{DEGREE SIGN}'\n",
    "degree_sign=chr(176) \n",
    "print(MBC_degree,degree_sign,sep=\"\")\n",
    "\n",
    "\n",
    "\n",
    "# import math\n",
    "# AB,BC=int(input()),int(input())\n",
    "# AC=math.hypot(AB,BC)                      #to calculate hypotenuse\n",
    "# res=round(math.degrees(math.acos(BC/AC))) #to calculate required angle \n",
    "# degree=chr(176)                                #for DEGREE symbol\n",
    "# print(res,degree, sep='')\n",
    "\n",
    "#"
   ]
  },
  {
   "cell_type": "markdown",
   "id": "69aa5b53",
   "metadata": {},
   "source": [
    "# Triangle Quest 2\n"
   ]
  },
  {
   "cell_type": "markdown",
   "id": "7e1c61be",
   "metadata": {},
   "source": [
    "You are given a positive integer N .\n",
    "Your task is to print a palindromic triangle of size N.\n",
    "\n",
    "For example, a palindromic triangle of size 5 is:\n",
    "\n",
    "1\n",
    "\n",
    "121\n",
    "\n",
    "12321\n",
    "\n",
    "1234321\n",
    "\n",
    "123454321\n",
    "\n",
    "\n",
    "You can't take more than two lines. The first line (a for-statement) is already written for you.\n",
    "You have to complete the code using exactly one print statement.\n",
    "\n",
    "Note:\n",
    "Using anything related to strings will give a score of 0.\n",
    "Using more than one for-statement will give a score of 0 ."
   ]
  },
  {
   "cell_type": "code",
   "execution_count": 12,
   "id": "4e2dbc77",
   "metadata": {},
   "outputs": [
    {
     "name": "stdout",
     "output_type": "stream",
     "text": [
      "5\n",
      "1\n",
      "121\n",
      "12321\n",
      "1234321\n",
      "123454321\n"
     ]
    }
   ],
   "source": [
    "for i in range(1,int(input())+1): #More than 2 lines will result in 0 score. Do not leave a blank line also\n",
    "    print(*[i for i in range(1,i)],*[j for j in range(i,0,-1)],sep=\"\")\n"
   ]
  },
  {
   "cell_type": "code",
   "execution_count": 13,
   "id": "bf915de3",
   "metadata": {},
   "outputs": [
    {
     "name": "stdout",
     "output_type": "stream",
     "text": [
      "6\n",
      "1\n",
      "121\n",
      "12321\n",
      "1234321\n",
      "123454321\n",
      "12345654321\n"
     ]
    }
   ],
   "source": [
    "# we here find by using one for loop as the only one for loop is allowed\n",
    "for i in range(1,int(input())+1): #More than 2 lines will result in 0 score. Do not leave a blank line also\n",
    "    print(((10**i)//9)**2) #it is just square of 1,11,111,1111,1111"
   ]
  },
  {
   "cell_type": "markdown",
   "id": "6629368c",
   "metadata": {},
   "source": [
    "\n",
    "# Mod Divmod"
   ]
  },
  {
   "cell_type": "raw",
   "id": "7a438f66",
   "metadata": {},
   "source": [
    "One of the built-in functions of Python is divmod, which takes two arguments a  and b and returns a tuple containing the quotient of a/b first and then the remainder a.\n",
    "\n",
    "For example:\n",
    "\n",
    ">>> print divmod(177,10)\n",
    "(17, 7)\n",
    "\n",
    "here 17 is the quotient and 7 is the remainder\n",
    "Here, the integer division is 177//10 => 17 and the modulo operator is 177%10 => 7."
   ]
  },
  {
   "cell_type": "code",
   "execution_count": 18,
   "id": "2c143891",
   "metadata": {},
   "outputs": [
    {
     "name": "stdout",
     "output_type": "stream",
     "text": [
      "177\n",
      "10\n",
      "17\n",
      "7\n",
      "(17, 7)\n"
     ]
    }
   ],
   "source": [
    "\n",
    "# Enter your code here. Read input from STDIN. Print output to STDOUT\n",
    "a=int(input())\n",
    "b=int(input())\n",
    "print(a//b)\n",
    "print(a%b)\n",
    "print(divmod(a,b))\n",
    "\n"
   ]
  },
  {
   "cell_type": "markdown",
   "id": "a2d2463c",
   "metadata": {},
   "source": [
    "# Power - Mod Powe"
   ]
  },
  {
   "cell_type": "raw",
   "id": "a495aae8",
   "metadata": {},
   "source": [
    "So far, we have only heard of Python's powers. Now, we will witness them!\n",
    "\n",
    "Powers or exponents in Python can be calculated using the built-in power function. Call the power function  as shown below:\n",
    "\n",
    ">>> pow(a,b) \n",
    "or\n",
    "\n",
    ">>> a**b\n",
    "\n",
    "pow(x, y, z)\n",
    "x\n",
    "\n",
    "Equivalent to x**y (with two arguments) or (x**y) % z (with three arguments)\n",
    "\n",
    "Some types, such as ints, are able to use a more efficient algorithm when invoked using the three argument form."
   ]
  },
  {
   "cell_type": "code",
   "execution_count": 21,
   "id": "15a67e85",
   "metadata": {},
   "outputs": [
    {
     "name": "stdout",
     "output_type": "stream",
     "text": [
      "3\n",
      "4\n",
      "5\n",
      "81\n",
      "1\n"
     ]
    }
   ],
   "source": [
    "# Enter your code here. Read input from STDIN. Print output to STDOUT\n",
    "a=int(input())\n",
    "b=int(input())\n",
    "m=int(input())\n",
    "\n",
    "\n",
    "print(pow(a,b))\n",
    "print(pow(a,b,m))"
   ]
  },
  {
   "cell_type": "markdown",
   "id": "e5988b6f",
   "metadata": {},
   "source": [
    "# Triangle Quest\n",
    " "
   ]
  },
  {
   "cell_type": "markdown",
   "id": "a949b160",
   "metadata": {},
   "source": [
    "Sample Input\n",
    "\n",
    "5\n",
    "Sample Output\n",
    "\n",
    "1\n",
    "22\n",
    "333\n",
    "4444\n",
    "\n",
    "Can you do it using only arithmetic operations, a single for loop and print statement?\n",
    "\n",
    "Use no more than two lines. The first line (the for statement) is already written for you. You have to complete the print statement.\n",
    "\n",
    "Note: Using anything related to strings will give a score of 0 ."
   ]
  },
  {
   "cell_type": "code",
   "execution_count": 22,
   "id": "906ba15e",
   "metadata": {},
   "outputs": [
    {
     "name": "stdout",
     "output_type": "stream",
     "text": [
      "5\n",
      "1\n",
      "22\n",
      "333\n",
      "4444\n"
     ]
    }
   ],
   "source": [
    "for i in range(1,int(input())): #More than 2 lines will result in 0 score. Do not leave a blank line also\n",
    "    print(((10**i)//9)*i)"
   ]
  },
  {
   "cell_type": "markdown",
   "id": "39d85706",
   "metadata": {},
   "source": [
    "# Regex and Parsing -> Validating Credit Card Numbers\n"
   ]
  },
  {
   "cell_type": "raw",
   "id": "d1ffc9f7",
   "metadata": {},
   "source": [
    "You and Fredrick are good friends. Yesterday, Fredrick received N credit cards from ABCD Bank. He wants to verify whether his credit card numbers are valid or not. You happen to be great at regex so he is asking for your help!\n",
    "\n",
    "A valid credit card from ABCD Bank has the following characteristics:\n",
    "\n",
    "► It must start with a 4, 5 or 6.\n",
    "► It must contain exactly 16 digits.\n",
    "► It must only consist of digits (0-9).\n",
    "► It may have digits in groups of 4 , separated by one hyphen \"-\".\n",
    "► It must NOT use any other separator like ' ' , '_', etc.\n",
    "► It must NOT have 4 or more consecutive repeated digits.\n",
    "\n",
    "Examples:\n",
    "\n",
    "Valid Credit Card Numbers\n",
    "\n",
    "4253625879615786\n",
    "4424424424442444\n",
    "5122-2368-7954-3214\n",
    "Invalid Credit Card Numbers\n",
    "\n",
    "42536258796157867       #17 digits in card number → Invalid \n",
    "4424444424442444        #Consecutive digits are repeating 4 or more times → Invalid\n",
    "5122-2368-7954 - 3214   #Separators other than '-' are used → Invalid\n",
    "44244x4424442444        #Contains non digit characters → Invalid\n",
    "0525362587961578        #Doesn't start with 4, 5 or 6 → Invalid"
   ]
  },
  {
   "cell_type": "code",
   "execution_count": 4,
   "id": "4346cf0d",
   "metadata": {},
   "outputs": [
    {
     "name": "stdout",
     "output_type": "stream",
     "text": [
      "5\n",
      "42536258796157867\n",
      "4424444424442444 \n",
      "5122-2368-7954 - 3214\n",
      "5122-2368-7954-3214\n",
      "0525362587961578\n",
      "Invalid\n",
      "Invalid\n",
      "Invalid\n",
      "Valid\n",
      "Invalid\n"
     ]
    }
   ],
   "source": [
    "# Enter your code here. Read input from STDIN. Print output to STDOUT\n",
    "n=int(input())\n",
    "a=[]\n",
    "import re\n",
    "for i in range(n):\n",
    "    a.append(input())\n",
    "    \n",
    "for i in a:\n",
    "    \n",
    "    # i=re.sub(\"[\\D]\",\"\",i) # re.sub not directly replace into the original string\n",
    "    # print(i)\n",
    "    if (re.fullmatch(r\"[4,5,6]\\d\\d\\d-\\d\\d\\d\\d-\\d\\d\\d\\d-\\d\\d\\d\\d\",i)and len(i) == 19 or re.fullmatch(r\"[4,5,6]\\d*\",i) and len(i) == 16)  :\n",
    "        print(\"Valid\") \n",
    "    else:\n",
    "        print(\"Invalid\")\n"
   ]
  },
  {
   "cell_type": "markdown",
   "id": "0f26ea19",
   "metadata": {},
   "source": [
    "# sWAP cASE\n"
   ]
  },
  {
   "cell_type": "markdown",
   "id": "bfd90b2a",
   "metadata": {},
   "source": [
    "You are given a string and your task is to swap cases. In other words, convert all lowercase letters to uppercase letters and vice versa.\n",
    "\n",
    "Sample Input 0\n",
    "\n",
    "HackerRank.com presents \"Pythonist 2\".\n",
    "\n",
    "Sample Output 0\n",
    "\n",
    "hACKERrANK.COM PRESENTS \"pYTHONIST 2\"."
   ]
  },
  {
   "cell_type": "code",
   "execution_count": 1,
   "id": "d6107e99",
   "metadata": {},
   "outputs": [],
   "source": [
    "def swap_case(s):\n",
    "    \n",
    "   return(s.swapcase())\n",
    "   "
   ]
  },
  {
   "cell_type": "markdown",
   "id": "8ccbab09",
   "metadata": {},
   "source": [
    "# String Split and Join\n"
   ]
  },
  {
   "cell_type": "raw",
   "id": "814a115d",
   "metadata": {},
   "source": [
    "In Python, a string can be split on a delimiter.\n",
    "\n",
    "Example:\n",
    "\n",
    ">>> a = \"this is a string\"\n",
    ">>> a = a.split(\" \") # a is converted to a list of strings. \n",
    ">>> print a\n",
    "['this', 'is', 'a', 'string']\n",
    "\n",
    "Joining a string is simple:\n",
    "\n",
    ">>> a = \"-\".join(a)\n",
    ">>> print a\n",
    "this-is-a-string "
   ]
  },
  {
   "cell_type": "code",
   "execution_count": null,
   "id": "6300857f",
   "metadata": {},
   "outputs": [],
   "source": [
    "def split_and_join(line):\n",
    "    # write your code here\n",
    "    line=line.split(\" \")\n",
    "    line=\"-\".join(line)\n",
    "    return (line)\n"
   ]
  },
  {
   "cell_type": "markdown",
   "id": "7713db47",
   "metadata": {},
   "source": [
    "# Mutations\n"
   ]
  },
  {
   "cell_type": "raw",
   "id": "ca46db1c",
   "metadata": {},
   "source": [
    "We have seen that lists are mutable (they can be changed), and tuples are immutable (they cannot be changed).\n",
    "\n",
    "Let's try to understand this with an example.\n",
    "\n",
    "You are given an immutable string, and you want to make changes to it.\n",
    "\n",
    "1.) One solution is to convert the string to a list and then change the value.\n",
    "Example\n",
    "\n",
    ">>> string = \"abracadabra\"\n",
    ">>> l = list(string)\n",
    ">>> l[5] = 'k'\n",
    ">>> string = ''.join(l)\n",
    ">>> print string\n",
    "abrackdabra\n",
    "2.) Another approach is to slice the string and join it back.\n",
    "Example\n",
    "\n",
    ">>> string = string[:5] + \"k\" + string[6:]\n",
    ">>> print string\n",
    "abrackdabra"
   ]
  },
  {
   "cell_type": "code",
   "execution_count": 2,
   "id": "8a3e5553",
   "metadata": {},
   "outputs": [],
   "source": [
    "def mutate_string(string, position, character):\n",
    "    list_string=list(string)\n",
    "    list_string[position]=character\n",
    "    string =\"\".join(list_string)\n",
    "    return string"
   ]
  },
  {
   "cell_type": "markdown",
   "id": "545b8c08",
   "metadata": {},
   "source": [
    "# Find a string\n"
   ]
  },
  {
   "cell_type": "markdown",
   "id": "253e9316",
   "metadata": {},
   "source": [
    "## finding a overlapping pattern "
   ]
  },
  {
   "cell_type": "raw",
   "id": "308f89a3",
   "metadata": {},
   "source": [
    "the user enters a string and a substring. You have to print the number of times that the substring occurs in the given string. String traversal will take place from left to right, not from right to left.\n",
    "\n",
    "NOTE: String letters are case-sensitive."
   ]
  },
  {
   "cell_type": "code",
   "execution_count": 4,
   "id": "ea8ae160",
   "metadata": {},
   "outputs": [
    {
     "name": "stdout",
     "output_type": "stream",
     "text": [
      "ABCDCDC\n",
      "CDC\n",
      "2\n"
     ]
    }
   ],
   "source": [
    "def count_substring(string, sub_string):\n",
    "    # a=0\n",
    "    # a=[]\n",
    "    # b=len(sub_string)\n",
    "    # return (string.count(sub_string))\n",
    "    # # for i in range(1,len(string)-1):\n",
    "    #     # for j in range(len(sub_string):\n",
    "    #     # [a.append(string[i]) for i in len(sub_string)]\n",
    "    # import re\n",
    "    # a=re.findall(sub_string,string)\n",
    "    # return (len(a))\n",
    "    a=sum(1 for i in range(len(string)) if string.startswith(sub_string,i))\n",
    "    return(a)\n",
    "# as here we can't be able to use the count() or re.findall() as the string is overlapping\n",
    "if __name__ == '__main__':\n",
    "    string = input().strip()\n",
    "    sub_string = input().strip()\n",
    "    \n",
    "    count = count_substring(string, sub_string)\n",
    "    print(count)"
   ]
  },
  {
   "cell_type": "markdown",
   "id": "ca3e14ae",
   "metadata": {},
   "source": [
    "# re.search() ->"
   ]
  },
  {
   "cell_type": "markdown",
   "id": "c76a9f5a",
   "metadata": {},
   "source": [
    "\n",
    "\n",
    "re.search() method either returns None (if the pattern doesn’t match), or a re.MatchObject that contains information about the matching part of the string. This method stops after the first match, so this is best suited for testing a regular expression more than extracting data."
   ]
  },
  {
   "cell_type": "code",
   "execution_count": 5,
   "id": "4fb177bf",
   "metadata": {},
   "outputs": [
    {
     "name": "stdout",
     "output_type": "stream",
     "text": [
      "Match at index 14, 21\n",
      "Full match: June 24\n",
      "Month: June\n",
      "Day: 24\n"
     ]
    }
   ],
   "source": [
    "\n",
    "# A Python program to demonstrate working of re.match(). \n",
    "import re \n",
    "    \n",
    "# Lets use a regular expression to match a date string \n",
    "# in the form of Month name followed by day number \n",
    "regex = r\"([a-zA-Z]+) (\\d+)\"\n",
    "    \n",
    "match = re.search(regex, \"I was born on June 24\") \n",
    "    \n",
    "if match != None: \n",
    "    \n",
    "    # We reach here when the expression \"([a-zA-Z]+) (\\d+)\" \n",
    "    # matches the date string. \n",
    "    \n",
    "    # This will print [14, 21), since it matches at index 14 \n",
    "    # and ends at 21.  \n",
    "    print(\"Match at index % s, % s\" % (match.start(), match.end()))\n",
    "    \n",
    "    # We us group() method to get all the matches and \n",
    "    # captured groups. The groups contain the matched values. \n",
    "    # In particular: \n",
    "    # match.group(0) always returns the fully matched string \n",
    "    # match.group(1) match.group(2), ... return the capture \n",
    "    # groups in order from left to right in the input string \n",
    "    # match.group() is equivalent to match.group(0) \n",
    "    \n",
    "    # So this will print \"June 24\" \n",
    "    print(\"Full match: % s\" % (match.group(0)))\n",
    "    \n",
    "    # So this will print \"June\" \n",
    "    print(\"Month: % s\" % (match.group(1)))\n",
    "    \n",
    "    # So this will print \"24\" \n",
    "    print(\"Day: % s\" % (match.group(2)))\n",
    "    \n",
    "else: \n",
    "    print(\"The regex pattern does not match.\")"
   ]
  },
  {
   "cell_type": "markdown",
   "id": "314c1a54",
   "metadata": {},
   "source": [
    "# re.findall() ->"
   ]
  },
  {
   "cell_type": "markdown",
   "id": "8ca49f78",
   "metadata": {},
   "source": [
    "\n",
    "Return all non-overlapping matches of pattern in string, as a list of strings. The string is scanned left-to-right, and matches are returned in the order found."
   ]
  },
  {
   "cell_type": "code",
   "execution_count": 6,
   "id": "58fcd8ed",
   "metadata": {},
   "outputs": [
    {
     "name": "stdout",
     "output_type": "stream",
     "text": [
      "['123456789', '987654321']\n"
     ]
    }
   ],
   "source": [
    "\n",
    "# A Python program to demonstrate working of \n",
    "# findall() \n",
    "import re \n",
    "    \n",
    "# A sample text string where regular expression  \n",
    "# is searched. \n",
    "string = \"\"\"Hello my Number is 123456789 and \n",
    "             my friend's number is 987654321\"\"\"\n",
    "    \n",
    "# A sample regular expression to find digits. \n",
    "regex = '\\d+'             \n",
    "    \n",
    "match = re.findall(regex, string) \n",
    "print(match) "
   ]
  },
  {
   "cell_type": "markdown",
   "id": "9ba22764",
   "metadata": {},
   "source": [
    "# String Validators\n"
   ]
  },
  {
   "cell_type": "markdown",
   "id": "a1ee77ad",
   "metadata": {},
   "source": [
    "Python has built-in string validation methods for basic data. It can check if a string is composed of alphabetical characters, alphanumeric characters, digits, etc."
   ]
  },
  {
   "cell_type": "markdown",
   "id": "6911e70a",
   "metadata": {},
   "source": [
    "### str.isalnum()"
   ]
  },
  {
   "cell_type": "markdown",
   "id": "d720291d",
   "metadata": {},
   "source": [
    "This method checks if all the characters of a string are alphanumeric (a-z, A-Z and 0-9)."
   ]
  },
  {
   "cell_type": "markdown",
   "id": "d7d6a1c5",
   "metadata": {},
   "source": [
    "### str.isalpha()"
   ]
  },
  {
   "cell_type": "markdown",
   "id": "edf4bad8",
   "metadata": {},
   "source": [
    "This method checks if all the characters of a string are alphabetical (a-z and A-Z)."
   ]
  },
  {
   "cell_type": "markdown",
   "id": "f12d6673",
   "metadata": {},
   "source": [
    "str.isdigit()\n",
    "\n",
    "This method checks if all the characters of a string are digits (0-9)."
   ]
  },
  {
   "cell_type": "markdown",
   "id": "26e6b286",
   "metadata": {},
   "source": [
    "str.islower()\n",
    "\n",
    "This method checks if all the characters of a string are lowercase characters (a-z)."
   ]
  },
  {
   "cell_type": "markdown",
   "id": "e36d02fc",
   "metadata": {},
   "source": [
    "str.isupper()\n",
    "\n",
    "This method checks if all the characters of a string are uppercase characters (A-Z)."
   ]
  },
  {
   "cell_type": "code",
   "execution_count": 12,
   "id": "8683f8c7",
   "metadata": {},
   "outputs": [
    {
     "name": "stdout",
     "output_type": "stream",
     "text": [
      "qA2\n",
      "True\n",
      "True\n",
      "True\n",
      "True\n",
      "True\n"
     ]
    }
   ],
   "source": [
    "if __name__ == '__main__':\n",
    "    s = input()\n",
    "    a=False\n",
    "    for i in s:\n",
    "   # a=False\n",
    "        if i.isalnum():\n",
    "            a=True\n",
    "            break\n",
    "    print(a)\n",
    "\n",
    "    \n",
    "    # print(s.isalpha() )\n",
    "    a=False\n",
    "    for i in s:\n",
    "        # a=False\n",
    "        if i.isalpha():\n",
    "            a=True\n",
    "            break\n",
    "    print(a)\n",
    "    \n",
    "    a=False\n",
    "    for i in s:\n",
    "    # a=False\n",
    "        if i.isdigit():\n",
    "            a=True\n",
    "            break\n",
    "    print(a)\n",
    "\n",
    "    a=False\n",
    "    for i in s:\n",
    "    # a=False\n",
    "        if i.islower():\n",
    "            a=True\n",
    "            break\n",
    "    print(a)\n",
    "\n",
    "    a=False\n",
    "    for i in s:\n",
    "    # a=False\n",
    "        if i.isupper():\n",
    "            a=True\n",
    "            break\n",
    "    print(a)\n"
   ]
  },
  {
   "cell_type": "code",
   "execution_count": 16,
   "id": "65112ed8",
   "metadata": {},
   "outputs": [
    {
     "name": "stdout",
     "output_type": "stream",
     "text": [
      "True\n",
      "True\n",
      "True\n",
      "True\n",
      "True\n"
     ]
    }
   ],
   "source": [
    "s=\"Qa9\"\n",
    "print(any(i.isalnum() for i in s ))\n",
    "print(any(i.isdigit()for i in s))\n",
    "print(any(i.isalpha() for i in s))\n",
    "print(any(i.islower()for i in s))\n",
    "print(any(i.isupper()for i in s))"
   ]
  },
  {
   "cell_type": "markdown",
   "id": "bf3910cf",
   "metadata": {},
   "source": [
    "# Text Alignment\n"
   ]
  },
  {
   "cell_type": "markdown",
   "id": "01110da0",
   "metadata": {},
   "source": [
    "In Python, a string of text can be aligned left, right and center."
   ]
  },
  {
   "cell_type": "markdown",
   "id": "eb3fc879",
   "metadata": {},
   "source": [
    "### .ljust(width)"
   ]
  },
  {
   "cell_type": "raw",
   "id": "0c2ba073",
   "metadata": {},
   "source": [
    "This method returns a left aligned string of length width.\n",
    "\n",
    ">>> width = 20\n",
    ">>> print 'HackerRank'.ljust(width,'-')\n",
    "HackerRank----------  "
   ]
  },
  {
   "cell_type": "markdown",
   "id": "3bc162a8",
   "metadata": {},
   "source": [
    "### .center(width)"
   ]
  },
  {
   "cell_type": "raw",
   "id": "11a00b4e",
   "metadata": {},
   "source": [
    "This method returns a centered string of length width.\n",
    "\n",
    ">>> width = 20\n",
    ">>> print 'HackerRank'.center(width,'-')\n",
    "-----HackerRank-----"
   ]
  },
  {
   "cell_type": "markdown",
   "id": "38fde538",
   "metadata": {},
   "source": [
    "### .rjust(width)\n"
   ]
  },
  {
   "cell_type": "raw",
   "id": "8e5e43e7",
   "metadata": {},
   "source": [
    "This method returns a right aligned string of length width.\n",
    "\n",
    ">>> width = 20\n",
    ">>> print 'HackerRank'.rjust(width,'-')\n",
    "----------HackerRank"
   ]
  },
  {
   "cell_type": "markdown",
   "id": "fc9bd0fe",
   "metadata": {},
   "source": [
    "\n",
    "\n",
    "Task\n",
    "\n",
    "You are given a partial code that is used for generating the HackerRank Logo of variable thickness.\n",
    "Your task is to replace the blank (______) with rjust, ljust or center.\n",
    "\n"
   ]
  },
  {
   "cell_type": "code",
   "execution_count": 79,
   "id": "f9188480",
   "metadata": {},
   "outputs": [
    {
     "name": "stdout",
     "output_type": "stream",
     "text": [
      "5\n",
      "    H    \n",
      "   HHH   \n",
      "  HHHHH  \n",
      " HHHHHHH \n",
      "HHHHHHHHH\n",
      "  HHHHH               HHHHH             \n",
      "  HHHHH               HHHHH             \n",
      "  HHHHH               HHHHH             \n",
      "  HHHHH               HHHHH             \n",
      "  HHHHH               HHHHH             \n",
      "  HHHHH               HHHHH             \n",
      "  HHHHHHHHHHHHHHHHHHHHHHHHH   \n",
      "  HHHHHHHHHHHHHHHHHHHHHHHHH   \n",
      "  HHHHHHHHHHHHHHHHHHHHHHHHH   \n",
      "  HHHHH               HHHHH             \n",
      "  HHHHH               HHHHH             \n",
      "  HHHHH               HHHHH             \n",
      "  HHHHH               HHHHH             \n",
      "  HHHHH               HHHHH             \n",
      "  HHHHH               HHHHH             \n",
      "                    HHHHHHHHH \n",
      "                     HHHHHHH  \n",
      "                      HHHHH   \n",
      "                       HHH    \n",
      "                        H     \n"
     ]
    }
   ],
   "source": [
    "\n",
    "thickness = int(input()) #This must be an odd number\n",
    "c = 'H'\n",
    "\n",
    "#Top Cone\n",
    "for i in range(thickness):\n",
    "    print((c*i).rjust(thickness-1)+c+(c*i).ljust(thickness-1))\n",
    "\n",
    "#Top Pillars\n",
    "for i in range(thickness+1):\n",
    "    print((c*thickness).center(thickness*2)+(c*thickness).center(thickness*6))\n",
    "\n",
    "#Middle Belt\n",
    "for i in range((thickness+1)//2):\n",
    "    print((c*thickness*5).center(thickness*6))    \n",
    "\n",
    "#Bottom Pillars\n",
    "for i in range(thickness+1):\n",
    "    print((c*thickness).center(thickness*2)+(c*thickness).center(thickness*6))    \n",
    "\n",
    "#Bottom Cone\n",
    "for i in range(thickness):\n",
    "    print(((c*(thickness-i-1)).rjust(thickness)+c+(c*(thickness-i-1)).ljust(thickness)).rjust(thickness*6))"
   ]
  },
  {
   "cell_type": "markdown",
   "id": "75131b93",
   "metadata": {},
   "source": [
    "# Text Wrap"
   ]
  },
  {
   "cell_type": "markdown",
   "id": "4be2ea3d",
   "metadata": {},
   "source": [
    "You are given a string s and width w.\n",
    "Your task is to wrap the string into a paragraph of width w."
   ]
  },
  {
   "cell_type": "markdown",
   "id": "d92f9763",
   "metadata": {},
   "source": [
    "Function Description\n",
    "\n",
    "Complete the wrap function in the editor below.\n",
    "\n",
    "wrap has the following parameters:\n",
    "\n",
    "string string: a long string\n",
    "int max_width: the width to wrap to\n",
    "Returns\n",
    "\n",
    "string: a single string with newline characters ('\\n') where the breaks should be"
   ]
  },
  {
   "cell_type": "raw",
   "id": "069c8bb0",
   "metadata": {},
   "source": [
    "Sample Input 0\n",
    "\n",
    "ABCDEFGHIJKLIMNOQRSTUVWXYZ\n",
    "\n",
    "4\n",
    "\n",
    "Sample Output 0\n",
    "\n",
    "ABCD\n",
    "EFGH\n",
    "IJKL\n",
    "IMNO\n",
    "QRST\n",
    "UVWX\n",
    "YZ"
   ]
  },
  {
   "cell_type": "markdown",
   "id": "ed58a73b",
   "metadata": {},
   "source": [
    "### this is done with the help of textwrap module "
   ]
  },
  {
   "cell_type": "code",
   "execution_count": 81,
   "id": "0fad2282",
   "metadata": {},
   "outputs": [
    {
     "name": "stdout",
     "output_type": "stream",
     "text": [
      "ABCDEFGHIJKLIMNOQRSTUVWXYZ\n",
      "4\n",
      "ABCD\n",
      "EFGH\n",
      "IJKL\n",
      "IMNO\n",
      "QRST\n",
      "UVWX\n",
      "YZ\n"
     ]
    }
   ],
   "source": [
    "import textwrap\n",
    "\n",
    "def wrap(string, max_width):\n",
    "    return \"\\n\".join(textwrap.wrap(string,max_width))\n",
    "    \n",
    "    \n",
    "    # j=1\n",
    "    # for i in string:\n",
    "    #     if j<=4:\n",
    "    #         print(i,end=\"\")\n",
    "    #         j+=1\n",
    "    #     else:\n",
    "    #         print()\n",
    "    #         j=2\n",
    "    #         print(i,end=\"\")\n",
    "    # return \n",
    "\n",
    "if __name__ == '__main__':\n",
    "    string, max_width = input(), int(input())\n",
    "    result = wrap(string, max_width)\n",
    "    print(result)"
   ]
  },
  {
   "cell_type": "raw",
   "id": "02c06581",
   "metadata": {},
   "source": [
    "Textwrap\n",
    "The textwrap module provides two convenient functions: wrap() and fill().\n",
    "\n",
    "textwrap.wrap()\n",
    "The wrap() function wraps a single paragraph in text (a string) so that every line is width characters long at most.\n",
    "It returns a list of output lines.\n",
    "\n",
    ">>> import textwrap\n",
    ">>> string = \"This is a very very very very very long string.\"\n",
    ">>> print textwrap.wrap(string,8)\n",
    "['This is', 'a very', 'very', 'very', 'very', 'very', 'long', 'string.'] \n",
    "\n",
    "\n",
    "textwrap.fill()\n",
    "The fill() function wraps a single paragraph in text and returns a single string containing the wrapped paragraph.\n",
    "\n",
    ">>> import textwrap\n",
    ">>> string = \"This is a very very very very very long string.\"\n",
    ">>> print textwrap.fill(string,8)\n",
    "This is\n",
    "a very\n",
    "very\n",
    "very\n",
    "very\n",
    "very\n",
    "long\n",
    "string."
   ]
  },
  {
   "cell_type": "code",
   "execution_count": 83,
   "id": "6d633043",
   "metadata": {},
   "outputs": [
    {
     "name": "stdout",
     "output_type": "stream",
     "text": [
      "ABCD\n",
      "EFGH\n",
      "IJKL\n",
      "IMNO\n",
      "QRST\n",
      "UVWX\n",
      "YZ\n"
     ]
    }
   ],
   "source": [
    "string =\"ABCDEFGHIJKLIMNOQRSTUVWXYZ\"\n",
    "print(textwrap.fill(string,4) ) \n",
    "#it is change to directlt to string and also add the \"\\n\" change line character"
   ]
  },
  {
   "cell_type": "markdown",
   "id": "5fa3b905",
   "metadata": {},
   "source": []
  },
  {
   "cell_type": "code",
   "execution_count": null,
   "id": "19648088",
   "metadata": {},
   "outputs": [],
   "source": []
  }
 ],
 "metadata": {
  "kernelspec": {
   "display_name": "Python 3",
   "language": "python",
   "name": "python3"
  },
  "language_info": {
   "codemirror_mode": {
    "name": "ipython",
    "version": 3
   },
   "file_extension": ".py",
   "mimetype": "text/x-python",
   "name": "python",
   "nbconvert_exporter": "python",
   "pygments_lexer": "ipython3",
   "version": "3.8.5"
  }
 },
 "nbformat": 4,
 "nbformat_minor": 5
}
