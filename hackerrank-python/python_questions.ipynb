{
 "cells": [
  {
   "cell_type": "markdown",
   "id": "090e0754",
   "metadata": {},
   "source": [
    "# SET (remove, discard,pop)"
   ]
  },
  {
   "cell_type": "raw",
   "id": "787b4f5e",
   "metadata": {},
   "source": [
    ".remove(x)\n",
    "This operation removes element x from the set.\n",
    "If element x does not exist, it raises a KeyError.\n",
    "The .remove(x) operation returns None\n",
    "Example\n",
    "\n",
    ">>> s = set([1, 2, 3, 4, 5, 6, 7, 8, 9])\n",
    ">>> s.remove(5)\n",
    ">>> print s\n",
    "set([1, 2, 3, 4, 6, 7, 8, 9])\n",
    ">>> print s.remove(4)\n",
    "None\n",
    ">>> print s\n",
    "set([1, 2, 3, 6, 7, 8, 9])\n",
    ">>> s.remove(0)\n",
    "KeyError: 0"
   ]
  },
  {
   "cell_type": "raw",
   "id": "3f2da184",
   "metadata": {},
   "source": [
    ".discard(x)\n",
    "This operation also removes element x from the set.\n",
    "If element x does not exist, it does not raise a KeyError.\n",
    "The .discard(x) operation returns None.\n",
    "Example\n",
    "\n",
    ">>> s = set([1, 2, 3, 4, 5, 6, 7, 8, 9])\n",
    ">>> s.discard(5)\n",
    ">>> print s\n",
    "set([1, 2, 3, 4, 6, 7, 8, 9])\n",
    ">>> print s.discard(4)\n",
    "None\n",
    ">>> print s\n",
    "set([1, 2, 3, 6, 7, 8, 9])\n",
    ">>> s.discard(0)\n",
    ">>> print s\n",
    "set([1, 2, 3, 6, 7, 8, 9])"
   ]
  },
  {
   "cell_type": "raw",
   "id": "20332545",
   "metadata": {},
   "source": [
    ".pop()\n",
    "This operation removes and return an arbitrary element from the set.\n",
    "If there are no elements to remove, it raises a KeyError.\n",
    "\n",
    "Example\n",
    ">>> s = set([1])\n",
    ">>> print s.pop()\n",
    "1\n",
    ">>> print s\n",
    "set([])\n",
    ">>> print s.pop()\n",
    "KeyError: pop from an empty set"
   ]
  },
  {
   "cell_type": "markdown",
   "id": "8e71537a",
   "metadata": {},
   "source": [
    "# list comprehention"
   ]
  },
  {
   "cell_type": "code",
   "execution_count": 1,
   "id": "cb9325ed",
   "metadata": {},
   "outputs": [
    {
     "name": "stdout",
     "output_type": "stream",
     "text": [
      "1\n",
      "1\n",
      "1\n",
      "2\n",
      "[[0, 0, 0], [0, 0, 1], [0, 1, 0], [1, 0, 0], [1, 1, 1]]\n"
     ]
    }
   ],
   "source": [
    "if __name__ == '__main__':\n",
    "    x = int(input())\n",
    "    y = int(input())\n",
    "    z = int(input())\n",
    "    n = int(input())\n",
    "    \n",
    "    per_list=[[i,j,k] for i in range(x+1) for j in range(y+1) for k in range(z+1) if (i+j+k) != n]\n",
    "    print(per_list)"
   ]
  },
  {
   "cell_type": "markdown",
   "id": "7e2a615a",
   "metadata": {},
   "source": [
    "# Find the Runner-Up Score!"
   ]
  },
  {
   "cell_type": "markdown",
   "id": "d9fbe531",
   "metadata": {},
   "source": [
    "Given the participants' score sheet for your University Sports Day, you are required to find the runner-up score. You are given  scores. Store them in a list and find the score of the runner-up.\n",
    "Explanation 0\n",
    "\n",
    "Given list is [2,3,6,6,5]. The maximum score is 6, second maximum is 5. Hence, we print 5 as the runner-up score."
   ]
  },
  {
   "cell_type": "code",
   "execution_count": null,
   "id": "7e56c29a",
   "metadata": {},
   "outputs": [],
   "source": [
    "if __name__ == '__main__':\n",
    "    n = int(input())\n",
    "    arr = map(int, input().split())\n",
    "    arr=list(arr)\n",
    "    a=0\n",
    "    \n",
    "    arr.sort()\n",
    "    # print(arr)\n",
    "    b=arr[-1]\n",
    "    for  i in arr[::-1]:\n",
    "        if i < b:\n",
    "            a=i\n",
    "            break    \n",
    "    print(i)"
   ]
  },
  {
   "cell_type": "markdown",
   "id": "a2fe9390",
   "metadata": {},
   "source": [
    "# Nested Lists\n",
    "\n"
   ]
  },
  {
   "cell_type": "markdown",
   "id": "e9cb8590",
   "metadata": {},
   "source": [
    "Given the names and grades for each student in a class of N students, store them in a nested list and print the name(s) of any student(s) having the second lowest grade.\n",
    "Print the name(s) of any student(s) having the second lowest grade in. If there are multiple students, order their names alphabetically and print each one on a new line.\n",
    "\n",
    "Note: If there are multiple students with the second lowest grade, order their names alphabetically and print each name on a new line.\n",
    "\n",
    "There are  students in this class whose names and grades are assembled to build the following list:\n",
    "\n",
    "python students = [['Harry', 37.21], ['Berry', 37.21], ['Tina', 37.2], ['Akriti', 41], ['Harsh', 39]]\n",
    "\n",
    "The lowest grade of 37.21  belongs to Tina. The second lowest grade of 37.21 belongs to both Harry and Berry, so we order their names alphabetically and print each name on a new line."
   ]
  },
  {
   "cell_type": "code",
   "execution_count": null,
   "id": "2cda5303",
   "metadata": {},
   "outputs": [],
   "source": [
    "student=[]\n",
    "a=set() # by making set we don't allow the repetion of value i.e we only get unique  value so by this  we can easly get the lowest second value  \n",
    "if __name__ == '__main__':\n",
    "    \n",
    "    for _ in range(int(input())):\n",
    "        name = input()\n",
    "        score = float(input())\n",
    "        student.append([name,score])\n",
    "        a.add(score)\n",
    "    \n",
    "    a=sorted(a)\n",
    "    # a=tuple(a)\n",
    "    # print(a)\n",
    "    b=[student[j][0] for j in range(len(student)) if student[j][1] == a[1]]\n",
    "b=sorted(b)\n",
    "for i in b:\n",
    "    print(i)\n",
    "\n"
   ]
  },
  {
   "cell_type": "markdown",
   "id": "d6d51f66",
   "metadata": {},
   "source": [
    "# Finding the percentage\n"
   ]
  },
  {
   "cell_type": "markdown",
   "id": "1f5587f4",
   "metadata": {},
   "source": [
    "The provided code stub will read in a dictionary containing key/value pairs of name:[marks] for a list of students. Print the average of the marks array for the student name provided, showing 2 places after the decimal.\n",
    "Output Format\n",
    "\n",
    "Print one line: The average of the marks obtained by the particular student correct to 2 decimal places.\n",
    "\n",
    "Sample Input 0\n",
    "\n",
    "3\n",
    "Krishna 67 68 69\n",
    "Arjun 70 98 63\n",
    "Malika 52 56 60\n",
    "Malika\n",
    "Sample Output 0\n",
    "\n",
    "56.00"
   ]
  },
  {
   "cell_type": "code",
   "execution_count": null,
   "id": "b780f6bb",
   "metadata": {},
   "outputs": [],
   "source": [
    "if __name__ == '__main__':\n",
    "    n = int(input())\n",
    "    student_marks = {}\n",
    "    for _ in range(n):\n",
    "        name, *line = input().split()\n",
    "        scores = list(map(float, line))\n",
    "        student_marks[name] = scores\n",
    "    query_name = input()\n",
    "    a=0\n",
    "    # for i,j in student_marks.keys():\n",
    "        # if i is query_name:\n",
    "        \n",
    "    k=student_marks[query_name]\n",
    "    a=sum(k)/len(k)\n",
    "    # a=float(a)    \n",
    "    a=str(round(a,2))\n",
    "    # print(len(a))\n",
    "    if len(a) <=4:\n",
    "        print(a+\"0\")\n",
    "    else:\n",
    "        print(a)"
   ]
  },
  {
   "cell_type": "markdown",
   "id": "864e9d83",
   "metadata": {},
   "source": [
    "# Lists\n",
    "\n"
   ]
  },
  {
   "cell_type": "markdown",
   "id": "1336d26b",
   "metadata": {},
   "source": [
    "consider a list (list = []). You can perform the following commands:\n",
    "\n",
    "insert i e: Insert integer e  at position i.\n",
    "print: Print the list.\n",
    "remove e: Delete the first occurrence of integer e .\n",
    "append e: Insert integer e at the end of the list.\n",
    "sort: Sort the list.\n",
    "pop: Pop the last element from the list.\n",
    "reverse: Reverse the list.\n",
    "Initialize your list and read in the value of n  followed by n lines of commands where each command will be of the 7 types listed above. Iterate through each command in order and perform the corresponding operation on your list.\n",
    "\n",
    "Sample Input 0\n",
    "\n",
    "12\n",
    "insert 0 5\n",
    "insert 1 10\n",
    "insert 0 6\n",
    "print\n",
    "remove 6\n",
    "append 9\n",
    "append 1\n",
    "sort\n",
    "print\n",
    "pop\n",
    "reverse\n",
    "print\n",
    "Sample Output 0\n",
    "\n",
    "[6, 5, 10]\n",
    "[1, 5, 9, 10]\n",
    "[9, 5, 1]"
   ]
  },
  {
   "cell_type": "code",
   "execution_count": null,
   "id": "f82af90b",
   "metadata": {},
   "outputs": [],
   "source": [
    "if __name__ == '__main__':\n",
    "    N = int(input())\n",
    "    a=[]\n",
    "    for i in range(N):\n",
    "        w,*e=input().split(\" \") #we use *e , if we have any uncertainity the no. argument passed (it will be treated as list)\n",
    "        # print(w,e,r,sep=\"-\")\n",
    "        if w == \"insert\" :\n",
    "            a.insert(int(e[0]),int(e[1]))\n",
    "        elif w == 'append':\n",
    "            a.append(int(e[0]))\n",
    "        elif w == 'remove':\n",
    "            # print(e)\n",
    "            a.remove(int(e[0]))\n",
    "        elif w == 'reverse':\n",
    "            a.reverse()\n",
    "        elif w == 'print':\n",
    "            print(a)\n",
    "        elif w == 'pop':\n",
    "            a.pop()\n",
    "        elif w == 'sort':\n",
    "            a.sort()\n",
    "        else:\n",
    "            print(w)\n",
    "        "
   ]
  },
  {
   "cell_type": "markdown",
   "id": "402a0211",
   "metadata": {},
   "source": [
    "# positional argument"
   ]
  },
  {
   "cell_type": "markdown",
   "id": "5e5a1c6c",
   "metadata": {},
   "source": [
    "Unpacking a function using positional argument.\n",
    "This method is very useful while printing your data in a raw format (without any comma and brackets ). Many of the programmer try to remove comma and bracket by using a convolution of functions, Hence this simple prefix asterisk can solve your problem in unpacking them.  \n"
   ]
  },
  {
   "cell_type": "code",
   "execution_count": 1,
   "id": "c94e6ea2",
   "metadata": {},
   "outputs": [
    {
     "name": "stdout",
     "output_type": "stream",
     "text": [
      "sunday monday tuesday wednesday\n",
      "sunday monday tuesday wednesday\n"
     ]
    }
   ],
   "source": [
    "\n",
    "arr = ['sunday', 'monday', 'tuesday', 'wednesday']\n",
    "  \n",
    "# without using asterisk\n",
    "print(' '.join(map(str,arr))) \n",
    "  \n",
    "# using asterisk\n",
    "print (*arr)"
   ]
  },
  {
   "cell_type": "code",
   "execution_count": 2,
   "id": "f9d375e1",
   "metadata": {},
   "outputs": [
    {
     "name": "stdout",
     "output_type": "stream",
     "text": [
      "cherry is a fruit\n",
      "potato is a vegetable\n",
      "srikrishna is a boy\n"
     ]
    }
   ],
   "source": [
    "# using asterisk\n",
    "def food(**kwargs):\n",
    "  for items in kwargs:\n",
    "    print(f\"{kwargs[items]} is a {items}\")\n",
    "      \n",
    "      \n",
    "food(fruit = 'cherry', vegetable = 'potato', boy = 'srikrishna')"
   ]
  },
  {
   "cell_type": "markdown",
   "id": "04ffe924",
   "metadata": {},
   "source": [
    "Just another example of using **kwargs, for much better understanding."
   ]
  },
  {
   "cell_type": "code",
   "execution_count": 4,
   "id": "87b6d000",
   "metadata": {},
   "outputs": [
    {
     "name": "stdout",
     "output_type": "stream",
     "text": [
      "cherry is a fruit\n",
      "potato is a vegetable\n",
      "srikrishna is a boy\n"
     ]
    }
   ],
   "source": [
    "\n",
    "# using asterisk\n",
    "def food(**kwargs):\n",
    "  for items in kwargs:\n",
    "    print(f\"{kwargs[items]} is a {items}\")\n",
    "      \n",
    "      \n",
    "dict = {'fruit' : 'cherry', 'vegetable' : 'potato', 'boy' : 'srikrishna'}\n",
    "# using asterisk\n",
    "food(**dict)"
   ]
  },
  {
   "cell_type": "markdown",
   "id": "3c41311c",
   "metadata": {},
   "source": [
    "# Python hash() method"
   ]
  },
  {
   "cell_type": "markdown",
   "id": "56f71a73",
   "metadata": {},
   "source": [
    "Python offers hash() method to encode the data into unrecognisable value."
   ]
  },
  {
   "cell_type": "markdown",
   "id": "f20ec2f4",
   "metadata": {},
   "source": [
    "Syntax : hash(obj)\n",
    "\n",
    "Parameters :\n",
    "obj : The object which we need to convert into hash.\n",
    "\n",
    "Returns : Returns the hashed value if possible.\n",
    "\n"
   ]
  },
  {
   "cell_type": "markdown",
   "id": "d0b8c9c0",
   "metadata": {},
   "source": [
    "### Properties of hash() ->"
   ]
  },
  {
   "cell_type": "markdown",
   "id": "01a51989",
   "metadata": {},
   "source": [
    "\n",
    "\n",
    "Objects hashed using hash() are irreversible, leading to loss of information.\n",
    "hash() returns hashed value only for immutable objects, hence can be used as an indicator to check for mutable/immutable objects."
   ]
  },
  {
   "cell_type": "code",
   "execution_count": 5,
   "id": "3ccdb80c",
   "metadata": {},
   "outputs": [
    {
     "name": "stdout",
     "output_type": "stream",
     "text": [
      "The tuple hash value is : -5659871693760987716\n"
     ]
    },
    {
     "ename": "TypeError",
     "evalue": "unhashable type: 'list'",
     "output_type": "error",
     "traceback": [
      "\u001b[0;31m---------------------------------------------------------------------------\u001b[0m",
      "\u001b[0;31mTypeError\u001b[0m                                 Traceback (most recent call last)",
      "\u001b[0;32m<ipython-input-5-9e37c4fdafbc>\u001b[0m in \u001b[0;36m<module>\u001b[0;34m\u001b[0m\n\u001b[1;32m     13\u001b[0m \u001b[0;31m# to convert mutable object\u001b[0m\u001b[0;34m\u001b[0m\u001b[0;34m\u001b[0m\u001b[0;34m\u001b[0m\u001b[0m\n\u001b[1;32m     14\u001b[0m \u001b[0mprint\u001b[0m \u001b[0;34m(\u001b[0m\u001b[0;34m\"The tuple hash value is : \"\u001b[0m \u001b[0;34m+\u001b[0m \u001b[0mstr\u001b[0m\u001b[0;34m(\u001b[0m\u001b[0mhash\u001b[0m\u001b[0;34m(\u001b[0m\u001b[0mtuple_val\u001b[0m\u001b[0;34m)\u001b[0m\u001b[0;34m)\u001b[0m\u001b[0;34m)\u001b[0m\u001b[0;34m\u001b[0m\u001b[0;34m\u001b[0m\u001b[0m\n\u001b[0;32m---> 15\u001b[0;31m \u001b[0mprint\u001b[0m \u001b[0;34m(\u001b[0m\u001b[0;34m\"The list hash value is : \"\u001b[0m \u001b[0;34m+\u001b[0m \u001b[0mstr\u001b[0m\u001b[0;34m(\u001b[0m\u001b[0mhash\u001b[0m\u001b[0;34m(\u001b[0m\u001b[0mlist_val\u001b[0m\u001b[0;34m)\u001b[0m\u001b[0;34m)\u001b[0m\u001b[0;34m)\u001b[0m\u001b[0;34m\u001b[0m\u001b[0;34m\u001b[0m\u001b[0m\n\u001b[0m",
      "\u001b[0;31mTypeError\u001b[0m: unhashable type: 'list'"
     ]
    }
   ],
   "source": [
    "\n",
    "# Python 3 code to demonstrate \n",
    "# property of hash()\n",
    "  \n",
    "# initializing objects\n",
    "# tuple are immutable\n",
    "tuple_val = (1, 2, 3, 4, 5)\n",
    "  \n",
    "# list are mutable\n",
    "list_val = [1, 2, 3, 4, 5]\n",
    "  \n",
    "# Printing the hash values.\n",
    "# Notice exception when trying\n",
    "# to convert mutable object\n",
    "print (\"The tuple hash value is : \" + str(hash(tuple_val)))\n",
    "print (\"The list hash value is : \" + str(hash(list_val)))"
   ]
  },
  {
   "cell_type": "markdown",
   "id": "79c70922",
   "metadata": {},
   "source": [
    "# Find Angle MBC\n"
   ]
  },
  {
   "cell_type": "markdown",
   "id": "02dc0e3c",
   "metadata": {},
   "source": [
    "### degrees() and radians() in Python"
   ]
  },
  {
   "cell_type": "markdown",
   "id": "dd42a031",
   "metadata": {},
   "source": [
    "radians()\n",
    "This function accepts the “degrees” as input and converts it into its radians equivalent.\n",
    "\n",
    "Syntax : radians(deg)\n",
    "\n",
    "Parameters :\n",
    "deg : The degrees value that one needs to convert into radians"
   ]
  },
  {
   "cell_type": "markdown",
   "id": "95ad826a",
   "metadata": {},
   "source": [
    "degrees()\n",
    "This function accepts the “radians” as input and converts it into its degrees equivalent.\n",
    "\n",
    "Syntax : degrees(rad)\n",
    "\n",
    "Parameters :\n",
    "rad : The radians value that one needs to convert into degrees.\n",
    "\n",
    "Returns : This function returns the floating point degrees equivalent of argument.\n",
    "Computational Equivalent : 1 Degrees = pi/180 Radians."
   ]
  },
  {
   "cell_type": "code",
   "execution_count": 8,
   "id": "e059ed4b",
   "metadata": {},
   "outputs": [
    {
     "name": "stdout",
     "output_type": "stream",
     "text": [
      "180 Degrees is equal to Radians : 3.141592653589793\n",
      "180 Radians is equal to Degrees : 10313.240312354817\n"
     ]
    }
   ],
   "source": [
    "import math\n",
    "print(\"180 Degrees is equal to Radians : \", end =\"\")\n",
    "print (math.radians(180))\n",
    "print(\"180 Radians is equal to Degrees : \", end =\"\")\n",
    "print (math.degrees(180))"
   ]
  },
  {
   "cell_type": "code",
   "execution_count": 11,
   "id": "c4cc329c",
   "metadata": {},
   "outputs": [
    {
     "name": "stdout",
     "output_type": "stream",
     "text": [
      "12\n",
      "12\n",
      "45°\n"
     ]
    }
   ],
   "source": [
    "# Enter your code here. Read input from STDIN. Print output to STDOUT\n",
    "import math\n",
    "AB=int(input())\n",
    "BC=int(input())\n",
    "# AC=math.sqrt(math.pow(AB,2)+math.pow(BC,2))\n",
    "AC=math.hypot(AB,BC)                      #to calculate hypotenuse\n",
    "\n",
    "# print(AC)\n",
    "MC=AC/2\n",
    "# print(MC)\n",
    "MBC =  math.acos(BC/AC) # here we are using inverse sin which gives the result in radian so for degree we have to change it manually\n",
    "\n",
    "# MBC_degree = round((360*MBC)/(2*math.pi))\n",
    "MBC_degree = round( math.degrees(MBC))\n",
    "# degree_sign= u'\\N{DEGREE SIGN}'\n",
    "degree_sign=chr(176) \n",
    "print(MBC_degree,degree_sign,sep=\"\")\n",
    "\n",
    "\n",
    "\n",
    "# import math\n",
    "# AB,BC=int(input()),int(input())\n",
    "# AC=math.hypot(AB,BC)                      #to calculate hypotenuse\n",
    "# res=round(math.degrees(math.acos(BC/AC))) #to calculate required angle \n",
    "# degree=chr(176)                                #for DEGREE symbol\n",
    "# print(res,degree, sep='')\n",
    "\n",
    "#"
   ]
  },
  {
   "cell_type": "markdown",
   "id": "69aa5b53",
   "metadata": {},
   "source": [
    "# Triangle Quest 2\n"
   ]
  },
  {
   "cell_type": "markdown",
   "id": "7e1c61be",
   "metadata": {},
   "source": [
    "You are given a positive integer N .\n",
    "Your task is to print a palindromic triangle of size N.\n",
    "\n",
    "For example, a palindromic triangle of size 5 is:\n",
    "\n",
    "1\n",
    "\n",
    "121\n",
    "\n",
    "12321\n",
    "\n",
    "1234321\n",
    "\n",
    "123454321\n",
    "\n",
    "\n",
    "You can't take more than two lines. The first line (a for-statement) is already written for you.\n",
    "You have to complete the code using exactly one print statement.\n",
    "\n",
    "Note:\n",
    "Using anything related to strings will give a score of 0.\n",
    "Using more than one for-statement will give a score of 0 ."
   ]
  },
  {
   "cell_type": "code",
   "execution_count": 12,
   "id": "4e2dbc77",
   "metadata": {},
   "outputs": [
    {
     "name": "stdout",
     "output_type": "stream",
     "text": [
      "5\n",
      "1\n",
      "121\n",
      "12321\n",
      "1234321\n",
      "123454321\n"
     ]
    }
   ],
   "source": [
    "for i in range(1,int(input())+1): #More than 2 lines will result in 0 score. Do not leave a blank line also\n",
    "    print(*[i for i in range(1,i)],*[j for j in range(i,0,-1)],sep=\"\")\n"
   ]
  },
  {
   "cell_type": "code",
   "execution_count": 13,
   "id": "bf915de3",
   "metadata": {},
   "outputs": [
    {
     "name": "stdout",
     "output_type": "stream",
     "text": [
      "6\n",
      "1\n",
      "121\n",
      "12321\n",
      "1234321\n",
      "123454321\n",
      "12345654321\n"
     ]
    }
   ],
   "source": [
    "# we here find by using one for loop as the only one for loop is allowed\n",
    "for i in range(1,int(input())+1): #More than 2 lines will result in 0 score. Do not leave a blank line also\n",
    "    print(((10**i)//9)**2) #it is just square of 1,11,111,1111,1111"
   ]
  },
  {
   "cell_type": "markdown",
   "id": "6629368c",
   "metadata": {},
   "source": [
    "\n",
    "# Mod Divmod"
   ]
  },
  {
   "cell_type": "raw",
   "id": "7a438f66",
   "metadata": {},
   "source": [
    "One of the built-in functions of Python is divmod, which takes two arguments a  and b and returns a tuple containing the quotient of a/b first and then the remainder a.\n",
    "\n",
    "For example:\n",
    "\n",
    ">>> print divmod(177,10)\n",
    "(17, 7)\n",
    "\n",
    "here 17 is the quotient and 7 is the remainder\n",
    "Here, the integer division is 177//10 => 17 and the modulo operator is 177%10 => 7."
   ]
  },
  {
   "cell_type": "code",
   "execution_count": 18,
   "id": "2c143891",
   "metadata": {},
   "outputs": [
    {
     "name": "stdout",
     "output_type": "stream",
     "text": [
      "177\n",
      "10\n",
      "17\n",
      "7\n",
      "(17, 7)\n"
     ]
    }
   ],
   "source": [
    "\n",
    "# Enter your code here. Read input from STDIN. Print output to STDOUT\n",
    "a=int(input())\n",
    "b=int(input())\n",
    "print(a//b)\n",
    "print(a%b)\n",
    "print(divmod(a,b))\n",
    "\n"
   ]
  },
  {
   "cell_type": "markdown",
   "id": "a2d2463c",
   "metadata": {},
   "source": [
    "# Power - Mod Powe"
   ]
  },
  {
   "cell_type": "raw",
   "id": "a495aae8",
   "metadata": {},
   "source": [
    "So far, we have only heard of Python's powers. Now, we will witness them!\n",
    "\n",
    "Powers or exponents in Python can be calculated using the built-in power function. Call the power function  as shown below:\n",
    "\n",
    ">>> pow(a,b) \n",
    "or\n",
    "\n",
    ">>> a**b\n",
    "\n",
    "pow(x, y, z)\n",
    "x\n",
    "\n",
    "Equivalent to x**y (with two arguments) or (x**y) % z (with three arguments)\n",
    "\n",
    "Some types, such as ints, are able to use a more efficient algorithm when invoked using the three argument form."
   ]
  },
  {
   "cell_type": "code",
   "execution_count": 21,
   "id": "15a67e85",
   "metadata": {},
   "outputs": [
    {
     "name": "stdout",
     "output_type": "stream",
     "text": [
      "3\n",
      "4\n",
      "5\n",
      "81\n",
      "1\n"
     ]
    }
   ],
   "source": [
    "# Enter your code here. Read input from STDIN. Print output to STDOUT\n",
    "a=int(input())\n",
    "b=int(input())\n",
    "m=int(input())\n",
    "\n",
    "\n",
    "print(pow(a,b))\n",
    "print(pow(a,b,m))"
   ]
  },
  {
   "cell_type": "markdown",
   "id": "e5988b6f",
   "metadata": {},
   "source": [
    "# Triangle Quest\n",
    " "
   ]
  },
  {
   "cell_type": "markdown",
   "id": "a949b160",
   "metadata": {},
   "source": [
    "Sample Input\n",
    "\n",
    "5\n",
    "Sample Output\n",
    "\n",
    "1\n",
    "22\n",
    "333\n",
    "4444\n",
    "\n",
    "Can you do it using only arithmetic operations, a single for loop and print statement?\n",
    "\n",
    "Use no more than two lines. The first line (the for statement) is already written for you. You have to complete the print statement.\n",
    "\n",
    "Note: Using anything related to strings will give a score of 0 ."
   ]
  },
  {
   "cell_type": "code",
   "execution_count": 22,
   "id": "906ba15e",
   "metadata": {},
   "outputs": [
    {
     "name": "stdout",
     "output_type": "stream",
     "text": [
      "5\n",
      "1\n",
      "22\n",
      "333\n",
      "4444\n"
     ]
    }
   ],
   "source": [
    "for i in range(1,int(input())): #More than 2 lines will result in 0 score. Do not leave a blank line also\n",
    "    print(((10**i)//9)*i)"
   ]
  },
  {
   "cell_type": "markdown",
   "id": "39d85706",
   "metadata": {},
   "source": [
    "# Regex and Parsing -> Validating Credit Card Numbers\n"
   ]
  },
  {
   "cell_type": "raw",
   "id": "d1ffc9f7",
   "metadata": {},
   "source": [
    "You and Fredrick are good friends. Yesterday, Fredrick received N credit cards from ABCD Bank. He wants to verify whether his credit card numbers are valid or not. You happen to be great at regex so he is asking for your help!\n",
    "\n",
    "A valid credit card from ABCD Bank has the following characteristics:\n",
    "\n",
    "► It must start with a 4, 5 or 6.\n",
    "► It must contain exactly 16 digits.\n",
    "► It must only consist of digits (0-9).\n",
    "► It may have digits in groups of 4 , separated by one hyphen \"-\".\n",
    "► It must NOT use any other separator like ' ' , '_', etc.\n",
    "► It must NOT have 4 or more consecutive repeated digits.\n",
    "\n",
    "Examples:\n",
    "\n",
    "Valid Credit Card Numbers\n",
    "\n",
    "4253625879615786\n",
    "4424424424442444\n",
    "5122-2368-7954-3214\n",
    "Invalid Credit Card Numbers\n",
    "\n",
    "42536258796157867       #17 digits in card number → Invalid \n",
    "4424444424442444        #Consecutive digits are repeating 4 or more times → Invalid\n",
    "5122-2368-7954 - 3214   #Separators other than '-' are used → Invalid\n",
    "44244x4424442444        #Contains non digit characters → Invalid\n",
    "0525362587961578        #Doesn't start with 4, 5 or 6 → Invalid"
   ]
  },
  {
   "cell_type": "code",
   "execution_count": 4,
   "id": "4346cf0d",
   "metadata": {},
   "outputs": [
    {
     "name": "stdout",
     "output_type": "stream",
     "text": [
      "5\n",
      "42536258796157867\n",
      "4424444424442444 \n",
      "5122-2368-7954 - 3214\n",
      "5122-2368-7954-3214\n",
      "0525362587961578\n",
      "Invalid\n",
      "Invalid\n",
      "Invalid\n",
      "Valid\n",
      "Invalid\n"
     ]
    }
   ],
   "source": [
    "# Enter your code here. Read input from STDIN. Print output to STDOUT\n",
    "n=int(input())\n",
    "a=[]\n",
    "import re\n",
    "for i in range(n):\n",
    "    a.append(input())\n",
    "    \n",
    "for i in a:\n",
    "    \n",
    "    # i=re.sub(\"[\\D]\",\"\",i) # re.sub not directly replace into the original string\n",
    "    # print(i)\n",
    "    if (re.fullmatch(r\"[4,5,6]\\d\\d\\d-\\d\\d\\d\\d-\\d\\d\\d\\d-\\d\\d\\d\\d\",i)and len(i) == 19 or re.fullmatch(r\"[4,5,6]\\d*\",i) and len(i) == 16)  :\n",
    "        print(\"Valid\") \n",
    "    else:\n",
    "        print(\"Invalid\")\n"
   ]
  },
  {
   "cell_type": "markdown",
   "id": "0f26ea19",
   "metadata": {},
   "source": [
    "# sWAP cASE\n"
   ]
  },
  {
   "cell_type": "markdown",
   "id": "bfd90b2a",
   "metadata": {},
   "source": [
    "You are given a string and your task is to swap cases. In other words, convert all lowercase letters to uppercase letters and vice versa.\n",
    "\n",
    "Sample Input 0\n",
    "\n",
    "HackerRank.com presents \"Pythonist 2\".\n",
    "\n",
    "Sample Output 0\n",
    "\n",
    "hACKERrANK.COM PRESENTS \"pYTHONIST 2\"."
   ]
  },
  {
   "cell_type": "code",
   "execution_count": 1,
   "id": "d6107e99",
   "metadata": {},
   "outputs": [],
   "source": [
    "def swap_case(s):\n",
    "    \n",
    "   return(s.swapcase())\n",
    "   "
   ]
  },
  {
   "cell_type": "markdown",
   "id": "8ccbab09",
   "metadata": {},
   "source": [
    "# String Split and Join\n"
   ]
  },
  {
   "cell_type": "raw",
   "id": "814a115d",
   "metadata": {},
   "source": [
    "In Python, a string can be split on a delimiter.\n",
    "\n",
    "Example:\n",
    "\n",
    ">>> a = \"this is a string\"\n",
    ">>> a = a.split(\" \") # a is converted to a list of strings. \n",
    ">>> print a\n",
    "['this', 'is', 'a', 'string']\n",
    "\n",
    "Joining a string is simple:\n",
    "\n",
    ">>> a = \"-\".join(a)\n",
    ">>> print a\n",
    "this-is-a-string "
   ]
  },
  {
   "cell_type": "code",
   "execution_count": null,
   "id": "6300857f",
   "metadata": {},
   "outputs": [],
   "source": [
    "def split_and_join(line):\n",
    "    # write your code here\n",
    "    line=line.split(\" \")\n",
    "    line=\"-\".join(line)\n",
    "    return (line)\n"
   ]
  },
  {
   "cell_type": "markdown",
   "id": "7713db47",
   "metadata": {},
   "source": [
    "# Mutations\n"
   ]
  },
  {
   "cell_type": "raw",
   "id": "ca46db1c",
   "metadata": {},
   "source": [
    "We have seen that lists are mutable (they can be changed), and tuples are immutable (they cannot be changed).\n",
    "\n",
    "Let's try to understand this with an example.\n",
    "\n",
    "You are given an immutable string, and you want to make changes to it.\n",
    "\n",
    "1.) One solution is to convert the string to a list and then change the value.\n",
    "Example\n",
    "\n",
    ">>> string = \"abracadabra\"\n",
    ">>> l = list(string)\n",
    ">>> l[5] = 'k'\n",
    ">>> string = ''.join(l)\n",
    ">>> print string\n",
    "abrackdabra\n",
    "2.) Another approach is to slice the string and join it back.\n",
    "Example\n",
    "\n",
    ">>> string = string[:5] + \"k\" + string[6:]\n",
    ">>> print string\n",
    "abrackdabra"
   ]
  },
  {
   "cell_type": "code",
   "execution_count": 2,
   "id": "8a3e5553",
   "metadata": {},
   "outputs": [],
   "source": [
    "def mutate_string(string, position, character):\n",
    "    list_string=list(string)\n",
    "    list_string[position]=character\n",
    "    string =\"\".join(list_string)\n",
    "    return string"
   ]
  },
  {
   "cell_type": "markdown",
   "id": "d3651f4c",
   "metadata": {},
   "source": [
    "# Find a string\n"
   ]
  },
  {
   "cell_type": "markdown",
   "id": "9a6567d6",
   "metadata": {},
   "source": [
    "## finding a overlapping pattern "
   ]
  },
  {
   "cell_type": "raw",
   "id": "7c354332",
   "metadata": {},
   "source": [
    "the user enters a string and a substring. You have to print the number of times that the substring occurs in the given string. String traversal will take place from left to right, not from right to left.\n",
    "\n",
    "NOTE: String letters are case-sensitive."
   ]
  },
  {
   "cell_type": "code",
   "execution_count": 4,
   "id": "4d313b65",
   "metadata": {},
   "outputs": [
    {
     "name": "stdout",
     "output_type": "stream",
     "text": [
      "ABCDCDC\n",
      "CDC\n",
      "2\n"
     ]
    }
   ],
   "source": [
    "def count_substring(string, sub_string):\n",
    "    # a=0\n",
    "    # a=[]\n",
    "    # b=len(sub_string)\n",
    "    # return (string.count(sub_string))\n",
    "    # # for i in range(1,len(string)-1):\n",
    "    #     # for j in range(len(sub_string):\n",
    "    #     # [a.append(string[i]) for i in len(sub_string)]\n",
    "    # import re\n",
    "    # a=re.findall(sub_string,string)\n",
    "    # return (len(a))\n",
    "    a=sum(1 for i in range(len(string)) if string.startswith(sub_string,i))\n",
    "    return(a)\n",
    "# as here we can't be able to use the count() or re.findall() as the string is overlapping\n",
    "if __name__ == '__main__':\n",
    "    string = input().strip()\n",
    "    sub_string = input().strip()\n",
    "    \n",
    "    count = count_substring(string, sub_string)\n",
    "    print(count)"
   ]
  },
  {
   "cell_type": "markdown",
   "id": "1da4b5b2",
   "metadata": {},
   "source": [
    "# re.search() ->"
   ]
  },
  {
   "cell_type": "markdown",
   "id": "f76c71c7",
   "metadata": {},
   "source": [
    "\n",
    "\n",
    "re.search() method either returns None (if the pattern doesn’t match), or a re.MatchObject that contains information about the matching part of the string. This method stops after the first match, so this is best suited for testing a regular expression more than extracting data."
   ]
  },
  {
   "cell_type": "code",
   "execution_count": 5,
   "id": "2494fc64",
   "metadata": {},
   "outputs": [
    {
     "name": "stdout",
     "output_type": "stream",
     "text": [
      "Match at index 14, 21\n",
      "Full match: June 24\n",
      "Month: June\n",
      "Day: 24\n"
     ]
    }
   ],
   "source": [
    "\n",
    "# A Python program to demonstrate working of re.match(). \n",
    "import re \n",
    "    \n",
    "# Lets use a regular expression to match a date string \n",
    "# in the form of Month name followed by day number \n",
    "regex = r\"([a-zA-Z]+) (\\d+)\"\n",
    "    \n",
    "match = re.search(regex, \"I was born on June 24\") \n",
    "    \n",
    "if match != None: \n",
    "    \n",
    "    # We reach here when the expression \"([a-zA-Z]+) (\\d+)\" \n",
    "    # matches the date string. \n",
    "    \n",
    "    # This will print [14, 21), since it matches at index 14 \n",
    "    # and ends at 21.  \n",
    "    print(\"Match at index % s, % s\" % (match.start(), match.end()))\n",
    "    \n",
    "    # We us group() method to get all the matches and \n",
    "    # captured groups. The groups contain the matched values. \n",
    "    # In particular: \n",
    "    # match.group(0) always returns the fully matched string \n",
    "    # match.group(1) match.group(2), ... return the capture \n",
    "    # groups in order from left to right in the input string \n",
    "    # match.group() is equivalent to match.group(0) \n",
    "    \n",
    "    # So this will print \"June 24\" \n",
    "    print(\"Full match: % s\" % (match.group(0)))\n",
    "    \n",
    "    # So this will print \"June\" \n",
    "    print(\"Month: % s\" % (match.group(1)))\n",
    "    \n",
    "    # So this will print \"24\" \n",
    "    print(\"Day: % s\" % (match.group(2)))\n",
    "    \n",
    "else: \n",
    "    print(\"The regex pattern does not match.\")"
   ]
  },
  {
   "cell_type": "markdown",
   "id": "42e33aee",
   "metadata": {},
   "source": [
    "# re.findall() ->"
   ]
  },
  {
   "cell_type": "markdown",
   "id": "8a59c0eb",
   "metadata": {},
   "source": [
    "\n",
    "Return all non-overlapping matches of pattern in string, as a list of strings. The string is scanned left-to-right, and matches are returned in the order found."
   ]
  },
  {
   "cell_type": "code",
   "execution_count": 6,
   "id": "d92df2b9",
   "metadata": {},
   "outputs": [
    {
     "name": "stdout",
     "output_type": "stream",
     "text": [
      "['123456789', '987654321']\n"
     ]
    }
   ],
   "source": [
    "\n",
    "# A Python program to demonstrate working of \n",
    "# findall() \n",
    "import re \n",
    "    \n",
    "# A sample text string where regular expression  \n",
    "# is searched. \n",
    "string = \"\"\"Hello my Number is 123456789 and \n",
    "             my friend's number is 987654321\"\"\"\n",
    "    \n",
    "# A sample regular expression to find digits. \n",
    "regex = '\\d+'             \n",
    "    \n",
    "match = re.findall(regex, string) \n",
    "print(match) "
   ]
  },
  {
   "cell_type": "markdown",
   "id": "a6395bb0",
   "metadata": {},
   "source": [
    "### Validating and Parsing Email Addresses\n"
   ]
  },
  {
   "cell_type": "code",
   "execution_count": null,
   "id": "1f86e96e",
   "metadata": {},
   "outputs": [],
   "source": []
  },
  {
   "cell_type": "code",
   "execution_count": 1,
   "id": "91fe9cbc",
   "metadata": {},
   "outputs": [
    {
     "name": "stdout",
     "output_type": "stream",
     "text": [
      "2\n",
      "DEXTER <dexter@hotmail.com>\n",
      "DEXTER <dexter@hotmail.com>\n",
      "VIRUS <virus!@variable.:p>\n"
     ]
    }
   ],
   "source": [
    "# Enter your code here. Read input from STDIN. Print output to STDOUT\n",
    "\n",
    "import re\n",
    "import email.utils\n",
    "N=int(input())\n",
    "pattern=r'^[a-zA-Z][\\w\\-\\.]+@[a-zA-Z]+\\.[a-zA-Z]{1,3}$'\n",
    "for _ in range(N):\n",
    "    S=input()\n",
    "    arr=email.utils.parseaddr(S)\n",
    "    if re.match(pattern,arr[1]):\n",
    "        print(S)"
   ]
  },
  {
   "cell_type": "markdown",
   "id": "b5aaef1b",
   "metadata": {},
   "source": [
    "##  Email.utils()\n"
   ]
  },
  {
   "cell_type": "code",
   "execution_count": 3,
   "id": "135237b5",
   "metadata": {},
   "outputs": [
    {
     "name": "stdout",
     "output_type": "stream",
     "text": [
      "('DOSHI', 'DOSHI@hackerrank.com')\n",
      "DOSHI <DOSHI@hackerrank.com>\n"
     ]
    }
   ],
   "source": [
    "import email.utils\n",
    "print (email.utils.parseaddr('DOSHI <DOSHI@hackerrank.com>'))\n",
    "print (email.utils.formataddr(('DOSHI', 'DOSHI@hackerrank.com')))"
   ]
  },
  {
   "cell_type": "markdown",
   "id": "16895406",
   "metadata": {},
   "source": [
    "## Hex Color Code\n"
   ]
  },
  {
   "cell_type": "code",
   "execution_count": 4,
   "id": "d5b7c661",
   "metadata": {},
   "outputs": [
    {
     "name": "stdout",
     "output_type": "stream",
     "text": [
      "11\n",
      "#BED\n",
      "{\n",
      "color: #FfFdF8; background-color:#aef;\n",
      "#FfFdF8\n",
      "#aef\n",
      "    font-size: 123px;\n",
      "background: -webkit-linear-gradient(top, #f9f9f9, #fff);\n",
      "#f9f9f9\n",
      "#fff\n",
      "}\n",
      "#Cab\n",
      "{\n",
      "background-color: #ABC;\n",
      "#ABC\n",
      "border: 2px dashed #fff;\n",
      "#fff\n",
      "}\n"
     ]
    }
   ],
   "source": [
    "# Enter your code here. Read input from STDIN. Print output to STDOUT\n",
    "import re\n",
    "# arr=[]\n",
    "n=int(input())\n",
    "for i in range(n):\n",
    "    a=input()\n",
    "    arr = re.findall(r\"([#][0-9A-Fa-f]{3,6})(?=[^'\\n '])\",a)\n",
    "    for i in arr:\n",
    "        if len(i)>1:\n",
    "            print(i)\n",
    "            \n",
    "\"\"\"\n",
    "OUTPUT \n",
    "\n",
    "#FfFdF8\n",
    "#aef\n",
    "#f9f9f9\n",
    "#fff\n",
    "#ABC\n",
    "#fff\n",
    "\n",
    "\"\"\"\n"
   ]
  },
  {
   "cell_type": "markdown",
   "id": "81bbf9eb",
   "metadata": {},
   "source": [
    "## HTML Parser - Part 1\n"
   ]
  },
  {
   "cell_type": "markdown",
   "id": "2b4c0e98",
   "metadata": {},
   "source": [
    "### HTML\n",
    "Hypertext Markup Language is a standard markup language used for creating World Wide Web pages.\n",
    "### Parsing\n",
    "Parsing is the process of syntactic analysis of a string of symbols. It involves resolving a string into its component parts and describing their syntactic roles.\n",
    "### HTMLParser\n",
    "An HTMLParser instance is fed HTML data and calls handler methods when start tags, end tags, text, comments, and other markup elements are encountered.\n"
   ]
  },
  {
   "cell_type": "code",
   "execution_count": 8,
   "id": "9225f4f8",
   "metadata": {},
   "outputs": [
    {
     "name": "stdout",
     "output_type": "stream",
     "text": [
      "Found a start tag  : html\n",
      "Found a start tag  : head\n",
      "Found a start tag  : title\n",
      "Found an end tag   : title\n",
      "Found an end tag   : head\n",
      "Found a start tag  : body\n",
      "Found a start tag  : h1\n",
      "Found an end tag   : h1\n",
      "Found an empty tag : br\n",
      "Found an end tag   : body\n",
      "Found an end tag   : html\n"
     ]
    }
   ],
   "source": [
    "from html.parser import HTMLParser\n",
    "\n",
    "# create a subclass and override the handler methods\n",
    "class MyHTMLParser(HTMLParser):\n",
    "    def handle_starttag(self, tag, attrs):\n",
    "        print (\"Found a start tag  :\", tag)\n",
    "    def handle_endtag(self, tag):\n",
    "        print (\"Found an end tag   :\", tag)\n",
    "    def handle_startendtag(self, tag, attrs):\n",
    "        print (\"Found an empty tag :\", tag)\n",
    "\n",
    "# instantiate the parser and fed it some HTML\n",
    "parser = MyHTMLParser()\n",
    "parser.feed(\"<html><head><title>HTML Parser - I</title></head>\"\n",
    "            +\"<body><h1>HackerRank</h1><br /></body></html>\")"
   ]
  },
  {
   "cell_type": "markdown",
   "id": "b49f8ead",
   "metadata": {},
   "source": [
    "### .handle_starttag(tag, attrs)\n"
   ]
  },
  {
   "cell_type": "raw",
   "id": "ed3e150e",
   "metadata": {},
   "source": [
    "\n",
    "This method is called to handle the start tag of an element. (For example:<div class='marks'>)\n",
    "The tag argument is the name of the tag converted to lowercase.\n",
    "The attrs argument is a list of (name, value) pairs containing the attributes found inside the tag’s <> brackets"
   ]
  },
  {
   "cell_type": "markdown",
   "id": "2e89499c",
   "metadata": {},
   "source": [
    "### .handle_endtag(tag)\n"
   ]
  },
  {
   "cell_type": "raw",
   "id": "4fccb708",
   "metadata": {},
   "source": [
    "\n",
    "This method is called to handle the end tag of an element. (For example: </div>)\n",
    "The tag argument is the name of the tag converted to lowercase."
   ]
  },
  {
   "cell_type": "markdown",
   "id": "f1c39706",
   "metadata": {},
   "source": [
    "### .handle_startendtag(tag,attrs)"
   ]
  },
  {
   "cell_type": "raw",
   "id": "91ebb1ae",
   "metadata": {},
   "source": [
    "\n",
    "\n",
    "This method is called to handle the empty tag of an element. (For example: <br />)\n",
    "The tag argument is the name of the tag converted to lowercase.\n",
    "The attrs argument is a list of (name, value) pairs containing the attributes found inside the tag’s <> brackets."
   ]
  },
  {
   "cell_type": "code",
   "execution_count": 11,
   "id": "c7f66de5",
   "metadata": {},
   "outputs": [
    {
     "name": "stdout",
     "output_type": "stream",
     "text": [
      "2\n",
      "<html><head><title>HTML Parser - I</title></head>\n",
      "<body data-modal-target class='1'><h1>HackerRank</h1><br /></body></html>\n",
      "Start : html\n",
      "Start : head\n",
      "Start : title\n",
      "End   : title\n",
      "End   : head\n",
      "Start : body\n",
      "-> data-modal-target > None\n",
      "-> class > 1\n",
      "Start : h1\n",
      "End   : h1\n",
      "Empty : br\n",
      "End   : body\n",
      "End   : html\n"
     ]
    }
   ],
   "source": [
    "from html.parser import HTMLParser\n",
    "class MyHTMLParser(HTMLParser):\n",
    "    def handle_starttag(self, tag, attrs):        \n",
    "        print ('Start :',tag)\n",
    "        for ele in attrs:\n",
    "            print ('->',ele[0],'>',ele[1])\n",
    "            \n",
    "    def handle_endtag(self, tag):\n",
    "        print ('End   :',tag)\n",
    "        \n",
    "    def handle_startendtag(self, tag, attrs):\n",
    "        print ('Empty :',tag)\n",
    "        for ele in attrs:\n",
    "            print ('->',ele[0],'>',ele[1])\n",
    "            \n",
    "MyParser = MyHTMLParser()\n",
    "MyParser.feed(''.join([input().strip() for _ in range(int(input()))]))"
   ]
  },
  {
   "cell_type": "raw",
   "id": "65dd431b",
   "metadata": {},
   "source": [
    "### .handle_comment(data)\n",
    "This method is called when a comment is encountered (e.g. <!--comment-->).\n",
    "The data argument is the content inside the comment tag:\n"
   ]
  },
  {
   "cell_type": "code",
   "execution_count": 16,
   "id": "7408d291",
   "metadata": {},
   "outputs": [],
   "source": [
    "from  html.parser import HTMLParser\n",
    "\n",
    "class MyHTMLParser(HTMLParser):\n",
    "    def handle_comment(self, data):\n",
    "          print (\"Comment  :\", data)"
   ]
  },
  {
   "cell_type": "raw",
   "id": "da6ecae5",
   "metadata": {},
   "source": [
    "### .handle_data(data)\n",
    "This method is called to process arbitrary data (e.g. text nodes and the content of <script>...</script> and <style>...</style>).\n",
    "The data argument is the text content of HTML."
   ]
  },
  {
   "cell_type": "code",
   "execution_count": 18,
   "id": "d0022d58",
   "metadata": {},
   "outputs": [],
   "source": [
    "from html.parser import HTMLParser\n",
    "\n",
    "class MyHTMLParser(HTMLParser):\n",
    "    def handle_data(self, data):\n",
    "        print (\"Data     :\", data)"
   ]
  },
  {
   "cell_type": "code",
   "execution_count": 19,
   "id": "b4d2f8a7",
   "metadata": {},
   "outputs": [
    {
     "name": "stdout",
     "output_type": "stream",
     "text": [
      "4\n",
      "<!--[if IE 9]>IE9-specific content\n",
      "<![endif]-->\n",
      "<div> Welcome to HackerRank</div>\n",
      "<!--[if IE 9]>IE9-specific content<![endif]-->\n",
      ">>> Multi-line Comment\n",
      "[if IE 9]>IE9-specific content\n",
      "<![endif]\n",
      ">>> Data\n",
      " Welcome to HackerRank\n",
      ">>> Single-line Comment\n",
      "[if IE 9]>IE9-specific content<![endif]\n"
     ]
    }
   ],
   "source": [
    "from html.parser import HTMLParser\n",
    "\n",
    "class MyHTMLParser(HTMLParser):\n",
    "    def handle_comment(self, data):\n",
    "        if \"\\n\" not in data:\n",
    "            print (f\">>> Single-line Comment\\n{data}\")\n",
    "        else:\n",
    "            print (f\">>> Multi-line Comment\\n{data}\")\n",
    "            \n",
    "    def handle_data(self, data):\n",
    "        if data != \"\\n\":\n",
    "            print (f\">>> Data\\n{data}\")\n",
    "  \n",
    "  \n",
    "  \n",
    "  \n",
    "  \n",
    "  \n",
    "  \n",
    "html = \"\"       \n",
    "for i in range(int(input())):\n",
    "    html += input().rstrip()\n",
    "    html += '\\n'\n",
    "    \n",
    "parser = MyHTMLParser()\n",
    "parser.feed(html)\n",
    "parser.close()"
   ]
  },
  {
   "cell_type": "markdown",
   "id": "d133a188",
   "metadata": {},
   "source": [
    "## Detect HTML Tags, Attributes and Attribute Values\n"
   ]
  },
  {
   "cell_type": "code",
   "execution_count": null,
   "id": "accb43b3",
   "metadata": {},
   "outputs": [],
   "source": []
  },
  {
   "cell_type": "code",
   "execution_count": null,
   "id": "12dd62d4",
   "metadata": {},
   "outputs": [],
   "source": []
  },
  {
   "cell_type": "code",
   "execution_count": null,
   "id": "53c33b1a",
   "metadata": {},
   "outputs": [],
   "source": []
  },
  {
   "cell_type": "code",
   "execution_count": null,
   "id": "755e6369",
   "metadata": {},
   "outputs": [],
   "source": []
  },
  {
   "cell_type": "raw",
   "id": "37d6aa02",
   "metadata": {},
   "source": []
  },
  {
   "cell_type": "code",
   "execution_count": null,
   "id": "a3501236",
   "metadata": {},
   "outputs": [],
   "source": []
  },
  {
   "cell_type": "code",
   "execution_count": null,
   "id": "d6935b8d",
   "metadata": {},
   "outputs": [],
   "source": []
  },
  {
   "cell_type": "markdown",
   "id": "00f0e6c8",
   "metadata": {},
   "source": [
    "# String Validators\n"
   ]
  },
  {
   "cell_type": "markdown",
   "id": "d171276b",
   "metadata": {},
   "source": [
    "Python has built-in string validation methods for basic data. It can check if a string is composed of alphabetical characters, alphanumeric characters, digits, etc."
   ]
  },
  {
   "cell_type": "markdown",
   "id": "b021d44e",
   "metadata": {},
   "source": [
    "### str.isalnum()"
   ]
  },
  {
   "cell_type": "markdown",
   "id": "9ad47ce2",
   "metadata": {},
   "source": [
    "This method checks if all the characters of a string are alphanumeric (a-z, A-Z and 0-9)."
   ]
  },
  {
   "cell_type": "markdown",
   "id": "ba4cb435",
   "metadata": {},
   "source": [
    "### str.isalpha()"
   ]
  },
  {
   "cell_type": "markdown",
   "id": "6c5c6959",
   "metadata": {},
   "source": [
    "This method checks if all the characters of a string are alphabetical (a-z and A-Z)."
   ]
  },
  {
   "cell_type": "markdown",
   "id": "ab8258f7",
   "metadata": {},
   "source": [
    "str.isdigit()\n",
    "\n",
    "This method checks if all the characters of a string are digits (0-9)."
   ]
  },
  {
   "cell_type": "markdown",
   "id": "13d91069",
   "metadata": {},
   "source": [
    "str.islower()\n",
    "\n",
    "This method checks if all the characters of a string are lowercase characters (a-z)."
   ]
  },
  {
   "cell_type": "markdown",
   "id": "ef72ae62",
   "metadata": {},
   "source": [
    "str.isupper()\n",
    "\n",
    "This method checks if all the characters of a string are uppercase characters (A-Z)."
   ]
  },
  {
   "cell_type": "code",
   "execution_count": 12,
   "id": "80f4627f",
   "metadata": {},
   "outputs": [
    {
     "name": "stdout",
     "output_type": "stream",
     "text": [
      "qA2\n",
      "True\n",
      "True\n",
      "True\n",
      "True\n",
      "True\n"
     ]
    }
   ],
   "source": [
    "if __name__ == '__main__':\n",
    "    s = input()\n",
    "    a=False\n",
    "    for i in s:\n",
    "   # a=False\n",
    "        if i.isalnum():\n",
    "            a=True\n",
    "            break\n",
    "    print(a)\n",
    "\n",
    "    \n",
    "    # print(s.isalpha() )\n",
    "    a=False\n",
    "    for i in s:\n",
    "        # a=False\n",
    "        if i.isalpha():\n",
    "            a=True\n",
    "            break\n",
    "    print(a)\n",
    "    \n",
    "    a=False\n",
    "    for i in s:\n",
    "    # a=False\n",
    "        if i.isdigit():\n",
    "            a=True\n",
    "            break\n",
    "    print(a)\n",
    "\n",
    "    a=False\n",
    "    for i in s:\n",
    "    # a=False\n",
    "        if i.islower():\n",
    "            a=True\n",
    "            break\n",
    "    print(a)\n",
    "\n",
    "    a=False\n",
    "    for i in s:\n",
    "    # a=False\n",
    "        if i.isupper():\n",
    "            a=True\n",
    "            break\n",
    "    print(a)\n"
   ]
  },
  {
   "cell_type": "code",
   "execution_count": 16,
   "id": "8cb8488a",
   "metadata": {},
   "outputs": [
    {
     "name": "stdout",
     "output_type": "stream",
     "text": [
      "True\n",
      "True\n",
      "True\n",
      "True\n",
      "True\n"
     ]
    }
   ],
   "source": [
    "s=\"Qa9\"\n",
    "print(any(i.isalnum() for i in s ))\n",
    "print(any(i.isdigit()for i in s))\n",
    "print(any(i.isalpha() for i in s))\n",
    "print(any(i.islower()for i in s))\n",
    "print(any(i.isupper()for i in s))"
   ]
  },
  {
   "cell_type": "markdown",
   "id": "fd966d6f",
   "metadata": {},
   "source": [
    "# Text Alignment\n"
   ]
  },
  {
   "cell_type": "markdown",
   "id": "bb9430d5",
   "metadata": {},
   "source": [
    "In Python, a string of text can be aligned left, right and center."
   ]
  },
  {
   "cell_type": "markdown",
   "id": "5cc775ef",
   "metadata": {},
   "source": [
    "### .ljust(width)"
   ]
  },
  {
   "cell_type": "raw",
   "id": "d75d4f39",
   "metadata": {},
   "source": [
    "This method returns a left aligned string of length width.\n",
    "\n",
    ">>> width = 20\n",
    ">>> print 'HackerRank'.ljust(width,'-')\n",
    "HackerRank----------  "
   ]
  },
  {
   "cell_type": "markdown",
   "id": "cdd34882",
   "metadata": {},
   "source": [
    "### .center(width)"
   ]
  },
  {
   "cell_type": "raw",
   "id": "ff491d36",
   "metadata": {},
   "source": [
    "This method returns a centered string of length width.\n",
    "\n",
    ">>> width = 20\n",
    ">>> print 'HackerRank'.center(width,'-')\n",
    "-----HackerRank-----"
   ]
  },
  {
   "cell_type": "markdown",
   "id": "2b2ffe9c",
   "metadata": {},
   "source": [
    "### .rjust(width)\n"
   ]
  },
  {
   "cell_type": "raw",
   "id": "adbe8325",
   "metadata": {},
   "source": [
    "This method returns a right aligned string of length width.\n",
    "\n",
    ">>> width = 20\n",
    ">>> print 'HackerRank'.rjust(width,'-')\n",
    "----------HackerRank"
   ]
  },
  {
   "cell_type": "markdown",
   "id": "aa95de5f",
   "metadata": {},
   "source": [
    "\n",
    "\n",
    "Task\n",
    "\n",
    "You are given a partial code that is used for generating the HackerRank Logo of variable thickness.\n",
    "Your task is to replace the blank (______) with rjust, ljust or center.\n",
    "\n"
   ]
  },
  {
   "cell_type": "code",
   "execution_count": 79,
   "id": "494bde45",
   "metadata": {},
   "outputs": [
    {
     "name": "stdout",
     "output_type": "stream",
     "text": [
      "5\n",
      "    H    \n",
      "   HHH   \n",
      "  HHHHH  \n",
      " HHHHHHH \n",
      "HHHHHHHHH\n",
      "  HHHHH               HHHHH             \n",
      "  HHHHH               HHHHH             \n",
      "  HHHHH               HHHHH             \n",
      "  HHHHH               HHHHH             \n",
      "  HHHHH               HHHHH             \n",
      "  HHHHH               HHHHH             \n",
      "  HHHHHHHHHHHHHHHHHHHHHHHHH   \n",
      "  HHHHHHHHHHHHHHHHHHHHHHHHH   \n",
      "  HHHHHHHHHHHHHHHHHHHHHHHHH   \n",
      "  HHHHH               HHHHH             \n",
      "  HHHHH               HHHHH             \n",
      "  HHHHH               HHHHH             \n",
      "  HHHHH               HHHHH             \n",
      "  HHHHH               HHHHH             \n",
      "  HHHHH               HHHHH             \n",
      "                    HHHHHHHHH \n",
      "                     HHHHHHH  \n",
      "                      HHHHH   \n",
      "                       HHH    \n",
      "                        H     \n"
     ]
    }
   ],
   "source": [
    "\n",
    "thickness = int(input()) #This must be an odd number\n",
    "c = 'H'\n",
    "\n",
    "#Top Cone\n",
    "for i in range(thickness):\n",
    "    print((c*i).rjust(thickness-1)+c+(c*i).ljust(thickness-1))\n",
    "\n",
    "#Top Pillars\n",
    "for i in range(thickness+1):\n",
    "    print((c*thickness).center(thickness*2)+(c*thickness).center(thickness*6))\n",
    "\n",
    "#Middle Belt\n",
    "for i in range((thickness+1)//2):\n",
    "    print((c*thickness*5).center(thickness*6))    \n",
    "\n",
    "#Bottom Pillars\n",
    "for i in range(thickness+1):\n",
    "    print((c*thickness).center(thickness*2)+(c*thickness).center(thickness*6))    \n",
    "\n",
    "#Bottom Cone\n",
    "for i in range(thickness):\n",
    "    print(((c*(thickness-i-1)).rjust(thickness)+c+(c*(thickness-i-1)).ljust(thickness)).rjust(thickness*6))"
   ]
  },
  {
   "cell_type": "markdown",
   "id": "70037e88",
   "metadata": {},
   "source": [
    "# Text Wrap"
   ]
  },
  {
   "cell_type": "markdown",
   "id": "e147ce7e",
   "metadata": {},
   "source": [
    "You are given a string s and width w.\n",
    "Your task is to wrap the string into a paragraph of width w."
   ]
  },
  {
   "cell_type": "markdown",
   "id": "9e916423",
   "metadata": {},
   "source": [
    "Function Description\n",
    "\n",
    "Complete the wrap function in the editor below.\n",
    "\n",
    "wrap has the following parameters:\n",
    "\n",
    "string string: a long string\n",
    "int max_width: the width to wrap to\n",
    "Returns\n",
    "\n",
    "string: a single string with newline characters ('\\n') where the breaks should be"
   ]
  },
  {
   "cell_type": "raw",
   "id": "c895f3f8",
   "metadata": {},
   "source": [
    "Sample Input 0\n",
    "\n",
    "ABCDEFGHIJKLIMNOQRSTUVWXYZ\n",
    "\n",
    "4\n",
    "\n",
    "Sample Output 0\n",
    "\n",
    "ABCD\n",
    "EFGH\n",
    "IJKL\n",
    "IMNO\n",
    "QRST\n",
    "UVWX\n",
    "YZ"
   ]
  },
  {
   "cell_type": "markdown",
   "id": "3f7c8067",
   "metadata": {},
   "source": [
    "### this is done with the help of textwrap module "
   ]
  },
  {
   "cell_type": "code",
   "execution_count": 81,
   "id": "0a2bbaca",
   "metadata": {},
   "outputs": [
    {
     "name": "stdout",
     "output_type": "stream",
     "text": [
      "ABCDEFGHIJKLIMNOQRSTUVWXYZ\n",
      "4\n",
      "ABCD\n",
      "EFGH\n",
      "IJKL\n",
      "IMNO\n",
      "QRST\n",
      "UVWX\n",
      "YZ\n"
     ]
    }
   ],
   "source": [
    "import textwrap\n",
    "\n",
    "def wrap(string, max_width):\n",
    "    return \"\\n\".join(textwrap.wrap(string,max_width))\n",
    "    \n",
    "    \n",
    "    # j=1\n",
    "    # for i in string:\n",
    "    #     if j<=4:\n",
    "    #         print(i,end=\"\")\n",
    "    #         j+=1\n",
    "    #     else:\n",
    "    #         print()\n",
    "    #         j=2\n",
    "    #         print(i,end=\"\")\n",
    "    # return \n",
    "\n",
    "if __name__ == '__main__':\n",
    "    string, max_width = input(), int(input())\n",
    "    result = wrap(string, max_width)\n",
    "    print(result)"
   ]
  },
  {
   "cell_type": "raw",
   "id": "2d983bd0",
   "metadata": {},
   "source": [
    "Textwrap\n",
    "The textwrap module provides two convenient functions: wrap() and fill().\n",
    "\n",
    "textwrap.wrap()\n",
    "The wrap() function wraps a single paragraph in text (a string) so that every line is width characters long at most.\n",
    "It returns a list of output lines.\n",
    "\n",
    ">>> import textwrap\n",
    ">>> string = \"This is a very very very very very long string.\"\n",
    ">>> print textwrap.wrap(string,8)\n",
    "['This is', 'a very', 'very', 'very', 'very', 'very', 'long', 'string.'] \n",
    "\n",
    "\n",
    "textwrap.fill()\n",
    "The fill() function wraps a single paragraph in text and returns a single string containing the wrapped paragraph.\n",
    "\n",
    ">>> import textwrap\n",
    ">>> string = \"This is a very very very very very long string.\"\n",
    ">>> print textwrap.fill(string,8)\n",
    "This is\n",
    "a very\n",
    "very\n",
    "very\n",
    "very\n",
    "very\n",
    "long\n",
    "string."
   ]
  },
  {
   "cell_type": "code",
   "execution_count": 83,
   "id": "ba925f49",
   "metadata": {},
   "outputs": [
    {
     "name": "stdout",
     "output_type": "stream",
     "text": [
      "ABCD\n",
      "EFGH\n",
      "IJKL\n",
      "IMNO\n",
      "QRST\n",
      "UVWX\n",
      "YZ\n"
     ]
    }
   ],
   "source": [
    "string =\"ABCDEFGHIJKLIMNOQRSTUVWXYZ\"\n",
    "print(textwrap.fill(string,4) ) \n",
    "#it is change to directlt to string and also add the \"\\n\" change line character"
   ]
  },
  {
   "cell_type": "markdown",
   "id": "6e17a3e6",
   "metadata": {},
   "source": [
    "# Designer Door Mat\n"
   ]
  },
  {
   "cell_type": "raw",
   "id": "5e9294f0",
   "metadata": {},
   "source": [
    "Mr. Vincent works in a door mat manufacturing company. One day, he designed a new door mat with the following specifications:\n",
    "\n",
    "Mat size must be N X M. (N is an odd natural number, and M is 3 times .)\n",
    "The design should have 'WELCOME' written in the center.\n",
    "The design pattern should only use |, . and - characters.\n",
    "Sample Designs\n",
    "\n",
    "    Size: 7 x 21 \n",
    "    ---------.|.---------\n",
    "    ------.|..|..|.------\n",
    "    ---.|..|..|..|..|.---\n",
    "    -------WELCOME-------\n",
    "    ---.|..|..|..|..|.---\n",
    "    ------.|..|..|.------\n",
    "    ---------.|.---------\n",
    "    \n",
    "    Size: 11 x 33\n",
    "    ---------------.|.---------------\n",
    "    ------------.|..|..|.------------\n",
    "    ---------.|..|..|..|..|.---------\n",
    "    ------.|..|..|..|..|..|..|.------\n",
    "    ---.|..|..|..|..|..|..|..|..|.---\n",
    "    -------------WELCOME-------------\n",
    "    ---.|..|..|..|..|..|..|..|..|.---\n",
    "    ------.|..|..|..|..|..|..|.------\n",
    "    ---------.|..|..|..|..|.---------\n",
    "    ------------.|..|..|.------------\n",
    "    ---------------.|.---------------"
   ]
  },
  {
   "cell_type": "code",
   "execution_count": 11,
   "id": "f51b5ff4",
   "metadata": {},
   "outputs": [
    {
     "name": "stdout",
     "output_type": "stream",
     "text": [
      "11 33\n",
      "---------------.|.---------------\n",
      "------------.|..|..|.------------\n",
      "---------.|..|..|..|..|.---------\n",
      "------.|..|..|..|..|..|..|.------\n",
      "---.|..|..|..|..|..|..|..|..|.---\n",
      "-------------WELCOME-------------\n",
      "---.|..|..|..|..|..|..|..|..|.---\n",
      "------.|..|..|..|..|..|..|.------\n",
      "---------.|..|..|..|..|.---------\n",
      "------------.|..|..|.------------\n",
      "---------------.|.---------------\n"
     ]
    }
   ],
   "source": [
    "# Enter your code here. Read input from STDIN. Print output to STDOUT\n",
    "a,b=input().split()\n",
    "a=int(a)\n",
    "b=int(b)\n",
    "for i in range(1,a,2):\n",
    "    print(((\".|.\")*i).center(b,\"-\"))\n",
    "    # print(i)\n",
    "    \n",
    "print((\"WELCOME\".center(b,\"-\")))\n",
    "\n",
    "for i in range(a-2,0,-2):\n",
    "    print(((\".|.\")*i).center(b,\"-\"))\n",
    "    \n"
   ]
  },
  {
   "cell_type": "markdown",
   "id": "23115d06",
   "metadata": {},
   "source": [
    "# String Formatting\n"
   ]
  },
  {
   "cell_type": "raw",
   "id": "bd71a63d",
   "metadata": {},
   "source": [
    "Given an integer,n , print the following values for each integer i from 1 to n:\n",
    "\n",
    "Prints\n",
    "\n",
    "The four values must be printed on a single line in the order specified above for each  from  to . Each value should be space-padded to match the width of the binary value of  and the values should be separated by a single space.\n",
    "\n",
    "#catch here  we have to print the eqaulspaced of len of binary digit of that number\n",
    "\n",
    "Decimal\n",
    "Octal\n",
    "Hexadecimal (capitalized)\n",
    "Binary\n",
    "\n",
    "Sample Input\n",
    "\n",
    "17\n",
    "Sample Output\n",
    "\n",
    "    1     1     1     1\n",
    "    2     2     2    10\n",
    "    3     3     3    11\n",
    "    4     4     4   100\n",
    "    5     5     5   101\n",
    "    6     6     6   110\n",
    "    7     7     7   111\n",
    "    8    10     8  1000\n",
    "    9    11     9  1001\n",
    "   10    12     A  1010\n",
    "   11    13     B  1011\n",
    "   12    14     C  1100\n",
    "   13    15     D  1101\n",
    "   14    16     E  1110\n",
    "   15    17     F  1111\n",
    "   16    20    10 10000\n",
    "   17    21    11 10001"
   ]
  },
  {
   "cell_type": "code",
   "execution_count": 17,
   "id": "fd09d348",
   "metadata": {},
   "outputs": [
    {
     "name": "stdout",
     "output_type": "stream",
     "text": [
      "17\n",
      "[1, 2, 3, 4, 5, 6, 7, 10, 11, 12, 13, 14, 15, 16, 17, 20, 21]\n"
     ]
    }
   ],
   "source": [
    "# for changing to octal\n",
    "number=int(input())\n",
    "octal=[]\n",
    "a=0\n",
    "for i in range(1,number+1):\n",
    "        \n",
    "    if (i+1)%8==0:\n",
    "        octal.append(a+i%8)\n",
    "        a+=10\n",
    "    else:\n",
    "        octal.append(a+i%8)\n",
    "print(octal)"
   ]
  },
  {
   "cell_type": "code",
   "execution_count": 26,
   "id": "4b67f4cc",
   "metadata": {},
   "outputs": [
    {
     "name": "stdout",
     "output_type": "stream",
     "text": [
      "8\n",
      "   1    1    1    1\n",
      "   2    2    2   10\n",
      "   3    3    3   11\n",
      "   4    4    4  100\n",
      "   5    5    5  101\n",
      "   6    6    6  110\n",
      "   7    7    7  111\n",
      "   8   10    8 1000\n"
     ]
    }
   ],
   "source": [
    "# import math\n",
    "def print_formatted(number):\n",
    "    w= len(bin(number).replace(\"0b\",\"\"))\n",
    "    # your code goes here\n",
    "    for i in range(1,number+1):\n",
    "        DEC=str(i).rjust(w,\" \")\n",
    "        OCT=oct(i).replace(\"0o\",\"\").rjust(w,\" \")\n",
    "        HEX=hex(i).upper().replace(\"0X\",\"\").rjust(w,\" \")\n",
    "        BIN=bin(i).replace(\"0b\",\"\").rjust(w,\" \")\n",
    "        print(DEC,OCT,HEX,BIN,sep=\" \")\n",
    "        \n",
    "if __name__ == '__main__':\n",
    "    n = int(input())\n",
    "    print_formatted(n)"
   ]
  },
  {
   "cell_type": "markdown",
   "id": "244d5808",
   "metadata": {},
   "source": [
    "# how to know the ascii value of the character "
   ]
  },
  {
   "cell_type": "code",
   "execution_count": 37,
   "id": "f50a6c2d",
   "metadata": {},
   "outputs": [
    {
     "name": "stdout",
     "output_type": "stream",
     "text": [
      "97\n",
      "a\n"
     ]
    }
   ],
   "source": [
    "print(ord(\"a\"))\n",
    "print(chr(97))"
   ]
  },
  {
   "cell_type": "code",
   "execution_count": 46,
   "id": "ba4171f4",
   "metadata": {},
   "outputs": [
    {
     "name": "stdout",
     "output_type": "stream",
     "text": [
      "5\n",
      "--------e--------\n",
      "------e-d-e------\n",
      "----e-d-c-d-e----\n",
      "--e-d-c-b-c-d-e--\n",
      "e-d-c-b-a-b-c-d-e\n",
      "--e-d-c-b-c-d-e--\n",
      "----e-d-c-d-e----\n",
      "------e-d-e------\n",
      "--------e--------\n"
     ]
    }
   ],
   "source": [
    "# def print_rangoli(size):\n",
    "import string\n",
    "def print_rangoli(size):\n",
    "    width = 4 * size - 3\n",
    "    alpha = string.ascii_lowercase\n",
    "    for i in list(range(size))[::-1] + list(range(1, size)):\n",
    "        print('-'.join(alpha[size-1:i:-1] + alpha[i:size]).center(width, '-'))\n",
    "\n",
    "if __name__ == '__main__':\n",
    "    n = int(input())\n",
    "    print_rangoli(n)"
   ]
  },
  {
   "cell_type": "code",
   "execution_count": 48,
   "id": "074f722a",
   "metadata": {},
   "outputs": [
    {
     "name": "stdout",
     "output_type": "stream",
     "text": [
      "abcdefghijklmnopqrstuvwxyz\n"
     ]
    }
   ],
   "source": [
    "import string\n",
    "alpha = string.ascii_lowercase\n",
    "print(alpha)"
   ]
  },
  {
   "cell_type": "code",
   "execution_count": 61,
   "id": "6299a326",
   "metadata": {},
   "outputs": [
    {
     "name": "stdout",
     "output_type": "stream",
     "text": [
      "4\n",
      "3\n",
      "2\n",
      "1\n",
      "0\n",
      "1\n",
      "2\n",
      "3\n",
      "4\n"
     ]
    }
   ],
   "source": [
    "size=5\n",
    "for i in (list(range(size)[::-1]) + list(range(1, size))):\n",
    "    print(i)\n",
    "    "
   ]
  },
  {
   "cell_type": "code",
   "execution_count": 62,
   "id": "65a3456d",
   "metadata": {},
   "outputs": [
    {
     "name": "stdout",
     "output_type": "stream",
     "text": [
      "[3, 4, 4, 5, 5, 2, 3, 4, 4, 4, 4]\n"
     ]
    }
   ],
   "source": [
    "l=[3,4,4,5,5]\n",
    "q=[2,3,4,4,4,4]\n",
    "e=l+q\n",
    "print(e)"
   ]
  },
  {
   "cell_type": "code",
   "execution_count": 5,
   "id": "f1b2a88b",
   "metadata": {},
   "outputs": [
    {
     "name": "stdout",
     "output_type": "stream",
     "text": [
      "5\n",
      "abcdefghijklmnopqrstuvwxyz\n",
      "e\n",
      "e-d-e\n",
      "e-d-c-d-e\n",
      "e-d-c-b-c-d-e\n",
      "e-d-c-b-a-b-c-d-e\n",
      "e-d-c-b-c-d-e\n",
      "e-d-c-d-e\n",
      "e-d-e\n",
      "e\n"
     ]
    }
   ],
   "source": [
    "size=int(input())\n",
    "import string\n",
    "alpha = string.ascii_lowercase\n",
    "print(alpha)\n",
    "\n",
    "for i in (list(range(size)[::-1]) + list(range(1, size))):\n",
    "    print(\"-\".join(alpha[size-1:i:-1]+ alpha[i:size]))"
   ]
  },
  {
   "cell_type": "markdown",
   "id": "b28e7d1d",
   "metadata": {},
   "source": [
    "# Capitalize!\n"
   ]
  },
  {
   "cell_type": "markdown",
   "id": "4aa35c1e",
   "metadata": {},
   "source": [
    "You are asked to ensure that the first and last names of people begin with a capital letter in their passports. For example, alison heck should be capitalised correctly as Alison Heck.\n",
    "\n",
    "Note: in a word only the first character is capitalized. Example 12abc when capitalized remains 12abc.\n",
    "\n",
    "Output Format\n",
    "\n",
    "Print the capitalized string,S .\n",
    "\n",
    "Sample Input:\n",
    "\n",
    "chris alan\n",
    "\n",
    "Sample Output:\n",
    "\n",
    "Chris Alan"
   ]
  },
  {
   "cell_type": "code",
   "execution_count": 7,
   "id": "1d378261",
   "metadata": {},
   "outputs": [
    {
     "name": "stdout",
     "output_type": "stream",
     "text": [
      "['hello', 'world']\n"
     ]
    }
   ],
   "source": [
    "s=\"hello world\"\n",
    "a=s.split(\" \")\n",
    "print(a)"
   ]
  },
  {
   "cell_type": "code",
   "execution_count": 15,
   "id": "5e8f2ed4",
   "metadata": {},
   "outputs": [
    {
     "name": "stdout",
     "output_type": "stream",
     "text": [
      "Hello WoRld KaIse HO\n",
      "Hello\n",
      "WoRld\n",
      "KaIse\n",
      "HO\n",
      "Hello World Kaise Ho\n"
     ]
    }
   ],
   "source": [
    "s=input()\n",
    "String=s.split(\" \")\n",
    "a=[]\n",
    "for i in String:\n",
    "    print(i)\n",
    "    a.append(i[0].upper()+i[1:].lower())\n",
    "String=\" \".join(a)\n",
    "print(String)\n",
    "# return String"
   ]
  },
  {
   "cell_type": "code",
   "execution_count": 19,
   "id": "8cc63a34",
   "metadata": {},
   "outputs": [
    {
     "name": "stdout",
     "output_type": "stream",
     "text": [
      "hello WoRld 12hello word12\n",
      "Hello World 12hello Word12\n"
     ]
    }
   ],
   "source": [
    "s=input()\n",
    "String=s.split(\" \")\n",
    "print (\" \".join(word.capitalize() for word in String))\n",
    "\n",
    "# use in built function for capitalize the word"
   ]
  },
  {
   "cell_type": "code",
   "execution_count": null,
   "id": "30dff7ff",
   "metadata": {},
   "outputs": [],
   "source": [
    "def minion_game(string):\n",
    "    # your code goes here\n",
    "    # string=\"BANANA\"\n",
    "    a=[]\n",
    "#     b=0\n",
    "    stuart={}\n",
    "    kevin={}\n",
    "    vowels=[\"A\",\"E\",\"I\",\"O\",\"U\"]\n",
    "\n",
    "    for i in range(1,len(string)+1):\n",
    "#         b+=1\n",
    "        for j in range(-1,len(string)):\n",
    "            if (len(string)-j-1)== len(string): # == 0:\n",
    "#             a.append(string[len(string)-1])\n",
    "#             a.append(string[len(string)-1])\n",
    "                # if i ==1:\n",
    "                #     a.append(string[j])\n",
    "                continue\n",
    "            else:\n",
    "                u=string[j:j+i]\n",
    "                if len(u)==i:\n",
    "                    a.append(u)\n",
    "    # print(a)\n",
    "    for k in a:\n",
    "        if k[0] in vowels:\n",
    "            if k not in kevin.keys():\n",
    "                kevin[k]=1\n",
    "            else:\n",
    "                kevin[k]+=1\n",
    "        else:\n",
    "            if k not in stuart.keys():     \n",
    "                stuart[k]=1\n",
    "            else:\n",
    "                stuart[k]+=1\n",
    "    # print(kevin)\n",
    "    # print(stuart)\n",
    "\n",
    "    kevin_points=sum(i for i in kevin.values() )\n",
    "    stuart_points=sum(i for i in stuart.values())\n",
    "    if kevin_points > stuart_points:\n",
    "        print(f\"Kevin {kevin_points}\")\n",
    "    elif kevin_points < stuart_points:\n",
    "        print(f\"Stuart {stuart_points}\")\n",
    "    else:\n",
    "        print(\"Draw\")\n",
    "                    \n",
    "                \n",
    "if __name__ == '__main__':\n",
    "    s = input()\n",
    "    minion_game(s)"
   ]
  },
  {
   "cell_type": "code",
   "execution_count": 7,
   "id": "76750d53",
   "metadata": {},
   "outputs": [
    {
     "name": "stdout",
     "output_type": "stream",
     "text": [
      "Stuart 21\n"
     ]
    }
   ],
   "source": [
    "string=\"banana\"\n",
    "\n",
    "vowel =['A','E','I','O','U']\n",
    "S=0\n",
    "K=0\n",
    "for i in range(len(string)):\n",
    "    if string[i] in vowel:\n",
    "        K+= len(string)-i\n",
    "    else:\n",
    "        S+=len(string)-i\n",
    "if S>K:\n",
    "    print(\"Stuart\"+\" \"+ \"%d\" % S)\n",
    "elif K>S:\n",
    "    print(\"Kevin\"+\" \"+'%d' % K)\n",
    "else:\n",
    "    print(\"Draw\")\n",
    "                       "
   ]
  },
  {
   "cell_type": "code",
   "execution_count": 27,
   "id": "0ae02845",
   "metadata": {
    "scrolled": true
   },
   "outputs": [
    {
     "name": "stdout",
     "output_type": "stream",
     "text": [
      "AABCAAADA\n",
      "3\n",
      "AB\n",
      "CA\n",
      "AD\n"
     ]
    }
   ],
   "source": [
    "def merge_the_tools(string, k):\n",
    "    # your code goes here\n",
    "    n=len(string)/k\n",
    "    a=[]\n",
    "    for i in range(0,len(string),k):\n",
    "        a.append(string[i:i+k])\n",
    "    # print(a)\n",
    "    for j in range(len(a)):\n",
    "        o=[]\n",
    "        for k in a[j]:\n",
    "            \n",
    "            # print(k)\n",
    "            if k not in o:\n",
    "                o.append(k)     \n",
    "        a[j]=\"\".join(o)\n",
    "            \n",
    "    for r in a:\n",
    "        print(r)\n",
    "    \n",
    "if __name__ == '__main__':\n",
    "    string, k = input(), int(input())\n",
    "    merge_the_tools(string, k)"
   ]
  },
  {
   "cell_type": "markdown",
   "id": "a4bc96fd",
   "metadata": {},
   "source": [
    "# itertools.product()"
   ]
  },
  {
   "cell_type": "code",
   "execution_count": 28,
   "id": "10d28bdb",
   "metadata": {},
   "outputs": [
    {
     "name": "stdout",
     "output_type": "stream",
     "text": [
      "Result: 2 6 12\n"
     ]
    }
   ],
   "source": [
    "import operator\n",
    "L1 = [1, 2, 3]\n",
    "L2 = [2, 3, 4]\n",
    "a, b, c = map(operator.mul, L1, L2)\n",
    "print(\"Result:\", a, b, c)"
   ]
  },
  {
   "cell_type": "markdown",
   "id": "f41f893b",
   "metadata": {},
   "source": [
    "### Different types of iterators provided by this module are: \n",
    "\n",
    "##### Infinite iterators \n",
    "\n",
    "##### Combinatoric iterators \n",
    "\n",
    "##### Terminating iterators \n",
    "\n",
    "### Infinite iterators ->\n",
    "\n",
    "it is not necessary that an iterator object has to exhaust, sometimes it can be infinite.\n",
    "Such type of iterators are known as Infinite iterators.\n",
    "\n",
    "Python provides three types of infinite itertors: \n",
    "\n",
    "1)count(start, step):\n",
    "\n",
    "This iterator starts printing from the “start” number and prints infinitely. \n"
   ]
  },
  {
   "cell_type": "code",
   "execution_count": 30,
   "id": "1b294930",
   "metadata": {},
   "outputs": [
    {
     "name": "stdout",
     "output_type": "stream",
     "text": [
      "5 10 15 20 25 30 "
     ]
    }
   ],
   "source": [
    "import itertools\n",
    "   \n",
    "# for in loop\n",
    "for i in itertools.count(5, 5):\n",
    "    if i == 35:\n",
    "        break\n",
    "    else:\n",
    "        print(i, end =\" \")"
   ]
  },
  {
   "cell_type": "markdown",
   "id": "0d28ba87",
   "metadata": {},
   "source": [
    "### cycle(iterable): \n",
    "\n",
    "This iterator prints all values in order from the passed container. It restarts printing from the beginning again when all elements are printed in a cyclic manner."
   ]
  },
  {
   "cell_type": "code",
   "execution_count": 32,
   "id": "376c56cd",
   "metadata": {},
   "outputs": [
    {
     "name": "stdout",
     "output_type": "stream",
     "text": [
      "A B A B A B A B "
     ]
    }
   ],
   "source": [
    "import itertools\n",
    "   \n",
    "count = 0\n",
    "   \n",
    "# for in loop\n",
    "for i in itertools.cycle('AB'):\n",
    "    if count > 7:\n",
    "        break\n",
    "    else:\n",
    "        print(i, end = \" \")\n",
    "        count += 1"
   ]
  },
  {
   "cell_type": "code",
   "execution_count": 33,
   "id": "0abffde1",
   "metadata": {},
   "outputs": [
    {
     "name": "stdout",
     "output_type": "stream",
     "text": [
      "Geeks for Geeks Geeks for Geeks "
     ]
    }
   ],
   "source": [
    "import itertools\n",
    "   \n",
    "l = ['Geeks', 'for', 'Geeks']\n",
    "   \n",
    "# defining iterator\n",
    "iterators = itertools.cycle(l)\n",
    "   \n",
    "# for in loop\n",
    "for i in range(6):\n",
    "       \n",
    "    # Using next function\n",
    "    print(next(iterators), end = \" \")"
   ]
  },
  {
   "cell_type": "markdown",
   "id": "fc53e564",
   "metadata": {},
   "source": [
    "### repeat(val, num):\n",
    "\n",
    "This iterator repeatedly prints the passed value infinite number of times. If the optional keyword num is mentioned, then it repeatedly prints num number of times."
   ]
  },
  {
   "cell_type": "code",
   "execution_count": 34,
   "id": "9cd43c3d",
   "metadata": {},
   "outputs": [
    {
     "name": "stdout",
     "output_type": "stream",
     "text": [
      "Printing the numbers repeatedly : \n",
      "[25, 25, 25, 25]\n"
     ]
    }
   ],
   "source": [
    "import itertools \n",
    "     \n",
    "# using repeat() to repeatedly print number \n",
    "print (\"Printing the numbers repeatedly : \") \n",
    "print (list(itertools.repeat(25, 4)))"
   ]
  },
  {
   "cell_type": "markdown",
   "id": "d3bc43f5",
   "metadata": {},
   "source": [
    "### Combinatoric iterators -> \n",
    "\n",
    "The recursive generators that are used to simplify combinatorial constructs such as permutations, combinations, and Cartesian products are called combinatoric iterators.\n",
    "In Python there are 4 combinatoric iterators:\n"
   ]
  },
  {
   "cell_type": "markdown",
   "id": "6b61767e",
   "metadata": {},
   "source": [
    "### Product(): \n",
    "\n",
    "This tool computes the cartesian product of input iterables. To compute the product of an iterable with itself, we use the optional repeat keyword argument to specify the number of repetitions. The output of this function are tuples in sorted order."
   ]
  },
  {
   "cell_type": "code",
   "execution_count": 40,
   "id": "8aa18c03",
   "metadata": {},
   "outputs": [
    {
     "name": "stdout",
     "output_type": "stream",
     "text": [
      "The cartesian product using repeat:\n",
      "[(1, 1), (1, 2), (2, 1), (2, 2)]\n",
      "\n",
      "The cartesian product of the containers:\n",
      "[('geeks', '2'), ('for', '2'), ('geeks', '2')]\n",
      "\n",
      "The cartesian product of the containers:\n",
      "[('A', 3), ('A', 4), ('B', 3), ('B', 4)]\n"
     ]
    }
   ],
   "source": [
    "from itertools import product\n",
    "   \n",
    "print(\"The cartesian product using repeat:\")\n",
    "print(list(product([1, 2], repeat = 2)))\n",
    "print()\n",
    "   \n",
    "print(\"The cartesian product of the containers:\")\n",
    "print(list(product(['geeks', 'for', 'geeks'], '2')))\n",
    "print()\n",
    "   \n",
    "print(\"The cartesian product of the containers:\")\n",
    "print(list(product('AB', [3, 4])))"
   ]
  },
  {
   "cell_type": "markdown",
   "id": "926e7fdb",
   "metadata": {},
   "source": [
    "### Permutations():\n",
    "\n",
    "Permutations() as the name speaks for itself is used to generate all possible permutations of an iterable. All elements are treated as unique based on their position and not their values. This function takes an iterable and group_size, if the value of group_size is not specified or is equal to None then the value of group_size becomes length of the iterable."
   ]
  },
  {
   "cell_type": "code",
   "execution_count": 51,
   "id": "5f32dc3f",
   "metadata": {},
   "outputs": [
    {
     "name": "stdout",
     "output_type": "stream",
     "text": [
      "All the permutations of the given list is:\n",
      "[(1, 'geeks'), ('geeks', 1)]\n",
      "\n",
      "All the permutations of the given string is:\n",
      "[('A', 'B'), ('B', 'A')]\n",
      "\n",
      "All the permutations of the given container is:\n",
      "[(0, 1), (0, 2), (1, 0), (1, 2), (2, 0), (2, 1)]\n"
     ]
    }
   ],
   "source": [
    "# import the product function from itertools module\n",
    "from itertools import permutations\n",
    "\n",
    "print (\"All the permutations of the given list is:\")\n",
    "print (list(permutations([1, 'geeks'], 2)))\n",
    "print()\n",
    "\n",
    "print (\"All the permutations of the given string is:\")\n",
    "print (list(permutations('AB')))\n",
    "print()\n",
    "\n",
    "print (\"All the permutations of the given container is:\")\n",
    "print(list(permutations(range(3), 2)))\n"
   ]
  },
  {
   "cell_type": "markdown",
   "id": "8f0fc35c",
   "metadata": {},
   "source": [
    "### Combinations():\n",
    "\n",
    "This iterator prints all the possible combinations(without replacement) of the container passed in arguments in the specified group size in sorted order.\n",
    "\n",
    "thus here the value and its postion is not unique as it is in permutation (thus non repetition)"
   ]
  },
  {
   "cell_type": "code",
   "execution_count": 54,
   "id": "173f8c5a",
   "metadata": {},
   "outputs": [
    {
     "name": "stdout",
     "output_type": "stream",
     "text": [
      "All the combination of list in sorted order(without replacement) is:\n",
      "[('A', 2)]\n",
      "\n",
      "All the combination of string in sorted order(without replacement) is:\n",
      "[('A', 'B')]\n",
      "\n",
      "All the combination of list in sorted order(without replacement) is:\n",
      "[(0, 1), (0, 2), (1, 2)]\n"
     ]
    }
   ],
   "source": [
    "# import combinations from itertools module\n",
    "\n",
    "from itertools import combinations\n",
    "\n",
    "print (\"All the combination of list in sorted order(without replacement) is:\")\n",
    "print(list(combinations(['A', 2], 2)))\n",
    "print()\n",
    "\n",
    "print (\"All the combination of string in sorted order(without replacement) is:\")\n",
    "print(list(combinations('AB', 2)))\n",
    "print()\n",
    "\n",
    "print (\"All the combination of list in sorted order(without replacement) is:\")\n",
    "print(list(combinations(range(3), 2)))\n"
   ]
  },
  {
   "cell_type": "markdown",
   "id": "458eb83e",
   "metadata": {},
   "source": [
    "### Terminating iterators\n",
    "\n",
    "Terminating iterators are used to work on the short input sequences and produce the output based on the functionality of the method used.\n",
    "\n",
    "Different types of terminating iterators are: "
   ]
  },
  {
   "cell_type": "markdown",
   "id": "0e591648",
   "metadata": {},
   "source": [
    "### accumulate(iter, func): \n",
    "\n",
    "This iterator takes two arguments, iterable target and the function which would be followed at each iteration of value in target. If no function is passed, addition takes place by default. If the input iterable is empty, the output iterable will also be empty."
   ]
  },
  {
   "cell_type": "code",
   "execution_count": 56,
   "id": "1f2ece9e",
   "metadata": {},
   "outputs": [
    {
     "name": "stdout",
     "output_type": "stream",
     "text": [
      "The sum after each iteration is : [1, 5, 10, 17]\n",
      "The product after each iteration is : [1, 4, 20, 140]\n"
     ]
    }
   ],
   "source": [
    "# Python code to demonstrate the working of\n",
    "# accumulate()\n",
    "\n",
    "\n",
    "import itertools\n",
    "import operator\n",
    "\n",
    "# initializing list 1\n",
    "li1 = [1, 4, 5, 7]\n",
    "\n",
    "# using accumulate()\n",
    "# prints the successive summation of elements\n",
    "print (\"The sum after each iteration is : \", end =\"\")\n",
    "print (list(itertools.accumulate(li1)))\n",
    "\n",
    "# using accumulate()\n",
    "# prints the successive multiplication of elements\n",
    "print (\"The product after each iteration is : \", end =\"\")\n",
    "print (list(itertools.accumulate(li1, operator.mul)))\n"
   ]
  },
  {
   "cell_type": "markdown",
   "id": "28d0b6bf",
   "metadata": {},
   "source": [
    "### chain(iter1, iter2..): \n",
    "\n",
    "This function is used to print all the values in iterable targets one after another mentioned in its arguments."
   ]
  },
  {
   "cell_type": "code",
   "execution_count": 57,
   "id": "267f6a3f",
   "metadata": {},
   "outputs": [
    {
     "name": "stdout",
     "output_type": "stream",
     "text": [
      "All values in mentioned chain are : [1, 4, 5, 7, 1, 6, 5, 9, 8, 10, 5, 4]\n"
     ]
    }
   ],
   "source": [
    "# Python code to demonstrate the working of\n",
    "# and chain()\n",
    "\n",
    "\n",
    "import itertools\n",
    "\n",
    "# initializing list 1\n",
    "li1 = [1, 4, 5, 7]\n",
    "\n",
    "# initializing list 2\n",
    "li2 = [1, 6, 5, 9]\n",
    "\n",
    "# initializing list 3\n",
    "li3 = [8, 10, 5, 4]\n",
    "\n",
    "# using chain() to print all elements of lists\n",
    "print (\"All values in mentioned chain are : \", end =\"\")\n",
    "print (list(itertools.chain(li1, li2, li3)))\n"
   ]
  },
  {
   "cell_type": "markdown",
   "id": "f8312fc3",
   "metadata": {},
   "source": [
    "### chain.from_iterable(): \n",
    "\n",
    "This function is implemented similarly as chain() but the argument here is a list of lists or any other iterable container."
   ]
  },
  {
   "cell_type": "code",
   "execution_count": 58,
   "id": "4e0e7fc7",
   "metadata": {},
   "outputs": [
    {
     "name": "stdout",
     "output_type": "stream",
     "text": [
      "All values in mentioned chain are : [1, 4, 5, 7, 1, 6, 5, 9, 8, 10, 5, 4]\n"
     ]
    }
   ],
   "source": [
    "# Python code to demonstrate the working of\n",
    "# chain.from_iterable()\n",
    "\n",
    "\n",
    "import itertools\n",
    "\n",
    "\n",
    "# initializing list 1\n",
    "li1 = [1, 4, 5, 7]\n",
    "\n",
    "# initializing list 2\n",
    "li2 = [1, 6, 5, 9]\n",
    "\n",
    "# initializing list 3\n",
    "li3 = [8, 10, 5, 4]\n",
    "\n",
    "# initializing list of list\n",
    "li4 = [li1, li2, li3]\n",
    "\n",
    "# using chain.from_iterable() to print all elements of lists\n",
    "print (\"All values in mentioned chain are : \", end =\"\")\n",
    "print (list(itertools.chain.from_iterable(li4)))\n"
   ]
  },
  {
   "cell_type": "markdown",
   "id": "d65a4e10",
   "metadata": {},
   "source": [
    "### compress(iter, selector):\n",
    "\n",
    "This iterator selectively picks the values to print from the passed container according to the boolean list value passed as other arguments. The arguments corresponding to boolean true are printed else all are skipped."
   ]
  },
  {
   "cell_type": "code",
   "execution_count": 59,
   "id": "6c0a4314",
   "metadata": {},
   "outputs": [
    {
     "name": "stdout",
     "output_type": "stream",
     "text": [
      "The compressed values in string are : ['G', 'F', 'G']\n"
     ]
    }
   ],
   "source": [
    "# Python code to demonstrate the working of\n",
    "# and compress()\n",
    "\n",
    "\n",
    "import itertools\n",
    "\n",
    "\n",
    "# using compress() selectively print data values\n",
    "print (\"The compressed values in string are : \", end =\"\")\n",
    "print (list(itertools.compress('GEEKSFORGEEKS', [1, 0, 0, 0, 0, 1, 0, 0, 1, 0, 0, 0, 0])))\n"
   ]
  },
  {
   "cell_type": "markdown",
   "id": "92982361",
   "metadata": {},
   "source": [
    "### dropwhile(func, seq): \n",
    "\n",
    "This iterator starts printing the characters only after the func. in argument returns false for the first time."
   ]
  },
  {
   "cell_type": "markdown",
   "id": "c0d5fbb0",
   "metadata": {},
   "source": [
    "# itertool question"
   ]
  },
  {
   "cell_type": "markdown",
   "id": "355b4567",
   "metadata": {},
   "source": [
    "### itertools.product()\n",
    "\n",
    "This tool computes the cartesian product of input iterables.\n",
    "\n",
    "It is equivalent to nested for-loops.\n",
    "\n",
    "For example, product(A, B) returns the same as ((x,y) for x in A for y in B)."
   ]
  },
  {
   "cell_type": "raw",
   "id": "6be2977c",
   "metadata": {},
   "source": [
    ">>> from itertools import product\n",
    ">>>\n",
    ">>> print list(product([1,2,3],repeat = 2))\n",
    "[(1, 1), (1, 2), (1, 3), (2, 1), (2, 2), (2, 3), (3, 1), (3, 2), (3, 3)]\n",
    ">>>\n",
    ">>> print list(product([1,2,3],[3,4]))\n",
    "[(1, 3), (1, 4), (2, 3), (2, 4), (3, 3), (3, 4)]\n",
    ">>>\n",
    ">>> A = [[1,2,3],[3,4,5]]\n",
    ">>> print list(product(*A))\n",
    "[(1, 3), (1, 4), (1, 5), (2, 3), (2, 4), (2, 5), (3, 3), (3, 4), (3, 5)]\n",
    ">>>\n",
    ">>> B = [[1,2,3],[3,4,5],[7,8]]\n",
    ">>> print list(product(*B))\n",
    "[(1, 3, 7), (1, 3, 8), (1, 4, 7), (1, 4, 8), (1, 5, 7), (1, 5, 8), (2, 3, 7), (2, 3, 8), (2, 4, 7), (2, 4, 8), (2, 5, 7), (2, 5, 8), (3, 3, 7), (3, 3, 8), (3, 4, 7), (3, 4, 8), (3, 5, 7), (3, 5, 8)]"
   ]
  },
  {
   "cell_type": "code",
   "execution_count": 5,
   "id": "9bb837f9",
   "metadata": {},
   "outputs": [
    {
     "name": "stdout",
     "output_type": "stream",
     "text": [
      "1 2\n",
      "3 4\n",
      "(1, 3) (1, 4) (2, 3) (2, 4) "
     ]
    }
   ],
   "source": [
    "# Enter your code here. Read input from STDIN. Print output to STDOUT\n",
    "import itertools\n",
    "A=input().split(\" \")\n",
    "B=input().split(\" \")\n",
    "for i in range(len(A)):\n",
    "    A[i] =int(A[i])\n",
    "for j in range(len(B)):\n",
    "    B[j]=int(B[j])\n",
    "C=list(itertools.product(A,B))\n",
    "for i in C:\n",
    "    print(i,end=\" \")\n"
   ]
  },
  {
   "cell_type": "markdown",
   "id": "01929b7d",
   "metadata": {},
   "source": [
    "# itertools.permutations()\n"
   ]
  },
  {
   "cell_type": "raw",
   "id": "416a4521",
   "metadata": {},
   "source": [
    ">>> from itertools import permutations\n",
    ">>> print permutations(['1','2','3'])\n",
    "<itertools.permutations object at 0x02A45210>\n",
    ">>> \n",
    ">>> print list(permutations(['1','2','3']))\n",
    "[('1', '2', '3'), ('1', '3', '2'), ('2', '1', '3'), ('2', '3', '1'), ('3', '1', '2'), ('3', '2', '1')]\n",
    ">>> \n",
    ">>> print list(permutations(['1','2','3'],2))\n",
    "[('1', '2'), ('1', '3'), ('2', '1'), ('2', '3'), ('3', '1'), ('3', '2')]\n",
    ">>>\n",
    ">>> print list(permutations('abc',3))\n",
    "[('a', 'b', 'c'), ('a', 'c', 'b'), ('b', 'a', 'c'), ('b', 'c', 'a'), ('c', 'a', 'b'), ('c', 'b', 'a')]"
   ]
  },
  {
   "cell_type": "code",
   "execution_count": 12,
   "id": "3336ff2a",
   "metadata": {},
   "outputs": [
    {
     "name": "stdout",
     "output_type": "stream",
     "text": [
      "HACK 2\n",
      "AC\n",
      "AH\n",
      "AK\n",
      "CA\n",
      "CH\n",
      "CK\n",
      "HA\n",
      "HC\n",
      "HK\n",
      "KA\n",
      "KC\n",
      "KH\n"
     ]
    }
   ],
   "source": [
    "# Enter your code here. Read input from STDIN. Print output to STDOUT\n",
    "import itertools\n",
    "s,n=input().split()\n",
    "\n",
    "a=int(n)\n",
    "# print(S)\n",
    "per=list(itertools.permutations(s,a))\n",
    "# print(per)\n",
    "# a=\",\".join(per)\n",
    "p=[]\n",
    "for i in per:\n",
    "    p.append(\"\".join(i))\n",
    "\n",
    "p.sort()\n",
    "\n",
    "for j in p:\n",
    "    print(j)"
   ]
  },
  {
   "cell_type": "code",
   "execution_count": 18,
   "id": "00107566",
   "metadata": {},
   "outputs": [
    {
     "name": "stdout",
     "output_type": "stream",
     "text": [
      "HACK 2\n",
      "AC\n",
      "AH\n",
      "AK\n",
      "CA\n",
      "CH\n",
      "CK\n",
      "HA\n",
      "HC\n",
      "HK\n",
      "KA\n",
      "KC\n",
      "KH\n"
     ]
    }
   ],
   "source": [
    "from itertools import permutations\n",
    "s,n=input().split()\n",
    "n=int(n)\n",
    "print(*[\"\".join(i) for i in permutations(sorted(s),n)],sep=\"\\n\")"
   ]
  },
  {
   "cell_type": "code",
   "execution_count": 23,
   "id": "0728855c",
   "metadata": {},
   "outputs": [
    {
     "name": "stdout",
     "output_type": "stream",
     "text": [
      "HACK 2\n",
      "A\n",
      "C\n",
      "H\n",
      "K\n",
      "AC\n",
      "AH\n",
      "AK\n",
      "CH\n",
      "CK\n",
      "HK\n"
     ]
    }
   ],
   "source": [
    "# Enter your code here. Read input from STDIN. Print output to STDOUT\n",
    "from itertools import combinations\n",
    "s,n=input().split()\n",
    "n=int(n)\n",
    "# print(list(combinations(s,n)))\n",
    "s=sorted(s)\n",
    "for k in range(1,n+1):\n",
    "    print(*[\"\".join(i) for i in combinations(s,k)],sep=\"\\n\")"
   ]
  },
  {
   "cell_type": "markdown",
   "id": "1c378304",
   "metadata": {},
   "source": [
    "# itertools.combinations_with_replacement()\n"
   ]
  },
  {
   "cell_type": "code",
   "execution_count": 24,
   "id": "35f07aef",
   "metadata": {},
   "outputs": [
    {
     "name": "stdout",
     "output_type": "stream",
     "text": [
      "HACK 2\n",
      "AA\n",
      "AC\n",
      "AH\n",
      "AK\n",
      "CC\n",
      "CH\n",
      "CK\n",
      "HH\n",
      "HK\n",
      "KK\n"
     ]
    }
   ],
   "source": [
    "# Enter your code here. Read input from STDIN. Print output to STDOUT\n",
    "from itertools import combinations_with_replacement as cb\n",
    "s,n=input().split()\n",
    "n=int(n)\n",
    "# print(list(combinations(s,n)))\n",
    "s=sorted(s)\n",
    "\n",
    "print(*[\"\".join(i) for i in cb(s,n)],sep=\"\\n\")"
   ]
  },
  {
   "cell_type": "markdown",
   "id": "20bb7aa4",
   "metadata": {},
   "source": [
    "## Compress the String!\n"
   ]
  },
  {
   "cell_type": "markdown",
   "id": "11c3c0d1",
   "metadata": {},
   "source": [
    "### Itertools.groupby()\n",
    "Syntax: itertools.groupby(iterable, key_func)\n",
    "\n",
    "Parameters:\n",
    "iterable: Iterable can be of any kind (list, tuple, dictionary).\n",
    "key: A function that calculates keys for each element present in iterable.\n",
    "\n",
    "\n",
    "\n",
    "Return type: It returns consecutive keys and groups from the iterable. If the key function is not specified or is None, key defaults to an identity function and returns the element unchanged."
   ]
  },
  {
   "cell_type": "code",
   "execution_count": 1,
   "id": "d1793870",
   "metadata": {},
   "outputs": [
    {
     "name": "stdout",
     "output_type": "stream",
     "text": [
      "1222311\n",
      "(1, 1) (3, 2) (1, 3) (2, 1) "
     ]
    }
   ],
   "source": [
    "# Enter your code here. Read input from STDIN. Print output to STDOUT\n",
    "import itertools \n",
    "S=input()\n",
    "a=itertools.groupby(S)\n",
    "for c,item in a:\n",
    "    # print(list(item))\n",
    "    print(tuple([len(list(item)),int(c)]),end=\" \")\n",
    "\n",
    "\n"
   ]
  },
  {
   "cell_type": "markdown",
   "id": "5ba4552e",
   "metadata": {},
   "source": [
    "## Iterables and Iterators\n"
   ]
  },
  {
   "cell_type": "code",
   "execution_count": 3,
   "id": "c1ce8663",
   "metadata": {},
   "outputs": [
    {
     "name": "stdout",
     "output_type": "stream",
     "text": [
      "4\n",
      "a a c d\n",
      "2\n",
      "0.833\n"
     ]
    }
   ],
   "source": [
    "# Enter your code here. Read input from STDIN. Print output to STDOUT\n",
    "from itertools import combinations\n",
    "\n",
    "N=int(input())\n",
    "L=input().split()\n",
    "K=int(input())\n",
    "\n",
    "C=list(combinations(L,K))\n",
    "# print(C)\n",
    "F=filter(lambda x: 'a' in x,C)\n",
    "# print(list(F))\n",
    "print(round(len(list(F))/len(C),3))\n"
   ]
  },
  {
   "cell_type": "markdown",
   "id": "83504018",
   "metadata": {},
   "source": [
    "### Maximize It!"
   ]
  },
  {
   "cell_type": "code",
   "execution_count": null,
   "id": "93b5eab4",
   "metadata": {},
   "outputs": [],
   "source": []
  },
  {
   "cell_type": "markdown",
   "id": "e9fa662e",
   "metadata": {},
   "source": [
    "# Collections Module"
   ]
  },
  {
   "cell_type": "markdown",
   "id": "cae141b4",
   "metadata": {},
   "source": [
    "The collection Module in Python provides different types of containers. A Container is an object that is used to store different objects and provide a way to access the contained objects and iterate over them. Some of the built-in containers are Tuple, List, Dictionary,"
   ]
  },
  {
   "cell_type": "markdown",
   "id": "a0124657",
   "metadata": {},
   "source": [
    "Table of Content:\n",
    "\n",
    "Counters\n",
    "\n",
    "OrderedDict\n",
    "\n",
    "DefaultDict\n",
    "\n",
    "ChainMap\n",
    "\n",
    "NamedTuple\n",
    "\n",
    "DeQue\n",
    "\n",
    "UserDict\n",
    "\n",
    "UserList\n",
    "\n",
    "UserString"
   ]
  },
  {
   "cell_type": "markdown",
   "id": "010c2782",
   "metadata": {},
   "source": [
    "## Counters"
   ]
  },
  {
   "cell_type": "markdown",
   "id": "1caf3402",
   "metadata": {},
   "source": [
    "A counter is a sub-class of the dictionary. It is used to keep the count of the elements in an iterable in the form of an unordered dictionary where the key represents the element in the iterable and value represents the count of that element in the iterable.\n",
    "\n",
    "\n",
    "### Syntax:\n",
    "\n",
    "\n",
    "\n",
    "class collections.Counter([iterable-or-mapping])\n",
    "\n",
    "\n",
    "\n"
   ]
  },
  {
   "cell_type": "code",
   "execution_count": 2,
   "id": "dae264f2",
   "metadata": {},
   "outputs": [
    {
     "name": "stdout",
     "output_type": "stream",
     "text": [
      "Counter({'B': 5, 'A': 3, 'C': 2})\n",
      "Counter({'B': 5, 'A': 3, 'C': 2})\n",
      "Counter({'B': 5, 'A': 3, 'C': 2})\n"
     ]
    }
   ],
   "source": [
    "# A Python program to show different\n",
    "# ways to create Counter\n",
    "from collections import Counter\n",
    "   \n",
    "# With sequence of items \n",
    "print(Counter(['B','B','A','B','C','A','B',\n",
    "               'B','A','C']))\n",
    "   \n",
    "# with dictionary\n",
    "print(Counter({'A':3, 'B':5, 'C':2}))\n",
    "   \n",
    "# with keyword arguments\n",
    "print(Counter(A=3, B=5, C=2))"
   ]
  },
  {
   "cell_type": "markdown",
   "id": "ea786111",
   "metadata": {},
   "source": [
    "## OrderedDict"
   ]
  },
  {
   "cell_type": "markdown",
   "id": "9cc7ddf4",
   "metadata": {},
   "source": [
    "An OrderedDict is also a sub-class of dictionary but unlike dictionary, it remembers the order in which the keys were inserted. \n",
    "\n",
    "### Syntax:\n",
    "\n",
    "class collections.OrderDict()"
   ]
  },
  {
   "cell_type": "code",
   "execution_count": 3,
   "id": "ccb59bd7",
   "metadata": {},
   "outputs": [
    {
     "name": "stdout",
     "output_type": "stream",
     "text": [
      "This is a Dict:\n",
      "\n",
      "a 1\n",
      "b 2\n",
      "c 3\n",
      "d 4\n",
      "\n",
      "This is an Ordered Dict:\n",
      "\n",
      "a 1\n",
      "b 2\n",
      "c 3\n",
      "d 4\n"
     ]
    }
   ],
   "source": [
    "# A Python program to demonstrate working\n",
    "# of OrderedDict\n",
    "\n",
    "from collections import OrderedDict\n",
    "\n",
    "print(\"This is a Dict:\\n\")\n",
    "d = {}\n",
    "d['a'] = 1\n",
    "d['b'] = 2\n",
    "d['c'] = 3\n",
    "d['d'] = 4\n",
    "\n",
    "for key, value in d.items():\n",
    "\tprint(key, value)\n",
    "\n",
    "print(\"\\nThis is an Ordered Dict:\\n\")\n",
    "od = OrderedDict()\n",
    "od['a'] = 1\n",
    "od['b'] = 2\n",
    "od['c'] = 3\n",
    "od['d'] = 4\n",
    "\n",
    "for key, value in od.items():\n",
    "\tprint(key, value)\n"
   ]
  },
  {
   "cell_type": "markdown",
   "id": "f42b133a",
   "metadata": {},
   "source": [
    "While deleting and re-inserting the same key will push the key to the last to maintain the order of insertion of the key.\n",
    "\n",
    "Example->\n"
   ]
  },
  {
   "cell_type": "code",
   "execution_count": 6,
   "id": "91c3764a",
   "metadata": {},
   "outputs": [
    {
     "name": "stdout",
     "output_type": "stream",
     "text": [
      "Before Deleting\n",
      "a 1\n",
      "b 2\n",
      "c 3\n",
      "d 4\n",
      "\n",
      "After re-inserting\n",
      "b 2\n",
      "c 3\n",
      "d 4\n",
      "a 1\n",
      "\n"
     ]
    }
   ],
   "source": [
    "# A Python program to demonstrate working\n",
    "# of OrderedDict\n",
    "\n",
    "from collections import OrderedDict\n",
    "\n",
    "\n",
    "od = OrderedDict()\n",
    "od['a'] = 1\n",
    "od['b'] = 2\n",
    "od['c'] = 3\n",
    "od['d'] = 4\n",
    "\n",
    "print('Before Deleting')\n",
    "for key, value in od.items():\n",
    "\tprint(key, value)\n",
    "\t\n",
    "# deleting element\n",
    "od.pop('a')\n",
    "\n",
    "# Re-inserting the same\n",
    "od['a'] = 1\n",
    "\n",
    "print('\\nAfter re-inserting')\n",
    "for key, value in od.items():\n",
    "\tprint(key, value)\n",
    "print()\n",
    "d={}\n",
    "d['a'] = 1\n",
    "d['b'] = 2\n",
    "d['c'] = 3\n",
    "d['d'] = 4\n"
   ]
  },
  {
   "cell_type": "markdown",
   "id": "25ec9d4a",
   "metadata": {},
   "source": [
    "## ChainMap"
   ]
  },
  {
   "cell_type": "markdown",
   "id": "107742aa",
   "metadata": {},
   "source": [
    "A ChainMap encapsulates many dictionaries into a single unit and returns a list of dictionaries.\n",
    "\n",
    "### Syntax:\n",
    "\n",
    "class collections.ChainMap(dict1, dict2)"
   ]
  },
  {
   "cell_type": "code",
   "execution_count": 1,
   "id": "c938c03c",
   "metadata": {},
   "outputs": [
    {
     "name": "stdout",
     "output_type": "stream",
     "text": [
      "ChainMap({'a': 1, 'b': 2}, {'c': 3, 'd': 4}, {'e': 5, 'f': 6})\n"
     ]
    }
   ],
   "source": [
    "# Python program to demonstrate\n",
    "# ChainMap\n",
    "\t\n",
    "\t\n",
    "from collections import ChainMap\n",
    "\t\n",
    "\t\n",
    "d1 = {'a': 1, 'b': 2}\n",
    "d2 = {'c': 3, 'd': 4}\n",
    "d3 = {'e': 5, 'f': 6}\n",
    "\n",
    "# Defining the chainmap\n",
    "c = ChainMap(d1, d2, d3)\n",
    "\t\n",
    "print(c)\n"
   ]
  },
  {
   "cell_type": "markdown",
   "id": "7706aa0d",
   "metadata": {},
   "source": [
    "### Accessing Keys and Values from ChainMap\n",
    "\n",
    "Values from ChainMap can be accessed using the key name. They can also be accessed by using the keys() and values() method.\n",
    "\n"
   ]
  },
  {
   "cell_type": "code",
   "execution_count": 10,
   "id": "855bdde9",
   "metadata": {},
   "outputs": [
    {
     "name": "stdout",
     "output_type": "stream",
     "text": [
      "1\n",
      "ValuesView(ChainMap({'a': 1, 'b': 2}, {'c': 3, 'd': 4}, {'e': 5, 'f': 6}))\n",
      "KeysView(ChainMap({'a': 1, 'b': 2}, {'c': 3, 'd': 4}, {'e': 5, 'f': 6}))\n",
      "\n",
      "[5, 6, 3, 4, 1, 2]\n",
      "\n",
      "['e', 'f', 'c', 'd', 'a', 'b']\n",
      "\n",
      "[('e', 5), ('f', 6), ('c', 3), ('d', 4), ('a', 1), ('b', 2)]\n",
      "\n"
     ]
    }
   ],
   "source": [
    "# Python program to demonstrate\n",
    "# ChainMap\n",
    "\t\n",
    "\t\n",
    "from collections import ChainMap\n",
    "\t\n",
    "\t\n",
    "d1 = {'a': 1, 'b': 2}\n",
    "d2 = {'c': 3, 'd': 4}\n",
    "d3 = {'e': 5, 'f': 6}\n",
    "\n",
    "# Defining the chainmap\n",
    "c = ChainMap(d1, d2, d3)\n",
    "\t\n",
    "# Accessing Values using key name\n",
    "print(c['a'])\n",
    "\n",
    "# Accesing values using values()\n",
    "# method\n",
    "print(c.values())\n",
    "\n",
    "# Accessing keys using keys()\n",
    "# method\n",
    "print(c.keys(),end=\"\\n\\n\")\n",
    "\n",
    "print(list(c.values()),end=\"\\n\\n\")\n",
    "\n",
    "print(list(c.keys()),end=\"\\n\\n\")\n",
    "\n",
    "print(list(c.items()),end=\"\\n\\n\")\n",
    "\n",
    "\n"
   ]
  },
  {
   "cell_type": "markdown",
   "id": "a9ba2212",
   "metadata": {},
   "source": [
    "### Adding new dictionary\n",
    "\n",
    "A new dictionary can be added by using the new_child() method. The newly added dictionary is added at the beginning of the ChainMap."
   ]
  },
  {
   "cell_type": "code",
   "execution_count": 11,
   "id": "b55ac358",
   "metadata": {},
   "outputs": [
    {
     "name": "stdout",
     "output_type": "stream",
     "text": [
      "All the ChainMap contents are : \n",
      "ChainMap({'a': 1, 'b': 2}, {'b': 3, 'c': 4})\n",
      "Displaying new ChainMap : \n",
      "ChainMap({'f': 5}, {'a': 1, 'b': 2}, {'b': 3, 'c': 4})\n"
     ]
    }
   ],
   "source": [
    "# Python code to demonstrate ChainMap and\n",
    "# new_child()\n",
    "\n",
    "import collections\n",
    "\n",
    "# initializing dictionaries\n",
    "dic1 = { 'a' : 1, 'b' : 2 }\n",
    "dic2 = { 'b' : 3, 'c' : 4 }\n",
    "dic3 = { 'f' : 5 }\n",
    "\n",
    "# initializing ChainMap\n",
    "chain = collections.ChainMap(dic1, dic2)\n",
    "\n",
    "# printing chainMap\n",
    "print (\"All the ChainMap contents are : \")\n",
    "print (chain)\n",
    "\n",
    "# using new_child() to add new dictionary\n",
    "chain1 = chain.new_child(dic3)\n",
    "\n",
    "# printing chainMap\n",
    "print (\"Displaying new ChainMap : \")\n",
    "print (chain1)\n"
   ]
  },
  {
   "cell_type": "markdown",
   "id": "52108677",
   "metadata": {},
   "source": [
    "## NamedTuple"
   ]
  },
  {
   "cell_type": "markdown",
   "id": "b1759a6f",
   "metadata": {},
   "source": [
    "A NamedTuple returns a tuple object with names for each position which the ordinary tuples lack.\n",
    "Syntax:\n",
    "\n",
    "class collections.namedtuple(typename, field_names)"
   ]
  },
  {
   "cell_type": "code",
   "execution_count": 12,
   "id": "604d5bcd",
   "metadata": {},
   "outputs": [
    {
     "name": "stdout",
     "output_type": "stream",
     "text": [
      "The Student age using index is : 19\n",
      "The Student name using keyname is : Nandini\n"
     ]
    }
   ],
   "source": [
    "# Python code to demonstrate namedtuple()\n",
    "\n",
    "from collections import namedtuple\n",
    "\n",
    "# Declaring namedtuple()\n",
    "Student = namedtuple('Student',['name','age','DOB'])\n",
    "\n",
    "# Adding values\n",
    "S = Student('Nandini','19','2541997')\n",
    "\n",
    "# Access using index\n",
    "print (\"The Student age using index is : \",end =\"\")\n",
    "print (S[1])\n",
    "\n",
    "# Access using name\n",
    "print (\"The Student name using keyname is : \",end =\"\")\n",
    "print (S.name)\n"
   ]
  },
  {
   "cell_type": "markdown",
   "id": "83b5aab3",
   "metadata": {},
   "source": [
    "### Conversion Operations \n",
    "\n",
    "1. _make(): This function is used to return a namedtuple() from the iterable passed as argument.\n",
    "\n",
    "2. _asdict(): This function returns the OrdereDict() as constructed from the mapped values of namedtuple()."
   ]
  },
  {
   "cell_type": "code",
   "execution_count": 13,
   "id": "78752117",
   "metadata": {},
   "outputs": [
    {
     "name": "stdout",
     "output_type": "stream",
     "text": [
      "The namedtuple instance using iterable is : \n",
      "Student(name='Manjeet', age='19', DOB='411997')\n",
      "The OrderedDict instance using namedtuple is : \n",
      "{'name': 'Nandini', 'age': '19', 'DOB': '2541997'}\n"
     ]
    }
   ],
   "source": [
    "# Python code to demonstrate namedtuple() and\n",
    "# _make(), _asdict()\n",
    "\n",
    "\n",
    "from collections import namedtuple\n",
    "\n",
    "# Declaring namedtuple()\n",
    "Student = namedtuple('Student',['name','age','DOB'])\n",
    "\n",
    "# Adding values\n",
    "S = Student('Nandini','19','2541997')\n",
    "\n",
    "# initializing iterable\n",
    "li = ['Manjeet', '19', '411997' ]\n",
    "\n",
    "# initializing dict\n",
    "di = { 'name' : \"Nikhil\", 'age' : 19 , 'DOB' : '1391997' }\n",
    "\n",
    "# using _make() to return namedtuple()\n",
    "print (\"The namedtuple instance using iterable is : \")\n",
    "print (Student._make(li))\n",
    "\n",
    "# using _asdict() to return an OrderedDict()\n",
    "print (\"The OrderedDict instance using namedtuple is : \")\n",
    "print (S._asdict())\n"
   ]
  },
  {
   "cell_type": "markdown",
   "id": "4d45088b",
   "metadata": {},
   "source": [
    "## Deque"
   ]
  },
  {
   "cell_type": "markdown",
   "id": "a2453f85",
   "metadata": {},
   "source": [
    "Deque (Doubly Ended Queue) is the optimized list for quicker append and pop operations from both sides of the container. It provides O(1) time complexity for append and pop operations as compared to list with O(n) time complexity.\n",
    "\n",
    "### Syntax:\n",
    "\n",
    "class collections.deque(list)\n",
    "\n",
    "This function takes the list as an argument."
   ]
  },
  {
   "cell_type": "code",
   "execution_count": 14,
   "id": "9d66cf66",
   "metadata": {},
   "outputs": [
    {
     "name": "stdout",
     "output_type": "stream",
     "text": [
      "deque(['name', 'age', 'DOB'])\n"
     ]
    }
   ],
   "source": [
    "# Python code to demonstrate deque\n",
    "\n",
    "\n",
    "from collections import deque\n",
    "\n",
    "# Declaring deque\n",
    "queue = deque(['name','age','DOB'])\n",
    "\n",
    "print(queue)\n"
   ]
  },
  {
   "cell_type": "markdown",
   "id": "6d0412e0",
   "metadata": {},
   "source": [
    "### Inserting Elements\n",
    "\n",
    "Elements in deque can be inserted from both ends. To insert the elements from right append() method is used and to insert the elements from the left appendleft() method is used."
   ]
  },
  {
   "cell_type": "code",
   "execution_count": 15,
   "id": "9be8bd1c",
   "metadata": {},
   "outputs": [
    {
     "name": "stdout",
     "output_type": "stream",
     "text": [
      "The deque after appending at right is : \n",
      "deque([1, 2, 3, 4])\n",
      "The deque after appending at left is : \n",
      "deque([6, 1, 2, 3, 4])\n"
     ]
    }
   ],
   "source": [
    "# Python code to demonstrate working of\n",
    "# append(), appendleft()\n",
    "\n",
    "\n",
    "from collections import deque\n",
    "\n",
    "# initializing deque\n",
    "de = deque([1,2,3])\n",
    "\n",
    "# using append() to insert element at right end\n",
    "# inserts 4 at the end of deque\n",
    "de.append(4)\n",
    "\n",
    "# printing modified deque\n",
    "print (\"The deque after appending at right is : \")\n",
    "print (de)\n",
    "\n",
    "# using appendleft() to insert element at right end\n",
    "# inserts 6 at the beginning of deque\n",
    "de.appendleft(6)\n",
    "\n",
    "# printing modified deque\n",
    "print (\"The deque after appending at left is : \")\n",
    "print (de)\n"
   ]
  },
  {
   "cell_type": "markdown",
   "id": "14893bc9",
   "metadata": {},
   "source": [
    "### Removing Elements\n",
    "\n",
    "Elements can also be removed from the deque from both the ends. To remove elements from right use pop() method and to remove elements from the left use popleft() method."
   ]
  },
  {
   "cell_type": "code",
   "execution_count": 16,
   "id": "f7c4b4f2",
   "metadata": {},
   "outputs": [
    {
     "name": "stdout",
     "output_type": "stream",
     "text": [
      "The deque after deleting from right is : \n",
      "deque([6, 1, 2, 3])\n",
      "The deque after deleting from left is : \n",
      "deque([1, 2, 3])\n"
     ]
    }
   ],
   "source": [
    "# Python code to demonstrate working of\n",
    "# pop(), and popleft()\n",
    "\n",
    "from collections import deque\n",
    "\n",
    "# initializing deque\n",
    "de = deque([6, 1, 2, 3, 4])\n",
    "\n",
    "# using pop() to delete element from right end\n",
    "# deletes 4 from the right end of deque\n",
    "de.pop()\n",
    "\n",
    "# printing modified deque\n",
    "print (\"The deque after deleting from right is : \")\n",
    "print (de)\n",
    "\n",
    "# using popleft() to delete element from left end\n",
    "# deletes 6 from the left end of deque\n",
    "de.popleft()\n",
    "\n",
    "# printing modified deque\n",
    "print (\"The deque after deleting from left is : \")\n",
    "print (de)\n"
   ]
  },
  {
   "cell_type": "markdown",
   "id": "ba7dd044",
   "metadata": {},
   "source": [
    "## UserString"
   ]
  },
  {
   "cell_type": "markdown",
   "id": "17851990",
   "metadata": {},
   "source": [
    "UserString is a string like container and just like UserDict and UserList it acts as a wrapper around string objects. It is used when someone wants to create their own strings with some modified or additional functionality. \n",
    "\n",
    "### Syntax:\n",
    "\n",
    "class collections.UserString(seq)\n",
    "\n",
    "### In this we can append as well and remove from the string thus it is mutable"
   ]
  },
  {
   "cell_type": "code",
   "execution_count": 17,
   "id": "15fc6a47",
   "metadata": {},
   "outputs": [
    {
     "name": "stdout",
     "output_type": "stream",
     "text": [
      "Original String: Geeks\n",
      "String After Appending: Geekss\n",
      "String after Removing: Gkss\n"
     ]
    }
   ],
   "source": [
    "# Python program to demonstrate\n",
    "# userstring\n",
    "\t\n",
    "\n",
    "from collections import UserString\n",
    "\t\n",
    "\n",
    "# Creating a Mutable String\n",
    "class Mystring(UserString):\n",
    "\t\n",
    "\t# Function to append to\n",
    "\t# string\n",
    "\tdef append(self, s):\n",
    "\t\tself.data += s\n",
    "\t\t\n",
    "\t# Function to rmeove from\n",
    "\t# string\n",
    "\tdef remove(self, s):\n",
    "\t\tself.data = self.data.replace(s, \"\")\n",
    "\t\n",
    "# Driver's code\n",
    "s1 = Mystring(\"Geeks\")\n",
    "print(\"Original String:\", s1.data)\n",
    "\n",
    "# Appending to string\n",
    "s1.append(\"s\")\n",
    "print(\"String After Appending:\", s1.data)\n",
    "\n",
    "# Removing from string\n",
    "s1.remove(\"e\")\n",
    "print(\"String after Removing:\", s1.data)\n"
   ]
  },
  {
   "cell_type": "markdown",
   "id": "b5b8ab23",
   "metadata": {},
   "source": [
    "### collections.Counter()\n",
    "A counter is a container that stores elements as dictionary keys, and their counts are stored as dictionary values.\n"
   ]
  },
  {
   "cell_type": "raw",
   "id": "fdd819e4",
   "metadata": {},
   "source": [
    "\n",
    "Sample Code\n",
    "\n",
    ">>> from collections import Counter\n",
    ">>> \n",
    ">>> myList = [1,1,2,3,4,5,3,2,3,4,2,1,2,3]\n",
    ">>> print Counter(myList)\n",
    "Counter({2: 4, 3: 4, 1: 3, 4: 2, 5: 1})\n",
    ">>>\n",
    ">>> print Counter(myList).items()\n",
    "[(1, 3), (2, 4), (3, 4), (4, 2), (5, 1)]\n",
    ">>> \n",
    ">>> print Counter(myList).keys()\n",
    "[1, 2, 3, 4, 5]\n",
    ">>> \n",
    ">>> print Counter(myList).values()\n",
    "[3, 4, 4, 2, 1]"
   ]
  },
  {
   "cell_type": "code",
   "execution_count": 22,
   "id": "50ab21c7",
   "metadata": {},
   "outputs": [
    {
     "name": "stdout",
     "output_type": "stream",
     "text": [
      "10\n",
      "2 3 4 5 6 8 7 6 5 18\n",
      "6\n",
      "6 55\n",
      "6 45\n",
      "6 55\n",
      "4 40\n",
      "18 60\n",
      "10 50\n",
      "200\n"
     ]
    }
   ],
   "source": [
    "# Enter your code here. Read input from STDIN. Print output to STDOUT\n",
    "import collections\n",
    "n=int(input())\n",
    "shoes_size=input().split()\n",
    "shoes=[]\n",
    "for i in shoes_size:\n",
    "    shoes.append(int(i))\n",
    "\n",
    "# print(shoes)\n",
    "counter_shoes=collections.Counter(shoes)\n",
    "# print(counter_shoes)\n",
    "\n",
    "Cust_N=int(input())\n",
    "cust_list=[]\n",
    "a=[]\n",
    "b=[]\n",
    "for i in range(Cust_N):\n",
    "    i,j= input().split()\n",
    "    a.append(int(i))\n",
    "    b.append(int(j))\n",
    "\n",
    "price=0\n",
    "for i in range(len(a)):\n",
    "    if counter_shoes[a[i]] >0:\n",
    "       price+=b[i]     \n",
    "       counter_shoes[a[i]]-=1\n",
    "\n",
    "print(price)\n",
    "\n",
    "# inputs ->\n",
    "# 10\n",
    "# 2 3 4 5 6 8 7 6 5 18\n",
    "# 6\n",
    "# 6 55\n",
    "# 6 45\n",
    "# 6 55\n",
    "# 4 40\n",
    "# 18 60\n",
    "# 10 50"
   ]
  },
  {
   "cell_type": "markdown",
   "id": "f0b85636",
   "metadata": {},
   "source": [
    "# DefaultDict Tutorial\n"
   ]
  },
  {
   "cell_type": "markdown",
   "id": "e5e0ab06",
   "metadata": {},
   "source": [
    "It's similar to the usual dictionary (dict) container, but the only difference is that a defaultdict will have a default value if that key has not been set yet. If you didn't use a defaultdict you'd have to check to see if that key exists, and if it doesn't, set it to what you want.\n",
    "\n",
    "### For example:"
   ]
  },
  {
   "cell_type": "code",
   "execution_count": 25,
   "id": "f4cd8d44",
   "metadata": {},
   "outputs": [
    {
     "name": "stdout",
     "output_type": "stream",
     "text": [
      "('python', ['awesome', 'language'])\n",
      "('something-else', ['not relevant'])\n"
     ]
    }
   ],
   "source": [
    "\n",
    "\n",
    "from collections import defaultdict\n",
    "d = defaultdict(list)\n",
    "d['python'].append(\"awesome\")\n",
    "d['something-else'].append(\"not relevant\")\n",
    "d['python'].append(\"language\")\n",
    "for i in d.items():\n",
    "    print (i)"
   ]
  },
  {
   "cell_type": "code",
   "execution_count": 2,
   "id": "73f4cec1",
   "metadata": {},
   "outputs": [
    {
     "name": "stdout",
     "output_type": "stream",
     "text": [
      "5 2\n",
      "a\n",
      "a\n",
      "b\n",
      "a\n",
      "b\n",
      "a\n",
      "b\n",
      "1 2 4 \n",
      "3 5 \n"
     ]
    }
   ],
   "source": [
    "# Enter your code here. Read input from STDIN. Print output to STDOUT\n",
    "n,m=map(int,input().split())\n",
    "A=[]\n",
    "B=[]\n",
    "for _ in range(n):\n",
    "    A.append(input())\n",
    "for _ in range(m):\n",
    "    B.append(input())\n",
    "\n",
    "for i in range(len(B)):\n",
    "    if B[i] not in A:\n",
    "        print(-1,end=\" \")\n",
    "    else:\n",
    "        for j in range(len(A)):\n",
    "            if B[i]==A[j]:\n",
    "                print(j+1,end=\" \")\n",
    "    print()"
   ]
  },
  {
   "cell_type": "markdown",
   "id": "69ab0b80",
   "metadata": {},
   "source": [
    "### collections.namedtuple()\n",
    "Basically, namedtuples are easy to create, lightweight object types.\n",
    "They turn tuples into convenient containers for simple tasks.\n",
    "With namedtuples, you don’t have to use integer indices for accessing members of a tuple."
   ]
  },
  {
   "cell_type": "raw",
   "id": "29dd8221",
   "metadata": {},
   "source": [
    "Example\n",
    "\n",
    "Code 01\n",
    "\n",
    ">>> from collections import namedtuple\n",
    ">>> Point = namedtuple('Point','x,y')\n",
    ">>> pt1 = Point(1,2)\n",
    ">>> pt2 = Point(3,4)\n",
    ">>> dot_product = ( pt1.x * pt2.x ) +( pt1.y * pt2.y )\n",
    ">>> print dot_product\n",
    "11\n",
    "\n",
    "\n",
    "Code 02\n",
    "\n",
    ">>> from collections import namedtuple\n",
    ">>> Car = namedtuple('Car','Price, Mileage, Colour ,Class')\n",
    ">>> xyz = Car(Price = 100000, Mileage = 30, Colour = 'Cyan', Class = 'Y')\n",
    ">>> print xyz\n",
    "Car(Price=100000, Mileage=30, Colour='Cyan', Class='Y')\n",
    ">>> print xyz.Class\n",
    "Y"
   ]
  },
  {
   "cell_type": "code",
   "execution_count": 11,
   "id": "15f3965b",
   "metadata": {},
   "outputs": [
    {
     "name": "stdout",
     "output_type": "stream",
     "text": [
      "Point(x=1, y=2)\n",
      "Point(x=3, y=4)\n",
      "1\n",
      "11\n"
     ]
    }
   ],
   "source": [
    "from collections import namedtuple\n",
    "Point = namedtuple('Point','x,y')  # those which are going to assign a value are written in single coats \n",
    "pt1 = Point(1,2)  # x=1 ,y=2\n",
    "print(pt1)        \n",
    "pt2 = Point(3,4) # x=3, y=4\n",
    "print(pt2)\n",
    "print(pt1.x)\n",
    "dot_product = ( pt1.x * pt2.x ) +( pt1.y * pt2.y )\n",
    "print(dot_product)"
   ]
  },
  {
   "cell_type": "code",
   "execution_count": 14,
   "id": "7eef8aea",
   "metadata": {},
   "outputs": [
    {
     "name": "stdout",
     "output_type": "stream",
     "text": [
      "Car(Price=100000, Mileage=30, Colour='Cyan', Class='Y')\n",
      "Y\n",
      "Car(Price=200, Mileage=12, Colour='pink', Class='U')\n"
     ]
    }
   ],
   "source": [
    "from collections import namedtuple\n",
    "Car = namedtuple('Car','Price, Mileage, Colour ,Class')\n",
    "xyz = Car(Price = 100000, Mileage = 30, Colour = 'Cyan', Class = 'Y')\n",
    "print (xyz)\n",
    "\n",
    "Car(Price=100000, Mileage=30, Colour='Cyan', Class='Y')\n",
    "print (xyz.Class)\n",
    "\n",
    "aa=Car(200,12,'pink','U')\n",
    "print(aa)"
   ]
  },
  {
   "cell_type": "code",
   "execution_count": 16,
   "id": "a1843a94",
   "metadata": {},
   "outputs": [
    {
     "name": "stdout",
     "output_type": "stream",
     "text": [
      "Car(Price=200, Mileage=12, Colour='pink', Class='U')\n"
     ]
    }
   ],
   "source": [
    "ar = namedtuple('Car','Price, Mileage, Colour ,Class')\n",
    "aa=Car(200,12,'pink','U')\n",
    "print (aa)\n"
   ]
  },
  {
   "cell_type": "code",
   "execution_count": 17,
   "id": "b4f24a22",
   "metadata": {},
   "outputs": [
    {
     "name": "stdout",
     "output_type": "stream",
     "text": [
      "5\n",
      "ID         MARKS      NAME       CLASS     \n",
      "1          97         Raymond    7   \n",
      "2          50         Steven     4\n",
      "3          91         Adrian     9       \n",
      "4          72         Stewart    5 \n",
      "5          80         Peter      6  \n",
      "78.0\n"
     ]
    }
   ],
   "source": [
    "# Enter your code here. Read input from STDIN. Print output to STDOUT\n",
    "from collections import namedtuple\n",
    "n=int(input())\n",
    "p=[]\n",
    "e,r,t,y=input().split()\n",
    "s_list=namedtuple(\"student\",[e,r,t,y]) # this is the revolutionary thing for me, that variable  acts a its value\n",
    "for _ in range(n):\n",
    "    a,b,c,d=input().split()\n",
    "    abc=s_list(a,b,c,d)\n",
    "    p.append(abc)\n",
    "\n",
    "sum_marks=sum(int(i.MARKS) for i  in p)\n",
    "\n",
    "print(sum_marks/n)\n",
    "    \n",
    "    "
   ]
  },
  {
   "cell_type": "markdown",
   "id": "90bcaacc",
   "metadata": {},
   "source": [
    "### collections.OrderedDict\n",
    "An OrderedDict is a dictionary that remembers the order of the keys that were inserted first. If a new entry overwrites an existing entry, the original insertion position is left unchanged.\n",
    "\n"
   ]
  },
  {
   "cell_type": "raw",
   "id": "5150f835",
   "metadata": {},
   "source": [
    ">>> from collections import OrderedDict\n",
    ">>> \n",
    ">>> ordinary_dictionary = {}\n",
    ">>> ordinary_dictionary['a'] = 1\n",
    ">>> ordinary_dictionary['b'] = 2\n",
    ">>> ordinary_dictionary['c'] = 3\n",
    ">>> ordinary_dictionary['d'] = 4\n",
    ">>> ordinary_dictionary['e'] = 5\n",
    ">>> \n",
    ">>> print ordinary_dictionary\n",
    "{'a': 1, 'c': 3, 'b': 2, 'e': 5, 'd': 4}\n",
    ">>> \n",
    ">>> ordered_dictionary = OrderedDict()\n",
    ">>> ordered_dictionary['a'] = 1\n",
    ">>> ordered_dictionary['b'] = 2\n",
    ">>> ordered_dictionary['c'] = 3\n",
    ">>> ordered_dictionary['d'] = 4\n",
    ">>> ordered_dictionary['e'] = 5\n",
    ">>> \n",
    ">>> print ordered_dictionary\n",
    "OrderedDict([('a', 1), ('b', 2), ('c', 3), ('d', 4), ('e', 5)])"
   ]
  },
  {
   "cell_type": "code",
   "execution_count": 25,
   "id": "23ea2b01",
   "metadata": {},
   "outputs": [
    {
     "name": "stdout",
     "output_type": "stream",
     "text": [
      "9\n",
      "BANANA FRIES 12\n",
      "POTATO CHIPS 30\n",
      "APPLE JUICE 10\n",
      "CANDY 5\n",
      "APPLE JUICE 10\n",
      "CANDY 5\n",
      "CANDY 5\n",
      "CANDY 5\n",
      "POTATO CHIPS 30\n",
      "BANANA FRIES 12\n",
      "POTATO CHIPS 60\n",
      "APPLE JUICE 20\n",
      "CANDY 20\n"
     ]
    }
   ],
   "source": [
    "# Enter your code here. Read input from STDIN. Print output to STDOUT\n",
    "from collections import OrderedDict\n",
    "dic=OrderedDict()\n",
    "n=int(input())\n",
    "\n",
    "for _ in range(n):\n",
    "    item,space,price=input().rpartition(' ') # revolutionary use rpartition() if one line input are not same through out the loop\n",
    "    if item not in dic:\n",
    "        dic[item]=int(price)\n",
    "    else:\n",
    "        dic[item] +=int(price)\n",
    "    \n",
    "for a,b in dic.items():\n",
    "    print(a,b,sep=\" \")\n",
    "    \n",
    "'''input\n",
    "9\n",
    "BANANA FRIES 12\n",
    "POTATO CHIPS 30\n",
    "APPLE JUICE 10\n",
    "CANDY 5\n",
    "APPLE JUICE 10\n",
    "CANDY 5\n",
    "CANDY 5\n",
    "CANDY 5\n",
    "POTATO CHIPS 30\n",
    "'''    \n",
    "\n",
    "''' output\n",
    "BANANA FRIES 12\n",
    "POTATO CHIPS 60\n",
    "APPLE JUICE 20\n",
    "CANDY 20'''\n",
    "\n"
   ]
  },
  {
   "cell_type": "markdown",
   "id": "b001f930",
   "metadata": {},
   "source": [
    "### Word Order"
   ]
  },
  {
   "cell_type": "code",
   "execution_count": 2,
   "id": "01bd44b9",
   "metadata": {},
   "outputs": [
    {
     "name": "stdout",
     "output_type": "stream",
     "text": [
      "4\n",
      "bcdef\n",
      "abcdefg\n",
      "bcde\n",
      "bcdef\n",
      "3\n",
      "2 1 1 "
     ]
    }
   ],
   "source": [
    "# Enter your code here. Read input from STDIN. Print output to STDOUT\n",
    "import collections\n",
    "n=int(input())\n",
    "a=[]\n",
    "for _ in range(n):\n",
    "    a.append(input())\n",
    "\n",
    "dict_count=collections.Counter(a)\n",
    "# print(dict_count)\n",
    "print(len(set(a)))\n",
    "\n",
    "for b in dict_count.values():\n",
    "    print(b,end=\" \")"
   ]
  },
  {
   "cell_type": "markdown",
   "id": "93c0b52c",
   "metadata": {},
   "source": [
    "#### collections.deque()\n",
    "A deque is a double-ended queue. It can be used to add or remove elements from both ends.\n",
    "\n",
    "Deques support thread safe, memory efficient appends and pops from either side of the deque with approximately the same O(1) performance in either direction.\n",
    "\n",
    "Click on the link to learn more about deque() methods.\n",
    "Click on the link to learn more about various approaches to working with deques: Deque Recipes."
   ]
  },
  {
   "cell_type": "raw",
   "id": "9511fa39",
   "metadata": {},
   "source": [
    ">>> from collections import deque\n",
    ">>> d = deque()\n",
    ">>> d.append(1)\n",
    ">>> print d\n",
    "deque([1])\n",
    ">>> d.appendleft(2)\n",
    ">>> print d\n",
    "deque([2, 1])\n",
    ">>> d.clear()\n",
    ">>> print d\n",
    "deque([])\n",
    ">>> d.extend('1')\n",
    ">>> print d\n",
    "deque(['1'])\n",
    ">>> d.extendleft('234')\n",
    ">>> print d\n",
    "deque(['4', '3', '2', '1'])\n",
    ">>> d.count('1')\n",
    "1\n",
    ">>> d.pop()\n",
    "'1'\n",
    ">>> print d\n",
    "deque(['4', '3', '2'])\n",
    ">>> d.popleft()\n",
    "'4'\n",
    ">>> print d\n",
    "deque(['3', '2'])\n",
    ">>> d.extend('7896')\n",
    ">>> print d\n",
    "deque(['3', '2', '7', '8', '9', '6'])\n",
    ">>> d.remove('2')\n",
    ">>> print d\n",
    "deque(['3', '7', '8', '9', '6'])\n",
    ">>> d.reverse()\n",
    ">>> print d\n",
    "deque(['6', '9', '8', '7', '3'])\n",
    ">>> d.rotate(3)\n",
    ">>> print d\n",
    "deque(['8', '7', '3', '6', '9'])"
   ]
  },
  {
   "cell_type": "code",
   "execution_count": 3,
   "id": "86ee7ebd",
   "metadata": {},
   "outputs": [
    {
     "name": "stdout",
     "output_type": "stream",
     "text": [
      "6\n",
      "append 1\n",
      "append 2\n",
      "append 3\n",
      "appendleft 4\n",
      "pop\n",
      "popleft\n",
      "1 2 "
     ]
    }
   ],
   "source": [
    "# Enter your code here. Read input from STDIN. Print output to STDOUT\n",
    "from collections import deque\n",
    "N=int(input())\n",
    "d=deque()\n",
    "for _ in range(N):\n",
    "    q,*w=input().split()\n",
    "    getattr(d,q)(*w)    # revolutionary way to us the funtion from a variable\n",
    "\n",
    "for i in d:\n",
    "    print(i,end=\" \")\n",
    "    "
   ]
  },
  {
   "cell_type": "markdown",
   "id": "5cf01a15",
   "metadata": {},
   "source": [
    "### Company Logo\n"
   ]
  },
  {
   "cell_type": "code",
   "execution_count": 1,
   "id": "ab2cb470",
   "metadata": {},
   "outputs": [
    {
     "name": "stdout",
     "output_type": "stream",
     "text": [
      "aabbbccad\n",
      "a 3\n",
      "b 3\n",
      "c 2\n"
     ]
    }
   ],
   "source": [
    "import collections\n",
    "s = sorted(input())\n",
    "a= collections.Counter(s).most_common(3)\n",
    "for i,j in a:\n",
    "\tprint(i,j,sep=\" \")"
   ]
  },
  {
   "cell_type": "code",
   "execution_count": null,
   "id": "d806d29c",
   "metadata": {},
   "outputs": [],
   "source": []
  },
  {
   "cell_type": "markdown",
   "id": "58922a72",
   "metadata": {},
   "source": [
    "## getattr() Function"
   ]
  },
  {
   "cell_type": "markdown",
   "id": "cb2cf2d0",
   "metadata": {},
   "source": [
    "The getattr() function returns the value of the specified attribute from the specified object.\n",
    "\n",
    "### Syntax\n",
    "\n",
    "#### getattr(object, attribute, default)\n",
    "\n",
    "\n",
    "\n",
    "object\t-> Required. An object.\n",
    "\n",
    "attribute ->\tThe name of the attribute you want to get the value from\n",
    "\n",
    "default -> \tOptional. The value to return if the attribute does not exist"
   ]
  },
  {
   "cell_type": "code",
   "execution_count": 6,
   "id": "a45953b7",
   "metadata": {},
   "outputs": [
    {
     "name": "stdout",
     "output_type": "stream",
     "text": [
      "36\n"
     ]
    }
   ],
   "source": [
    "class Person:\n",
    "  name = \"John\"\n",
    "  age = 36\n",
    "  country = \"Norway\"\n",
    "\n",
    "x = getattr(Person, 'age') # here age variable is replaced by its value and passed into the object\n",
    "\n",
    "print(x)"
   ]
  },
  {
   "cell_type": "markdown",
   "id": "25aa014e",
   "metadata": {},
   "source": [
    "### delattr() Function\n",
    "\n",
    "The delattr() function will delete the specified attribute from the specified object.\n",
    "\n",
    "#### Syntax\n",
    "\n",
    "#### delattr(object, attribute)\n",
    "\n",
    "object\tRequired. An object.\n",
    "\n",
    "attribute\tRequired. The name of the attribute you want to remove"
   ]
  },
  {
   "cell_type": "code",
   "execution_count": 12,
   "id": "38ba23e5",
   "metadata": {},
   "outputs": [],
   "source": [
    "class Person:\n",
    "  name = \"John\"\n",
    "  age = 36\n",
    "  country = \"Norway\"\n",
    "\n",
    "delattr(Person, 'age') # this will delete the attribute age from the class\n"
   ]
  },
  {
   "cell_type": "markdown",
   "id": "63e2c455",
   "metadata": {},
   "source": [
    "## hasattr() Function\n",
    "The hasattr() function returns True if the specified object has the specified attribute, otherwise False\n",
    "### Syntax\n",
    "\n",
    "#### hasattr(object, attribute)"
   ]
  },
  {
   "cell_type": "code",
   "execution_count": 14,
   "id": "597a5081",
   "metadata": {},
   "outputs": [
    {
     "name": "stdout",
     "output_type": "stream",
     "text": [
      "True\n"
     ]
    }
   ],
   "source": [
    "class Person:\n",
    "  name = \"John\"\n",
    "  age = 36\n",
    "  country = \"Norway\"\n",
    "\n",
    "x = hasattr(Person, 'age')\n",
    "print(x)"
   ]
  },
  {
   "cell_type": "markdown",
   "id": "74a59ba5",
   "metadata": {},
   "source": [
    "## setattr() Function\n",
    "The setattr() function sets the value of the specified attribute of the specified object\n",
    "\n",
    "#### Syntax\n",
    "\n",
    "#### setattr(object, attribute, value)\n",
    "\n",
    "\n",
    "object ->\tRequired. An object.\n",
    "\n",
    "attribute\t-> Required. The name of the attribute you want to set\n",
    "\n",
    "value ->\tRequired. The value you want to give the specified attribute"
   ]
  },
  {
   "cell_type": "code",
   "execution_count": 15,
   "id": "d644e119",
   "metadata": {},
   "outputs": [],
   "source": [
    "class Person:\n",
    "  name = \"John\"\n",
    "  age = 36\n",
    "  country = \"Norway\"\n",
    "\n",
    "setattr(Person, 'age', 40)"
   ]
  },
  {
   "cell_type": "code",
   "execution_count": null,
   "id": "3c753233",
   "metadata": {},
   "outputs": [],
   "source": [
    "# Enter your code here. Read input from STDIN. Print output to STDOUT\n",
    "T=int(input())\n",
    "test_cases=[]\n",
    "count=0\n",
    "for _ in range(T):\n",
    "    \n",
    "    n=int(input())\n",
    "    b=list(map(int,input().split()))\n",
    "  \n",
    "    a=sorted(b)[-1]\n",
    "    for _ in range(len(b)):\n",
    "        i=0\n",
    "        j=0\n",
    "        if  b[i] =< a and b[i]>=b[-1-j]:\n",
    "            a=b[i]\n",
    "            i+=1\n",
    "            count+=1\n",
    "        elif  b[-1-j]=<a and b[i]=<b[-1-j]:\n",
    "            a=b[-1-i]\n",
    "            j+=1\n",
    "            count+=1\n",
    "        else:\n",
    "            continue\n",
    "    if len(b) == count:\n",
    "        print(\"Yes\")\n",
    "    else:        \n",
    "        print(\"No\")"
   ]
  },
  {
   "cell_type": "markdown",
   "id": "829499cd",
   "metadata": {},
   "source": [
    "# Polar Coordinates\n"
   ]
  },
  {
   "cell_type": "markdown",
   "id": "260f4b62",
   "metadata": {},
   "source": [
    "Polar coordinates are an alternative way of representing Cartesian coordinates or Complex Numbers."
   ]
  },
  {
   "cell_type": "raw",
   "id": "113d141f",
   "metadata": {},
   "source": [
    "Python's cmath module provides access to the mathematical functions for complex numbers.\n",
    "\n",
    "#### cmath.phase\n",
    "\n",
    "This tool returns the phase of complex number z (also known as the argument of z).\n",
    "\n",
    ">>> phase(complex(-1.0, 0.0))\n",
    "3.1415926535897931\n"
   ]
  },
  {
   "cell_type": "raw",
   "id": "e7d2dee5",
   "metadata": {},
   "source": [
    "abc\n",
    "\n",
    "This tool returns the modulus (absolute value) of complex number z.\n",
    "\n",
    ">>> abs(complex(-1.0, 0.0))\n",
    "1.0"
   ]
  },
  {
   "cell_type": "markdown",
   "id": "d580b1ca",
   "metadata": {},
   "source": [
    "### Task\n",
    "You are given a complex z. Your task is to convert it to polar coordinates.\n",
    "\n",
    "Input Format\n",
    "\n",
    "A single line containing the complex number z . Note: complex() function can be used in python to convert the input as a complex number.\n",
    "\n",
    "#### Constraints\n",
    "\n",
    "Given number is a valid complex number\n",
    "\n"
   ]
  },
  {
   "cell_type": "markdown",
   "id": "11a2d87e",
   "metadata": {},
   "source": [
    "### cmath Module\n",
    "\n",
    "Python has a built-in module that you can use for mathematical tasks for complex numbers."
   ]
  },
  {
   "cell_type": "code",
   "execution_count": 6,
   "id": "d81bfcdf",
   "metadata": {},
   "outputs": [
    {
     "name": "stdout",
     "output_type": "stream",
     "text": [
      "1+2j\n",
      "(2.23606797749979, 1.1071487177940904)\n"
     ]
    }
   ],
   "source": [
    "import cmath\n",
    "a=input()\n",
    "a=complex(a)\n",
    "print(cmath.polar(a))\n"
   ]
  },
  {
   "cell_type": "code",
   "execution_count": 7,
   "id": "3eeffb87",
   "metadata": {},
   "outputs": [
    {
     "name": "stdout",
     "output_type": "stream",
     "text": [
      "1+2j\n",
      "2.23606797749979\n",
      "1.1071487177940904\n"
     ]
    }
   ],
   "source": [
    "# Enter your code here. Read input from STDIN. Print output to STDOUT\n",
    "import cmath\n",
    "a=input()\n",
    "a=complex(a)\n",
    "polar_cord=cmath.polar(a)\n",
    "for i in polar_cord:\n",
    "    print(i)"
   ]
  },
  {
   "cell_type": "markdown",
   "id": "88bed796",
   "metadata": {},
   "source": [
    "# Numpy\n",
    "\n",
    "#### Floor, Ceil and Rint\n"
   ]
  },
  {
   "cell_type": "code",
   "execution_count": 9,
   "id": "327ef242",
   "metadata": {},
   "outputs": [
    {
     "name": "stdout",
     "output_type": "stream",
     "text": [
      "[1. 2. 3. 4. 5. 6. 7. 8. 9.]\n"
     ]
    }
   ],
   "source": [
    "import numpy\n",
    "\n",
    "my_array = numpy.array([1.1, 2.2, 3.3, 4.4, 5.5, 6.6, 7.7, 8.8, 9.9])\n",
    "print (numpy.floor(my_array))         #[ 1.  2.  3.  4.  5.  6.  7.  8.  9.]\n"
   ]
  },
  {
   "cell_type": "code",
   "execution_count": 10,
   "id": "6d2c255e",
   "metadata": {},
   "outputs": [
    {
     "name": "stdout",
     "output_type": "stream",
     "text": [
      "[ 2.  3.  4.  5.  6.  7.  8.  9. 10.]\n"
     ]
    }
   ],
   "source": [
    "import numpy\n",
    "\n",
    "my_array = numpy.array([1.1, 2.2, 3.3, 4.4, 5.5, 6.6, 7.7, 8.8, 9.9])\n",
    "print (numpy.ceil(my_array))          #[  2.   3.   4.   5.   6.   7.   8.   9.  10.]"
   ]
  },
  {
   "cell_type": "markdown",
   "id": "26127b24",
   "metadata": {},
   "source": [
    "#### rint\n",
    "The rint tool rounds to the nearest integer of input element-wise."
   ]
  },
  {
   "cell_type": "code",
   "execution_count": 11,
   "id": "4d3c89cd",
   "metadata": {},
   "outputs": [
    {
     "name": "stdout",
     "output_type": "stream",
     "text": [
      "[ 1.  2.  3.  4.  6.  7.  8.  9. 10.]\n"
     ]
    }
   ],
   "source": [
    "import numpy\n",
    "\n",
    "my_array = numpy.array([1.1, 2.2, 3.3, 4.4, 5.5, 6.6, 7.7, 8.8, 9.9])\n",
    "print (numpy.rint(my_array))          #[  1.   2.   3.   4.   6.   7.   8.   9.  10.]"
   ]
  },
  {
   "cell_type": "markdown",
   "id": "87691689",
   "metadata": {},
   "source": [
    "### Note\n",
    "In order to get the correct output format, add the line \n",
    "##### numpy.set_printoptions(legacy=\"1.13\")\n",
    "below the numpy import."
   ]
  },
  {
   "cell_type": "code",
   "execution_count": 15,
   "id": "a3afc298",
   "metadata": {},
   "outputs": [
    {
     "name": "stdout",
     "output_type": "stream",
     "text": [
      "1.1 2.2 3.3 4.4 5.5 6.6 7.7 8.8 9.9\n",
      "[ 1.  2.  3.  4.  5.  6.  7.  8.  9.]\n",
      "[  2.   3.   4.   5.   6.   7.   8.   9.  10.]\n",
      "[  1.   2.   3.   4.   6.   7.   8.   9.  10.]\n"
     ]
    }
   ],
   "source": [
    "import numpy\n",
    "numpy.set_printoptions(legacy=\"1.13\")\n",
    "a=input().split()\n",
    "# print(a)\n",
    "for i in range(len(a)):\n",
    "    a[i]=float(a[i])\n",
    "# print(a)\n",
    "myarray=numpy.array(a)\n",
    "print(numpy.floor(myarray))\n",
    "print(numpy.ceil(myarray))\n",
    "print(numpy.rint(myarray))\n"
   ]
  },
  {
   "cell_type": "markdown",
   "id": "915eea3c",
   "metadata": {},
   "source": [
    "### Sum and Prod\n",
    "sum\n",
    "\n",
    "The sum tool returns the sum of array elements over a given axis."
   ]
  },
  {
   "cell_type": "code",
   "execution_count": 17,
   "id": "f61e06a9",
   "metadata": {},
   "outputs": [
    {
     "name": "stdout",
     "output_type": "stream",
     "text": [
      "[4 6]\n",
      "[3 7]\n",
      "10\n",
      "10\n"
     ]
    }
   ],
   "source": [
    "\n",
    "\n",
    "import numpy\n",
    "\n",
    "my_array = numpy.array([ [1, 2], [3, 4] ])\n",
    "\n",
    "print (numpy.sum(my_array, axis = 0))         #Output : [4 6]\n",
    "print (numpy.sum(my_array, axis = 1))         #Output : [3 7]\n",
    "print (numpy.sum(my_array, axis = None) )     #Output : 10\n",
    "print (numpy.sum(my_array) )                  #Output : 10"
   ]
  },
  {
   "cell_type": "markdown",
   "id": "ecbc69fd",
   "metadata": {},
   "source": [
    "## axis : \n",
    "axis along which we want to calculate the sum value. Otherwise, it will consider arr to be flattened(works on all the axis).\n",
    "\n",
    "##### axis = 0 means along the column \n",
    "\n",
    "##### axis = 1 means working along the row.\n",
    "\n",
    "By default, the axis value is None. Therefore, it performs a sum over all the dimensions of the input array."
   ]
  },
  {
   "cell_type": "markdown",
   "id": "1ac31548",
   "metadata": {},
   "source": [
    "### prod\n",
    "The prod tool returns the product of array elements over a given axis.\n",
    "\n"
   ]
  },
  {
   "cell_type": "code",
   "execution_count": 19,
   "id": "24e5fc51",
   "metadata": {},
   "outputs": [
    {
     "name": "stdout",
     "output_type": "stream",
     "text": [
      "[3 8]\n",
      "[ 2 12]\n",
      "24\n",
      "24\n"
     ]
    }
   ],
   "source": [
    "import numpy\n",
    "\n",
    "my_array = numpy.array([ [1, 2], [3, 4] ])\n",
    "\n",
    "print (numpy.prod(my_array, axis = 0))            #Output : [3 8]\n",
    "print (numpy.prod(my_array, axis = 1))            #Output : [ 2 12]\n",
    "print (numpy.prod(my_array, axis = None))         #Output : 24\n",
    "print (numpy.prod(my_array) )                     #Output : 24"
   ]
  },
  {
   "cell_type": "code",
   "execution_count": 20,
   "id": "bf57da8d",
   "metadata": {},
   "outputs": [
    {
     "name": "stdout",
     "output_type": "stream",
     "text": [
      "2 2\n",
      "1 2\n",
      "3 4\n",
      "24\n"
     ]
    }
   ],
   "source": [
    "import numpy\n",
    "a=list(input().split())\n",
    "N=list(input().split())\n",
    "M=list(input().split())\n",
    "# print(N,M,sep=\"\\n\")\n",
    "for i in range(len(N)):\n",
    "    M[i]=int(M[i])\n",
    "    N[i]=int(N[i])\n",
    "# print(N,M,sep=\"\\n\")\n",
    "\n",
    "arr=numpy.array([N,M])\n",
    "sum_arr= numpy.sum(arr,axis=0)\n",
    "\n",
    "prod_arr= numpy.prod(sum_arr)\n",
    "print(prod_arr)\n",
    "\n",
    "\n"
   ]
  },
  {
   "cell_type": "code",
   "execution_count": 22,
   "id": "47db47f2",
   "metadata": {},
   "outputs": [
    {
     "name": "stdout",
     "output_type": "stream",
     "text": [
      "2 2 \n",
      "1 2\n",
      "3 4\n",
      "24\n"
     ]
    }
   ],
   "source": [
    "import numpy\n",
    "M,N=map(int,input().split())\n",
    "\n",
    "A=numpy.array([input().split() for _  in range(N)],int)\n",
    "# print(A)\n",
    "arr=numpy.array(A)\n",
    "sum_arr= numpy.sum(arr,axis=0)\n",
    "\n",
    "prod_arr= numpy.prod(sum_arr,axis=0)\n",
    "print(prod_arr)\n",
    "\n"
   ]
  },
  {
   "cell_type": "markdown",
   "id": "26a191e9",
   "metadata": {},
   "source": [
    "### Min and Max\n"
   ]
  },
  {
   "cell_type": "markdown",
   "id": "a9cd35c8",
   "metadata": {},
   "source": [
    "### min\n",
    "\n",
    "The tool min returns the minimum value along a given axis.\n",
    "\n"
   ]
  },
  {
   "cell_type": "code",
   "execution_count": 24,
   "id": "c5d88b6f",
   "metadata": {},
   "outputs": [
    {
     "name": "stdout",
     "output_type": "stream",
     "text": [
      "[1 0]\n",
      "[2 3 1 0]\n",
      "0\n",
      "0\n"
     ]
    }
   ],
   "source": [
    "import numpy\n",
    "\n",
    "my_array = numpy.array([[2, 5], \n",
    "                        [3, 7],\n",
    "                        [1, 3],\n",
    "                        [4, 0]])\n",
    "\n",
    "print (numpy.min(my_array, axis = 0) )        #Output : [1 0]\n",
    "print (numpy.min(my_array, axis = 1)  )       #Output : [2 3 1 0]\n",
    "print (numpy.min(my_array, axis = None))      #Output : 0\n",
    "print (numpy.min(my_array))                   #Output : 0"
   ]
  },
  {
   "cell_type": "markdown",
   "id": "46011857",
   "metadata": {},
   "source": [
    "#### max\n",
    "The tool max returns the maximum value along a given axis."
   ]
  },
  {
   "cell_type": "code",
   "execution_count": 25,
   "id": "023282dc",
   "metadata": {},
   "outputs": [
    {
     "name": "stdout",
     "output_type": "stream",
     "text": [
      "[4 7]\n",
      "[5 7 3 4]\n",
      "7\n",
      "7\n"
     ]
    }
   ],
   "source": [
    "import numpy\n",
    "\n",
    "my_array = numpy.array([[2, 5], \n",
    "                        [3, 7],\n",
    "                        [1, 3],\n",
    "                        [4, 0]])\n",
    "\n",
    "print (numpy.max(my_array, axis = 0) )        #Output : [4 7]\n",
    "print (numpy.max(my_array, axis = 1) )        #Output : [5 7 3 4]\n",
    "print (numpy.max(my_array, axis = None))      #Output : 7\n",
    "print (numpy.max(my_array)  )"
   ]
  },
  {
   "cell_type": "code",
   "execution_count": 26,
   "id": "013d67a9",
   "metadata": {},
   "outputs": [
    {
     "name": "stdout",
     "output_type": "stream",
     "text": [
      "4 2\n",
      "2 5\n",
      "3 7\n",
      "1 3\n",
      "4 0\n",
      "3\n"
     ]
    }
   ],
   "source": [
    "import numpy\n",
    "N,M=map(int,input().split())\n",
    "arr=numpy.array([input().split() for _ in range(N)],int)\n",
    "min_arr= numpy.min(arr,axis=1)\n",
    "max_arr=numpy.max(min_arr)\n",
    "print(max_arr)"
   ]
  },
  {
   "cell_type": "markdown",
   "id": "9525974b",
   "metadata": {},
   "source": [
    "# difference b/w strip() and split()"
   ]
  },
  {
   "cell_type": "markdown",
   "id": "9502e17e",
   "metadata": {},
   "source": [
    "## String strip() Method"
   ]
  },
  {
   "cell_type": "markdown",
   "id": "2baabf21",
   "metadata": {},
   "source": [
    "Remove spaces at the beginning and at the end of the string:\n",
    "\n",
    "### Definition and Usage\n",
    "\n",
    "The strip() method removes any leading (spaces at the beginning) and trailing (spaces at the end) characters (space is the default leading character to remove)\n",
    "\n",
    "### Syntax\n",
    "\n",
    "string.strip(characters)"
   ]
  },
  {
   "cell_type": "code",
   "execution_count": 29,
   "id": "608bd446",
   "metadata": {},
   "outputs": [
    {
     "name": "stdout",
     "output_type": "stream",
     "text": [
      "banana\n"
     ]
    }
   ],
   "source": [
    "txt = \",,,,,rrttgg.....banana....rrr\"\n",
    "\n",
    "x = txt.strip(\",.grt\")\n",
    "\n",
    "print(x)"
   ]
  },
  {
   "cell_type": "markdown",
   "id": "7070119b",
   "metadata": {},
   "source": [
    "## String split() Method"
   ]
  },
  {
   "cell_type": "markdown",
   "id": "bf8ac552",
   "metadata": {},
   "source": [
    "### Definition and Usage\n",
    "The split() method splits a string into a list.\n",
    "\n",
    "You can specify the separator, default separator is any whitespace.\n",
    "\n",
    "#### Note: When maxsplit is specified, the list will contain the specified number of elements plus one.\n",
    "\n",
    "### Syntax\n",
    "string.split(separator, maxsplit)\n",
    "\n",
    "maxsplit ->\tOptional. Specifies how many splits to do. Default value is -1, which is \"all occurrences\""
   ]
  },
  {
   "cell_type": "code",
   "execution_count": 30,
   "id": "6653afdf",
   "metadata": {},
   "outputs": [
    {
     "name": "stdout",
     "output_type": "stream",
     "text": [
      "['hello', 'my name is Peter', 'I am 26 years old']\n"
     ]
    }
   ],
   "source": [
    "txt = \"hello, my name is Peter, I am 26 years old\"\n",
    "\n",
    "x = txt.split(\", \")\n",
    "\n",
    "print(x)"
   ]
  },
  {
   "cell_type": "code",
   "execution_count": 31,
   "id": "c215f2e8",
   "metadata": {},
   "outputs": [
    {
     "name": "stdout",
     "output_type": "stream",
     "text": [
      "['apple', 'banana#cherry#orange']\n"
     ]
    }
   ],
   "source": [
    "txt = \"apple#banana#cherry#orange\"\n",
    "\n",
    "# setting the maxsplit parameter to 1, will return a list with 2 elements!\n",
    "x = txt.split(\"#\", 1)\n",
    "\n",
    "print(x)"
   ]
  },
  {
   "cell_type": "markdown",
   "id": "3fcce404",
   "metadata": {},
   "source": [
    "### Mean, Var, and Std\n"
   ]
  },
  {
   "cell_type": "markdown",
   "id": "e36153af",
   "metadata": {},
   "source": [
    "#### mean\n",
    "\n",
    "The mean tool computes the arithmetic mean along the specified axis."
   ]
  },
  {
   "cell_type": "code",
   "execution_count": 32,
   "id": "6242e4ba",
   "metadata": {},
   "outputs": [
    {
     "name": "stdout",
     "output_type": "stream",
     "text": [
      "[ 2.  3.]\n",
      "[ 1.5  3.5]\n",
      "2.5\n",
      "2.5\n"
     ]
    }
   ],
   "source": [
    "import numpy\n",
    "\n",
    "my_array = numpy.array([ [1, 2], [3, 4] ])\n",
    "\n",
    "print (numpy.mean(my_array, axis = 0))        #Output : [ 2.  3.]\n",
    "print (numpy.mean(my_array, axis = 1) )       #Output : [ 1.5  3.5]\n",
    "print (numpy.mean(my_array, axis = None))     #Output : 2.5\n",
    "print (numpy.mean(my_array))                  #Output : 2.5\n"
   ]
  },
  {
   "cell_type": "markdown",
   "id": "cb68b78d",
   "metadata": {},
   "source": [
    "#### var\n",
    "\n",
    "The var tool computes the arithmetic variance along the specified axis."
   ]
  },
  {
   "cell_type": "code",
   "execution_count": 33,
   "id": "f16d162b",
   "metadata": {},
   "outputs": [
    {
     "name": "stdout",
     "output_type": "stream",
     "text": [
      "[ 1.  1.]\n",
      "[ 0.25  0.25]\n",
      "1.25\n",
      "1.25\n"
     ]
    }
   ],
   "source": [
    "import numpy\n",
    "\n",
    "my_array = numpy.array([ [1, 2], [3, 4] ])\n",
    "\n",
    "print (numpy.var(my_array, axis = 0))         #Output : [ 1.  1.]\n",
    "print (numpy.var(my_array, axis = 1))         #Output : [ 0.25  0.25]\n",
    "print (numpy.var(my_array, axis = None))      #Output : 1.25\n",
    "print (numpy.var(my_array))                   #Output : 1.25"
   ]
  },
  {
   "cell_type": "markdown",
   "id": "3db46668",
   "metadata": {},
   "source": [
    "### std\n",
    "\n",
    "The std tool computes the arithmetic standard deviation along the specified axis."
   ]
  },
  {
   "cell_type": "code",
   "execution_count": 34,
   "id": "679b2b57",
   "metadata": {},
   "outputs": [
    {
     "name": "stdout",
     "output_type": "stream",
     "text": [
      "[ 1.  1.]\n",
      "[ 0.5  0.5]\n",
      "1.11803398875\n",
      "1.11803398875\n"
     ]
    }
   ],
   "source": [
    "import numpy\n",
    "\n",
    "my_array = numpy.array([ [1, 2], [3, 4] ])\n",
    "\n",
    "print (numpy.std(my_array, axis = 0) )        #Output : [ 1.  1.]\n",
    "print (numpy.std(my_array, axis = 1))         #Output : [ 0.5  0.5]\n",
    "print (numpy.std(my_array, axis = None))      #Output : 1.11803398875\n",
    "print (numpy.std(my_array))                   #Output : 1.11803398875"
   ]
  },
  {
   "cell_type": "code",
   "execution_count": 35,
   "id": "903e8bc8",
   "metadata": {},
   "outputs": [
    {
     "name": "stdout",
     "output_type": "stream",
     "text": [
      "2 2\n",
      "1 2\n",
      "3 4\n",
      "[ 1.5  3.5]\n",
      "[ 1.  1.]\n",
      "1.11803398875\n"
     ]
    }
   ],
   "source": [
    "import numpy\n",
    "N,M=map(int,input().split())\n",
    "arr=numpy.array([input().split() for _ in range(N)],int)\n",
    "print(numpy.mean(arr,axis=1))\n",
    "print(numpy.var(arr,axis=0))\n",
    "a=numpy.std(arr,axis=None)\n",
    "print(round(a,11))"
   ]
  },
  {
   "cell_type": "markdown",
   "id": "bd8a81e4",
   "metadata": {},
   "source": [
    "# Dot and Cross\n"
   ]
  },
  {
   "cell_type": "markdown",
   "id": "0f71df38",
   "metadata": {},
   "source": [
    "### dot\n",
    "\n",
    "The dot tool returns the dot product of two arrays."
   ]
  },
  {
   "cell_type": "code",
   "execution_count": 36,
   "id": "8f693110",
   "metadata": {},
   "outputs": [
    {
     "name": "stdout",
     "output_type": "stream",
     "text": [
      "11\n"
     ]
    }
   ],
   "source": [
    "import numpy\n",
    "\n",
    "A = numpy.array([ 1, 2 ])\n",
    "B = numpy.array([ 3, 4 ])\n",
    "\n",
    "print (numpy.dot(A, B) )      #Output : 11"
   ]
  },
  {
   "cell_type": "markdown",
   "id": "bfc7fef7",
   "metadata": {},
   "source": [
    "### cross\n",
    "\n",
    "The cross tool returns the cross product of two arrays."
   ]
  },
  {
   "cell_type": "code",
   "execution_count": 37,
   "id": "8a4968e8",
   "metadata": {},
   "outputs": [
    {
     "name": "stdout",
     "output_type": "stream",
     "text": [
      "-2\n"
     ]
    }
   ],
   "source": [
    "import numpy\n",
    "\n",
    "A = numpy.array([ 1, 2 ])\n",
    "B = numpy.array([ 3, 4 ])\n",
    "\n",
    "print (numpy.cross(A, B))     #Output : -2"
   ]
  },
  {
   "cell_type": "markdown",
   "id": "cad3e44e",
   "metadata": {},
   "source": [
    "#### Task\n",
    "\n",
    "You are given two arrays A and B. Both have dimensions of N X N.\n",
    "Your task is to compute their matrix product."
   ]
  },
  {
   "cell_type": "code",
   "execution_count": 38,
   "id": "2abf1e40",
   "metadata": {},
   "outputs": [
    {
     "name": "stdout",
     "output_type": "stream",
     "text": [
      "2\n",
      "1 2\n",
      "3 4\n",
      "1 2\n",
      "3 4\n",
      "[[ 7 10]\n",
      " [15 22]]\n"
     ]
    }
   ],
   "source": [
    "import numpy\n",
    "N=int(input())\n",
    "arr1=numpy.array([input().split() for _ in range(N)],int)\n",
    "arr2=numpy.array([input().split() for _ in range(N)],int)\n",
    "print(numpy.dot(arr1,arr2))\n",
    "\n"
   ]
  },
  {
   "cell_type": "markdown",
   "id": "8efaecbd",
   "metadata": {},
   "source": [
    "# Inner and Outer\n"
   ]
  },
  {
   "cell_type": "markdown",
   "id": "745ffa71",
   "metadata": {},
   "source": [
    "## inner\n",
    "\n",
    "The inner tool returns the inner product of two arrays."
   ]
  },
  {
   "cell_type": "code",
   "execution_count": 46,
   "id": "edb22645",
   "metadata": {},
   "outputs": [
    {
     "name": "stdout",
     "output_type": "stream",
     "text": [
      "4\n"
     ]
    }
   ],
   "source": [
    "import numpy\n",
    "\n",
    "A = numpy.array([0, 1])\n",
    "B = numpy.array([3, 4])\n",
    "\n",
    "print (numpy.inner(A, B))     #Output : 4"
   ]
  },
  {
   "cell_type": "markdown",
   "id": "6647c037",
   "metadata": {},
   "source": [
    "#### numpy.inner(A,B) = sum(A[:]*B[:])"
   ]
  },
  {
   "cell_type": "code",
   "execution_count": 47,
   "id": "672072eb",
   "metadata": {},
   "outputs": [
    {
     "name": "stdout",
     "output_type": "stream",
     "text": [
      "4\n"
     ]
    }
   ],
   "source": [
    "print(sum(A[:]*B[:]))\n"
   ]
  },
  {
   "cell_type": "code",
   "execution_count": 43,
   "id": "35bdb034",
   "metadata": {},
   "outputs": [
    {
     "name": "stdout",
     "output_type": "stream",
     "text": [
      "3\n"
     ]
    }
   ],
   "source": [
    "A = numpy.array([1, 0])\n",
    "B = numpy.array([3, 4])\n",
    "\n",
    "print (numpy.inner(A, B))  "
   ]
  },
  {
   "cell_type": "markdown",
   "id": "91e059b4",
   "metadata": {},
   "source": [
    "### outer\n",
    "\n",
    "The outer tool returns the outer product of two arrays."
   ]
  },
  {
   "cell_type": "code",
   "execution_count": 40,
   "id": "d4ff0579",
   "metadata": {},
   "outputs": [
    {
     "name": "stdout",
     "output_type": "stream",
     "text": [
      "[[0 0]\n",
      " [3 4]]\n"
     ]
    }
   ],
   "source": [
    "import numpy\n",
    "\n",
    "A = numpy.array([0, 1])\n",
    "B = numpy.array([3, 4])\n",
    "\n",
    "print (numpy.outer(A, B) )    #Output : [[0 0]\n",
    "                            #          [3 4]]"
   ]
  },
  {
   "cell_type": "raw",
   "id": "41966889",
   "metadata": {},
   "source": [
    " -> [0[3,4]] [1[3,4]]"
   ]
  },
  {
   "cell_type": "markdown",
   "id": "261142aa",
   "metadata": {},
   "source": [
    "#### Task\n",
    "\n",
    "You are given two arrays: A and B.\n",
    "Your task is to compute their inner and outer product."
   ]
  },
  {
   "cell_type": "code",
   "execution_count": 48,
   "id": "8463c17a",
   "metadata": {},
   "outputs": [
    {
     "name": "stdout",
     "output_type": "stream",
     "text": [
      "0 1\n",
      "2 3\n",
      "3\n",
      "[[0 0]\n",
      " [2 3]]\n"
     ]
    }
   ],
   "source": [
    "import numpy\n",
    "A=list(map(int,input().split()))\n",
    "B=list(map(int,input().split()))\n",
    "# print(A,B)\n",
    "# A=numpy.array(A)\n",
    "# B=numpy.array(B)\n",
    "\n",
    "print(numpy.inner(A,B))\n",
    "print(numpy.outer(A,B))\n",
    "\n"
   ]
  },
  {
   "cell_type": "markdown",
   "id": "50d5715d",
   "metadata": {},
   "source": [
    "## Polynomials\n"
   ]
  },
  {
   "cell_type": "markdown",
   "id": "9fd7f8e8",
   "metadata": {},
   "source": [
    "##### poly\n",
    "The poly tool returns the coefficients of a polynomial with the given sequence of roots."
   ]
  },
  {
   "cell_type": "code",
   "execution_count": 50,
   "id": "52526e68",
   "metadata": {},
   "outputs": [
    {
     "name": "stdout",
     "output_type": "stream",
     "text": [
      "[  1. -11.   9.  11. -10.]\n"
     ]
    }
   ],
   "source": [
    "print (numpy.poly([-1, 1, 1, 10]))        #Output : [  1 -11   9  11 -10]"
   ]
  },
  {
   "cell_type": "markdown",
   "id": "1f66cdba",
   "metadata": {},
   "source": [
    "##### roots\n",
    "\n",
    "The roots tool returns the roots of a polynomial with the given coefficients."
   ]
  },
  {
   "cell_type": "code",
   "execution_count": 51,
   "id": "96cc41a4",
   "metadata": {},
   "outputs": [
    {
     "name": "stdout",
     "output_type": "stream",
     "text": [
      "[-1.  1.]\n"
     ]
    }
   ],
   "source": [
    "print (numpy.roots([1, 0, -1]))           #Output : [-1.  1.]"
   ]
  },
  {
   "cell_type": "markdown",
   "id": "fe91551d",
   "metadata": {},
   "source": [
    "##### polyint\n",
    "\n",
    "The polyint tool returns an antiderivative (indefinite integral) of a polynomial."
   ]
  },
  {
   "cell_type": "code",
   "execution_count": 52,
   "id": "dbb09c78",
   "metadata": {},
   "outputs": [
    {
     "name": "stdout",
     "output_type": "stream",
     "text": [
      "[ 0.33333333  0.5         1.          0.        ]\n"
     ]
    }
   ],
   "source": [
    "print (numpy.polyint([1, 1, 1]))          #Output : [ 0.33333333  0.5         1.          0.        ]"
   ]
  },
  {
   "cell_type": "markdown",
   "id": "338a49d8",
   "metadata": {},
   "source": [
    "##### polyder\n",
    "\n",
    "The polyder tool returns the derivative of the specified order of a polynomial."
   ]
  },
  {
   "cell_type": "code",
   "execution_count": 53,
   "id": "00689bbf",
   "metadata": {},
   "outputs": [
    {
     "name": "stdout",
     "output_type": "stream",
     "text": [
      "[3 2 1]\n"
     ]
    }
   ],
   "source": [
    "print (numpy.polyder([1, 1, 1, 1]))       #Output : [3 2 1]"
   ]
  },
  {
   "cell_type": "markdown",
   "id": "90c0423a",
   "metadata": {},
   "source": [
    "#### polyval\n",
    "\n",
    "The polyval tool evaluates the polynomial at specific value."
   ]
  },
  {
   "cell_type": "code",
   "execution_count": 54,
   "id": "02dbc0b8",
   "metadata": {},
   "outputs": [
    {
     "name": "stdout",
     "output_type": "stream",
     "text": [
      "34\n"
     ]
    }
   ],
   "source": [
    "print (numpy.polyval([1, -2, 0, 2], 4) )  #Output : 34"
   ]
  },
  {
   "cell_type": "markdown",
   "id": "b30d4c75",
   "metadata": {},
   "source": [
    "#### polyfit\n",
    "\n",
    "The polyfit tool fits a polynomial of a specified order to a set of data using a least-squares approach."
   ]
  },
  {
   "cell_type": "code",
   "execution_count": 55,
   "id": "862f5dc8",
   "metadata": {},
   "outputs": [
    {
     "name": "stdout",
     "output_type": "stream",
     "text": [
      "[  1.00000000e+00   0.00000000e+00  -3.17305762e-16]\n"
     ]
    }
   ],
   "source": [
    "print (numpy.polyfit([0,1,-1, 2, -2], [0,1,1, 4, 4], 2))\n",
    "#Output : [  1.00000000e+00   0.00000000e+00  -3.97205465e-16]"
   ]
  },
  {
   "cell_type": "markdown",
   "id": "124cfe28",
   "metadata": {},
   "source": [
    "##### Note -> The functions polyadd, polysub, polymul, and polydiv also handle proper addition, subtraction, multiplication, and division of polynomial coefficients, respectively."
   ]
  },
  {
   "cell_type": "markdown",
   "id": "7552c1bb",
   "metadata": {},
   "source": [
    "##### Task\n",
    "\n",
    "You are given the coefficients of a polynomial P .\n",
    "Your task is to find the value of P at point x."
   ]
  },
  {
   "cell_type": "code",
   "execution_count": 57,
   "id": "048e03db",
   "metadata": {},
   "outputs": [
    {
     "name": "stdout",
     "output_type": "stream",
     "text": [
      "1.1 2 3\n",
      "0\n",
      "3.0\n"
     ]
    }
   ],
   "source": [
    "import numpy\n",
    "coff=list(map(float,input().split()))\n",
    "# coff=numpy.array(coff)\n",
    "x_value=float(input())\n",
    "\n",
    "print(numpy.polyval(coff,x_value))\n",
    "\n",
    "\n"
   ]
  },
  {
   "cell_type": "markdown",
   "id": "12a427a8",
   "metadata": {},
   "source": [
    "# Linear Algebra\n"
   ]
  },
  {
   "cell_type": "markdown",
   "id": "b5e68878",
   "metadata": {},
   "source": [
    "The NumPy module also comes with a number of built-in routines for linear algebra calculations. These can be found in the sub-module linalg."
   ]
  },
  {
   "cell_type": "markdown",
   "id": "e2148c7c",
   "metadata": {},
   "source": [
    "### linalg.det\n",
    "\n",
    "The linalg.det tool computes the determinant of an array."
   ]
  },
  {
   "cell_type": "code",
   "execution_count": 58,
   "id": "fde5aae0",
   "metadata": {},
   "outputs": [
    {
     "name": "stdout",
     "output_type": "stream",
     "text": [
      "-3.0\n"
     ]
    }
   ],
   "source": [
    "print (numpy.linalg.det([[1 , 2], [2, 1]])  )     #Output : -3.0"
   ]
  },
  {
   "cell_type": "markdown",
   "id": "7bf10e73",
   "metadata": {},
   "source": [
    "### linalg.eig\n",
    "\n",
    "The linalg.eig computes the eigenvalues and right eigenvectors of a square array."
   ]
  },
  {
   "cell_type": "code",
   "execution_count": 59,
   "id": "ae9a4088",
   "metadata": {},
   "outputs": [
    {
     "name": "stdout",
     "output_type": "stream",
     "text": [
      "[ 3. -1.]\n",
      "[[ 0.70710678 -0.70710678]\n",
      " [ 0.70710678  0.70710678]]\n"
     ]
    }
   ],
   "source": [
    "vals, vecs = numpy.linalg.eig([[1 , 2], [2, 1]])\n",
    "print (vals)                                      #Output : [ 3. -1.]\n",
    "print (vecs )                                     #Output : [[ 0.70710678 -0.70710678]\n",
    "                                                #          [ 0.70710678  0.70710678]]"
   ]
  },
  {
   "cell_type": "markdown",
   "id": "0e3cd3dc",
   "metadata": {},
   "source": [
    "### linalg.inv\n",
    "\n",
    "The linalg.inv tool computes the (multiplicative) inverse of a matrix."
   ]
  },
  {
   "cell_type": "code",
   "execution_count": 60,
   "id": "05a79350",
   "metadata": {},
   "outputs": [
    {
     "name": "stdout",
     "output_type": "stream",
     "text": [
      "[[-0.33333333  0.66666667]\n",
      " [ 0.66666667 -0.33333333]]\n"
     ]
    }
   ],
   "source": [
    "print (numpy.linalg.inv([[1 , 2], [2, 1]]))       #Output : [[-0.33333333  0.66666667]\n",
    "                                                #          [ 0.66666667 -0.33333333]]"
   ]
  },
  {
   "cell_type": "markdown",
   "id": "1e3868c8",
   "metadata": {},
   "source": [
    "### Task\n",
    "\n",
    "You are given a square matrix A  with dimensions N x N. Your task is to find the determinant. Note: Round the answer to 2 places after the decimal."
   ]
  },
  {
   "cell_type": "code",
   "execution_count": 61,
   "id": "076b174d",
   "metadata": {},
   "outputs": [
    {
     "name": "stdout",
     "output_type": "stream",
     "text": [
      "2\n",
      "1.1 1.1\n",
      "1.1 1.1\n",
      "0.0\n"
     ]
    }
   ],
   "source": [
    "import numpy\n",
    "n=int(input())\n",
    "arr=numpy.array([input().split()for _ in range(n)],float)\n",
    "print(round(numpy.linalg.det(arr),2))\n",
    "\n",
    "\n",
    "\n"
   ]
  },
  {
   "cell_type": "markdown",
   "id": "80809007",
   "metadata": {},
   "source": [
    "### Transpose and Flatten\n"
   ]
  },
  {
   "cell_type": "markdown",
   "id": "f7914aeb",
   "metadata": {},
   "source": [
    "Transpose\n",
    "\n",
    "We can generate the transposition of an array using the tool numpy.transpose.\n",
    "It will not affect the original array, but it will create a new array."
   ]
  },
  {
   "cell_type": "code",
   "execution_count": 17,
   "id": "8b8c1038",
   "metadata": {},
   "outputs": [
    {
     "name": "stdout",
     "output_type": "stream",
     "text": [
      "[[1 4]\n",
      " [2 5]\n",
      " [3 6]]\n"
     ]
    }
   ],
   "source": [
    "import numpy\n",
    "\n",
    "my_array = numpy.array([[1,2,3],\n",
    "                        [4,5,6]])\n",
    "print(numpy.transpose(my_array))\n",
    "\n",
    "\n"
   ]
  },
  {
   "cell_type": "markdown",
   "id": "66793df1",
   "metadata": {},
   "source": [
    "### Flatten\n",
    "\n",
    "The tool flatten creates a copy of the input array flattened to one dimension."
   ]
  },
  {
   "cell_type": "code",
   "execution_count": 19,
   "id": "d20471be",
   "metadata": {},
   "outputs": [
    {
     "name": "stdout",
     "output_type": "stream",
     "text": [
      "[1 2 3 4 5 6]\n"
     ]
    }
   ],
   "source": [
    "import numpy\n",
    "\n",
    "my_array = numpy.array([[1,2,3],\n",
    "                        [4,5,6]])\n",
    "print (my_array.flatten())"
   ]
  },
  {
   "cell_type": "code",
   "execution_count": 21,
   "id": "d2a92fb0",
   "metadata": {},
   "outputs": [
    {
     "name": "stdout",
     "output_type": "stream",
     "text": [
      "2 2 \n",
      "1 3\n",
      "3 4\n",
      "[[1 3]\n",
      " [3 4]]\n",
      "[1 3 3 4]\n"
     ]
    }
   ],
   "source": [
    "import numpy\n",
    "N,M=map(int,input().split())\n",
    "arr= numpy.array([input().split() for _ in range(N)],int)\n",
    "\n",
    "# print(arr)\n",
    "print(numpy.transpose(arr))\n",
    "print(arr.flatten())\n"
   ]
  },
  {
   "cell_type": "markdown",
   "id": "d5e75b9a",
   "metadata": {},
   "source": [
    "### Concatenate\n",
    "\n",
    "Two or more arrays can be concatenated together using the concatenate function with a tuple of the arrays to be joined:"
   ]
  },
  {
   "cell_type": "code",
   "execution_count": 23,
   "id": "4f8235d2",
   "metadata": {},
   "outputs": [
    {
     "name": "stdout",
     "output_type": "stream",
     "text": [
      "[1 2 3 4 5 6 7 8 9]\n"
     ]
    }
   ],
   "source": [
    "import numpy\n",
    "\n",
    "array_1 = numpy.array([1,2,3])\n",
    "array_2 = numpy.array([4,5,6])\n",
    "array_3 = numpy.array([7,8,9])\n",
    "\n",
    "print (numpy.concatenate((array_1, array_2, array_3)) )   "
   ]
  },
  {
   "cell_type": "markdown",
   "id": "e7e0c8a8",
   "metadata": {},
   "source": [
    "If an array has more than one dimension, it is possible to specify the axis along which multiple arrays are concatenated. By default, it is along the first dimension.\n",
    "\n"
   ]
  },
  {
   "cell_type": "code",
   "execution_count": 24,
   "id": "906c616a",
   "metadata": {},
   "outputs": [
    {
     "name": "stdout",
     "output_type": "stream",
     "text": [
      "[[1 2 3 0 0 0]\n",
      " [0 0 0 7 8 9]]\n"
     ]
    }
   ],
   "source": [
    "import numpy\n",
    "\n",
    "array_1 = numpy.array([[1,2,3],[0,0,0]])\n",
    "array_2 = numpy.array([[0,0,0],[7,8,9]])\n",
    "\n",
    "print (numpy.concatenate((array_1, array_2), axis = 1))   \n"
   ]
  },
  {
   "cell_type": "code",
   "execution_count": null,
   "id": "2e92a837",
   "metadata": {},
   "outputs": [],
   "source": [
    "import numpy\n",
    "N,M,P=map(int,input().split())\n",
    "arr1=numpy.array([input().split() for _ in range(N)],int)\n",
    "arr2=numpy.array([input().split() for _ in range(M)],int)\n",
    "print(numpy.concatenate((arr1,arr2),axis=0))\n",
    "\n",
    "\n"
   ]
  },
  {
   "cell_type": "markdown",
   "id": "84b6c5f2",
   "metadata": {},
   "source": [
    "## Zeros and Ones\n"
   ]
  },
  {
   "cell_type": "markdown",
   "id": "4b3b2c99",
   "metadata": {},
   "source": [
    "### zeros\n",
    "\n",
    "The zeros tool returns a new array with a given shape and type filled with 0's.\n",
    "\n"
   ]
  },
  {
   "cell_type": "code",
   "execution_count": 30,
   "id": "1267e7a6",
   "metadata": {},
   "outputs": [
    {
     "name": "stdout",
     "output_type": "stream",
     "text": [
      "[[0. 0.]]\n",
      "[[0 0]]\n"
     ]
    }
   ],
   "source": [
    "import numpy\n",
    "\n",
    "print (numpy.zeros((1,2)) )                   #Default type is float\n",
    "#Output : [[ 0.  0.]] \n",
    "\n",
    "print (numpy.zeros((1,2), dtype = numpy.int)) #Type changes to int \n",
    "# `np.int64` or `np.int32` to specify the precision.\n",
    "print (numpy.zeros((1,2), dtype = numpy.int64)) #Type changes to int \n",
    "\n",
    "#Output : [[0 0]]"
   ]
  },
  {
   "cell_type": "markdown",
   "id": "51abcb50",
   "metadata": {},
   "source": [
    "### ones\n",
    "\n",
    "The ones tool returns a new array with a given shape and type filled with 1's."
   ]
  },
  {
   "cell_type": "code",
   "execution_count": 33,
   "id": "0137a649",
   "metadata": {},
   "outputs": [
    {
     "name": "stdout",
     "output_type": "stream",
     "text": [
      "[[1. 1.]]\n",
      "[[1 1]]\n"
     ]
    }
   ],
   "source": [
    "import numpy\n",
    "\n",
    "print (numpy.ones((1,2)))                    #Default type is float\n",
    "#Output : [[ 1.  1.]] \n",
    "\n",
    "print (numpy.ones((1,2), dtype = numpy.int32)) #Type changes to int\n",
    "#Output : [[1 1]]   "
   ]
  },
  {
   "cell_type": "code",
   "execution_count": 2,
   "id": "1fa12891",
   "metadata": {},
   "outputs": [
    {
     "name": "stdout",
     "output_type": "stream",
     "text": [
      "3 3 3\n",
      "[[[0 0 0]\n",
      "  [0 0 0]\n",
      "  [0 0 0]]\n",
      "\n",
      " [[0 0 0]\n",
      "  [0 0 0]\n",
      "  [0 0 0]]\n",
      "\n",
      " [[0 0 0]\n",
      "  [0 0 0]\n",
      "  [0 0 0]]]\n",
      "[[[1 1 1]\n",
      "  [1 1 1]\n",
      "  [1 1 1]]\n",
      "\n",
      " [[1 1 1]\n",
      "  [1 1 1]\n",
      "  [1 1 1]]\n",
      "\n",
      " [[1 1 1]\n",
      "  [1 1 1]\n",
      "  [1 1 1]]]\n"
     ]
    }
   ],
   "source": [
    "import numpy\n",
    "\n",
    "    N,M,*P=map(int,input().split())\n",
    "print(numpy.zeros((N,M,*P),dtype=numpy.int32))\n",
    "print(numpy.ones((N,M,*P),dtype=numpy.int64))\n",
    "# print(numpy.zeros(N,M,P))\n",
    "\n"
   ]
  },
  {
   "cell_type": "markdown",
   "id": "f0fe2e69",
   "metadata": {},
   "source": [
    "### Eye and Identity\n"
   ]
  },
  {
   "cell_type": "markdown",
   "id": "32a0da3b",
   "metadata": {},
   "source": [
    "### identity\n",
    "\n",
    "The identity tool returns an identity array. An identity array is a square matrix with all the main diagonal elements as  and the rest as . The default type of elements is float."
   ]
  },
  {
   "cell_type": "code",
   "execution_count": 4,
   "id": "7e59e74b",
   "metadata": {},
   "outputs": [
    {
     "name": "stdout",
     "output_type": "stream",
     "text": [
      "[[1. 0. 0.]\n",
      " [0. 1. 0.]\n",
      " [0. 0. 1.]]\n"
     ]
    }
   ],
   "source": [
    "import numpy\n",
    "print( numpy.identity(3)) #3 is for  dimension 3 X 3\n"
   ]
  },
  {
   "cell_type": "markdown",
   "id": "70d9ddfd",
   "metadata": {},
   "source": [
    "### eye\n",
    "\n",
    "The eye tool returns a 2-D array with 1's as the diagonal and 0's elsewhere. The diagonal can be main, upper or lower depending on the optional parameter k. A positive k is for the upper diagonal, a negative k is for the lower, and a  0 k (default) is for the main diagon"
   ]
  },
  {
   "cell_type": "code",
   "execution_count": 8,
   "id": "88f082fc",
   "metadata": {},
   "outputs": [
    {
     "name": "stdout",
     "output_type": "stream",
     "text": [
      "[[0. 1. 0. 0. 0. 0. 0.]\n",
      " [0. 0. 1. 0. 0. 0. 0.]\n",
      " [0. 0. 0. 1. 0. 0. 0.]\n",
      " [0. 0. 0. 0. 1. 0. 0.]\n",
      " [0. 0. 0. 0. 0. 1. 0.]\n",
      " [0. 0. 0. 0. 0. 0. 1.]\n",
      " [0. 0. 0. 0. 0. 0. 0.]\n",
      " [0. 0. 0. 0. 0. 0. 0.]]\n",
      "\n",
      "\n",
      "\n",
      "\n",
      "\n",
      "[[0. 0. 0. 0. 0. 0. 0.]\n",
      " [0. 0. 0. 0. 0. 0. 0.]\n",
      " [1. 0. 0. 0. 0. 0. 0.]\n",
      " [0. 1. 0. 0. 0. 0. 0.]\n",
      " [0. 0. 1. 0. 0. 0. 0.]\n",
      " [0. 0. 0. 1. 0. 0. 0.]\n",
      " [0. 0. 0. 0. 1. 0. 0.]\n",
      " [0. 0. 0. 0. 0. 1. 0.]]\n"
     ]
    }
   ],
   "source": [
    "import numpy\n",
    "print (numpy.eye(8, 7, k = 1) )   # 8 X 7 Dimensional array with first upper diagonal 1.\n",
    "print(\"\\n\\n\\n\\n\")\n",
    "print (numpy.eye(8, 7, k = -2))   # 8 X 7 Dimensional array with second lower diagonal 1."
   ]
  },
  {
   "cell_type": "code",
   "execution_count": 11,
   "id": "f9b33f8f",
   "metadata": {},
   "outputs": [
    {
     "name": "stdout",
     "output_type": "stream",
     "text": [
      "3 3\n",
      "[[1. 0. 0.]\n",
      " [0. 1. 0.]\n",
      " [0. 0. 1.]]\n"
     ]
    }
   ],
   "source": [
    "import numpy\n",
    "print ( numpy.eye(*map(int,input().split())))"
   ]
  },
  {
   "cell_type": "markdown",
   "id": "4b4d4fa9",
   "metadata": {},
   "source": [
    "### Array Mathematics\n",
    "\n",
    "Basic mathematical functions operate element-wise on arrays. They are available both as operator overloads and as functions in the NumPy module."
   ]
  },
  {
   "cell_type": "code",
   "execution_count": 16,
   "id": "e2900e7b",
   "metadata": {},
   "outputs": [
    {
     "name": "stdout",
     "output_type": "stream",
     "text": [
      "[ 6.  8. 10. 12.]\n",
      "[ 6.  8. 10. 12.]\n",
      "\n",
      "[-4. -4. -4. -4.]\n",
      "[-4. -4. -4. -4.]\n",
      "\n",
      "[ 5. 12. 21. 32.]\n",
      "[ 5. 12. 21. 32.]\n",
      "\n",
      "[0.2        0.33333333 0.42857143 0.5       ]\n",
      "[0.2        0.33333333 0.42857143 0.5       ]\n",
      "\n",
      "[1. 2. 3. 4.]\n",
      "[1. 2. 3. 4.]\n",
      "\n",
      "[1.0000e+00 6.4000e+01 2.1870e+03 6.5536e+04]\n",
      "[1.0000e+00 6.4000e+01 2.1870e+03 6.5536e+04]\n",
      "\n"
     ]
    }
   ],
   "source": [
    "import numpy\n",
    "\n",
    "a = numpy.array([1,2,3,4], float)\n",
    "b = numpy.array([5,6,7,8], float)\n",
    "\n",
    "print (a + b)                     #[  6.   8.  10.  12.]\n",
    "print (numpy.add(a, b))  #[  6.   8.  10.  12.]\n",
    "print()\n",
    "\n",
    "print (a - b)                     #[-4. -4. -4. -4.]\n",
    "print (numpy.subtract(a, b))      #[-4. -4. -4. -4.]\n",
    "print()\n",
    "\n",
    "print (a * b)                     #[  5.  12.  21.  32.]\n",
    "print (numpy.multiply(a, b) )     #[  5.  12.  21.  32.]\n",
    "print()\n",
    "\n",
    "print (a / b)                     #[ 0.2         0.33333333  0.42857143  0.5       ]\n",
    "print (numpy.divide(a, b) )      #[ 0.2         0.33333333  0.42857143  0.5       ]\n",
    "print()\n",
    "\n",
    "print (a % b)                     #[ 1.  2.  3.  4.]\n",
    "print (numpy.mod(a, b)    )      #[ 1.  2.  3.  4.]\n",
    "print()\n",
    "\n",
    "print (a**b )                     #[  1.00000000e+00   6.40000000e+01   2.18700000e+03   6.55360000e+04]\n",
    "print (numpy.power(a, b)  )      #[  1.00000000e+00   6.40000000e+01   2.18700000e+03   6.55360000e+04]\n",
    "print()"
   ]
  },
  {
   "cell_type": "markdown",
   "id": "4e68031b",
   "metadata": {},
   "source": [
    "##### Note\n",
    "There is a method numpy.floor_divide() that works like numpy.divide() except it performs a floor division."
   ]
  },
  {
   "cell_type": "code",
   "execution_count": 17,
   "id": "774e0114",
   "metadata": {},
   "outputs": [
    {
     "name": "stdout",
     "output_type": "stream",
     "text": [
      "1 4\n",
      "1 2 3 4\n",
      "5 6 7 8\n",
      "[[ 6  8 10 12]]\n",
      "[[-4 -4 -4 -4]]\n",
      "[[ 5 12 21 32]]\n",
      "[[0 0 0 0]]\n",
      "[[1 2 3 4]]\n",
      "[[    1    64  2187 65536]]\n"
     ]
    }
   ],
   "source": [
    "import numpy\n",
    "N,M=map(int,input().split())\n",
    "arr1=numpy.array([input().split() for _ in range(N)],int)\n",
    "arr2=numpy.array([input().split() for _ in range(N)],int)\n",
    "print(numpy.add(arr1,arr2))\n",
    "print(numpy.subtract(arr1,arr2))\n",
    "print(numpy.multiply(arr1,arr2))\n",
    "print(numpy.floor_divide(arr1,arr2))\n",
    "print(numpy.mod(arr1,arr2))\n",
    "print(numpy.power(arr1,arr2))\n",
    "\n",
    "\n"
   ]
  },
  {
   "cell_type": "code",
   "execution_count": null,
   "id": "6da6cd96",
   "metadata": {},
   "outputs": [],
   "source": []
  },
  {
   "cell_type": "markdown",
   "id": "c940a99c",
   "metadata": {},
   "source": [
    "# Debugging"
   ]
  },
  {
   "cell_type": "markdown",
   "id": "c7003094",
   "metadata": {},
   "source": [
    "In this challenge, the task is to debug the existing code to successfully execute all provided test files.\n",
    "\n",
    "Python supports a useful concept of default argument values. For each keyword argument of a function, we can assign a default value which is going to be used as the value of said argument if the function is called without it. "
   ]
  },
  {
   "cell_type": "raw",
   "id": "52da8045",
   "metadata": {},
   "source": [
    " For example, consider the following increment function:\n",
    "\n",
    "def increment_by(n, increment=1):\n",
    "    return n + increment\n",
    "The functions works like this:\n",
    "\n",
    ">>> increment_by(5, 2)\n",
    "7\n",
    ">>> increment_by(4)\n",
    "5\n",
    ">>>"
   ]
  },
  {
   "cell_type": "markdown",
   "id": "09906adc",
   "metadata": {},
   "source": [
    "# set"
   ]
  },
  {
   "cell_type": "markdown",
   "id": "9cd83388",
   "metadata": {},
   "source": [
    "A set is an unordered collection of elements without duplicate entries.\n",
    "#### When printed, iterated or converted into a sequence, its elements will appear in an arbitrary order."
   ]
  },
  {
   "cell_type": "raw",
   "id": "e1d8ef13",
   "metadata": {},
   "source": [
    ">>> print set()\n",
    "set([])\n",
    "\n",
    ">>> print set('HackerRank')\n",
    "set(['a', 'c', 'e', 'H', 'k', 'n', 'r', 'R'])\n",
    "\n",
    ">>> print set([1,2,1,2,3,4,5,6,0,9,12,22,3])\n",
    "set([0, 1, 2, 3, 4, 5, 6, 9, 12, 22])\n",
    "\n",
    ">>> print set((1,2,3,4,5,5))\n",
    "set([1, 2, 3, 4, 5])\n",
    "\n",
    ">>> print set(set(['H','a','c','k','e','r','r','a','n','k']))\n",
    "set(['a', 'c', 'r', 'e', 'H', 'k', 'n'])\n",
    "\n",
    ">>> print set({'Hacker' : 'DOSHI', 'Rank' : 616 })\n",
    "set(['Hacker', 'Rank'])\n",
    "\n",
    ">>> print set(enumerate(['H','a','c','k','e','r','r','a','n','k']))\n",
    "set([(6, 'r'), (7, 'a'), (3, 'k'), (4, 'e'), (5, 'r'), (9, 'k'), (2, 'c'), (0, 'H'), (1, 'a'), (8, 'n')])"
   ]
  },
  {
   "cell_type": "markdown",
   "id": "060301f9",
   "metadata": {},
   "source": [
    "##### Basically, sets are used for membership testing and eliminating duplicate entries."
   ]
  },
  {
   "cell_type": "code",
   "execution_count": 1,
   "id": "1836288b",
   "metadata": {},
   "outputs": [
    {
     "name": "stdout",
     "output_type": "stream",
     "text": [
      "10\n",
      "161 182 161 154 176 170 167 171 170 174\n",
      "169.375\n"
     ]
    }
   ],
   "source": [
    "def average(array):\n",
    "    # your code goes here\n",
    "    set_N=set(array)\n",
    "    sum_N=sum(set_N)\n",
    "    avg=sum_N/len(set_N)\n",
    "    return avg\n",
    "\n",
    "if __name__ == '__main__':\n",
    "    n = int(input())\n",
    "    arr = list(map(int, input().split()))\n",
    "    result = average(arr)\n",
    "    print(result)"
   ]
  },
  {
   "cell_type": "markdown",
   "id": "58303c19",
   "metadata": {},
   "source": [
    "## set \n",
    "Sets are an unordered collection of elements or unintended collection of items In python.\n",
    "\n",
    "Here the order in which the elements are added into the set is not fixed, it can change frequently.\n",
    "\n",
    "It is defined under curly braces{}\n",
    "\n",
    "Sets are mutable, however, only immutable objects can be stored in it."
   ]
  },
  {
   "cell_type": "markdown",
   "id": "aad06768",
   "metadata": {},
   "source": [
    "### Symmetric Difference\n"
   ]
  },
  {
   "cell_type": "raw",
   "id": "944a3d01",
   "metadata": {},
   "source": [
    " CREATING SETS\n",
    "\n",
    ">> myset = {1, 2} # Directly assigning values to a set\n",
    ">> myset = set()  # Initializing a set\n",
    ">> myset = set(['a', 'b']) # Creating a set from a list\n",
    ">> myset\n",
    "{'a', 'b'}"
   ]
  },
  {
   "cell_type": "raw",
   "id": "5d617b68",
   "metadata": {},
   "source": [
    "MODIFYING SETS\n",
    "\n",
    "Using the add() function:\n",
    "\n",
    ">> myset.add('c')\n",
    ">> myset\n",
    "{'a', 'c', 'b'}\n",
    ">> myset.add('a') # As 'a' already exists in the set, nothing happens\n",
    ">> myset.add((5, 4))\n",
    ">> myset\n",
    "{'a', 'c', 'b', (5, 4)}"
   ]
  },
  {
   "cell_type": "raw",
   "id": "0167d186",
   "metadata": {},
   "source": [
    "Using the update() function:\n",
    "\n",
    ">> myset.update([1, 2, 3, 4]) # update() only works for iterable objects\n",
    ">> myset\n",
    "{'a', 1, 'c', 'b', 4, 2, (5, 4), 3}\n",
    ">> myset.update({1, 7, 8})\n",
    ">> myset\n",
    "{'a', 1, 'c', 'b', 4, 7, 8, 2, (5, 4), 3}\n",
    ">> myset.update({1, 6}, [5, 13])\n",
    ">> myset\n",
    "{'a', 1, 'c', 'b', 4, 5, 6, 7, 8, 2, (5, 4), 13, 3}"
   ]
  },
  {
   "cell_type": "raw",
   "id": "0c4ae135",
   "metadata": {},
   "source": [
    "REMOVING ITEMS\n",
    "\n",
    "Both the discard() and remove() functions take a single value as an argument and removes that value from the set. If that value is not present, discard() does nothing, but remove() will raise a KeyError exception.\n",
    "\n",
    ">> myset.discard(10)\n",
    ">> myset\n",
    "{'a', 1, 'c', 'b', 4, 5, 7, 8, 2, 12, (5, 4), 13, 11, 3}\n",
    ">> myset.remove(13)\n",
    ">> myset\n",
    "{'a', 1, 'c', 'b', 4, 5, 7, 8, 2, 12, (5, 4), 11, 3}\n"
   ]
  },
  {
   "cell_type": "raw",
   "id": "633d3629",
   "metadata": {},
   "source": [
    "COMMON SET OPERATIONS Using union(), intersection() and difference() functions.\n",
    "\n",
    ">> a = {2, 4, 5, 9}\n",
    ">> b = {2, 4, 11, 12}\n",
    ">> a.union(b) # Values which exist in a or b\n",
    "{2, 4, 5, 9, 11, 12}\n",
    ">> a.intersection(b) # Values which exist in a and b\n",
    "{2, 4}\n",
    ">> a.difference(b) # Values which exist in a but not in b\n",
    "{9, 5}"
   ]
  },
  {
   "cell_type": "raw",
   "id": "91161d6a",
   "metadata": {},
   "source": [
    "The union() and intersection() functions are symmetric methods:\n",
    "\n",
    ">> a.union(b) == b.union(a)\n",
    "True\n",
    ">> a.intersection(b) == b.intersection(a)\n",
    "True\n",
    ">> a.difference(b) == b.difference(a)\n",
    "False"
   ]
  },
  {
   "cell_type": "code",
   "execution_count": 2,
   "id": "f2b01c6d",
   "metadata": {},
   "outputs": [
    {
     "name": "stdout",
     "output_type": "stream",
     "text": [
      "4\n",
      "2 4 5 9 \n",
      "4\n",
      "2 4 11 12 \n",
      "5\n",
      "9\n",
      "11\n",
      "12\n"
     ]
    }
   ],
   "source": [
    "# Enter your code here. Read input from STDIN. Print output to STDOUT\n",
    "M=int(input())\n",
    "a=set(int(i) for i in input().split())\n",
    "N=int(input())\n",
    "b=set(int(i) for i in input().split())\n",
    "diff_a=a.difference(b)\n",
    "diff_b=b.difference(a)\n",
    "\n",
    "combined_set=set()\n",
    "combined_set.update(diff_a,diff_b)\n",
    "combined_set=sorted(combined_set)\n",
    "for i in combined_set:\n",
    "    print(i)\n",
    "\n",
    "\n",
    "    "
   ]
  },
  {
   "cell_type": "markdown",
   "id": "a26ed60d",
   "metadata": {},
   "source": [
    "### .union()\n",
    "\n",
    "The .union() operator returns the union of a set and the set of elements in an iterable.\n",
    "Sometimes, the | operator is used in place of .union() operator, but it operates only on the set of elements in set.\n",
    "Set is immutable to the .union() operation (or | operation).\n"
   ]
  },
  {
   "cell_type": "code",
   "execution_count": 3,
   "id": "8ee3e87a",
   "metadata": {},
   "outputs": [
    {
     "name": "stdout",
     "output_type": "stream",
     "text": [
      "9\n",
      "1 2 3 4 5 6 7 8 9\n",
      "9\n",
      "10 1 2 3 11 21 55 6 8\n",
      "13\n"
     ]
    }
   ],
   "source": [
    "N=int(input())\n",
    "english_roll=set(map(int,input().split()))\n",
    "M=int(input())\n",
    "french_roll=set(map(int,input().split()))\n",
    "\n",
    "o=english_roll.union(french_roll)\n",
    "print(len(o))\n"
   ]
  },
  {
   "cell_type": "markdown",
   "id": "77371387",
   "metadata": {},
   "source": [
    "# intersection"
   ]
  },
  {
   "cell_type": "code",
   "execution_count": 4,
   "id": "6614c65b",
   "metadata": {},
   "outputs": [
    {
     "name": "stdout",
     "output_type": "stream",
     "text": [
      "9\n",
      "1 2 3 4 5 6 7 8 9\n",
      "9\n",
      "10 1 2 3 11 21 55 6 8\n",
      "5\n"
     ]
    }
   ],
   "source": [
    "# Enter your code here. Read input from STDIN. Print output to STDOUT\n",
    "N=int(input())\n",
    "english_roll=set(map(int,input().split()))\n",
    "M=int(input())\n",
    "french_roll=set(map(int,input().split()))\n",
    "\n",
    "o=english_roll.intersection(french_roll)\n",
    "print(len(o))"
   ]
  },
  {
   "cell_type": "markdown",
   "id": "7d8212ca",
   "metadata": {},
   "source": [
    "## Set .difference() Operation"
   ]
  },
  {
   "cell_type": "code",
   "execution_count": 5,
   "id": "a88a3c50",
   "metadata": {},
   "outputs": [
    {
     "name": "stdout",
     "output_type": "stream",
     "text": [
      "9\n",
      "1 2 3 4 5 6 7 8 9\n",
      "9\n",
      "10 1 2 3 11 21 55 6 8\n",
      "4\n"
     ]
    }
   ],
   "source": [
    "# Enter your code here. Read input from STDIN. Print output to STDOUT\n",
    "N=int(input())\n",
    "english_roll=set(map(int,input().split()))\n",
    "M=int(input())\n",
    "french_roll=set(map(int,input().split()))\n",
    "\n",
    "o=english_roll.difference(french_roll)\n",
    "print(len(o))"
   ]
  },
  {
   "cell_type": "markdown",
   "id": "0d09b438",
   "metadata": {},
   "source": [
    "### Set .symmetric_difference() Operation"
   ]
  },
  {
   "cell_type": "code",
   "execution_count": 6,
   "id": "dddf0da7",
   "metadata": {},
   "outputs": [
    {
     "name": "stdout",
     "output_type": "stream",
     "text": [
      "9\n",
      "1 2 3 4 5 6 7 8 9\n",
      "9\n",
      "10 1 2 3 11 21 55 6 8\n",
      "8\n"
     ]
    }
   ],
   "source": [
    "# Enter your code here. Read input from STDIN. Print output to STDOUT\n",
    "N=int(input())\n",
    "english_roll=set(map(int,input().split()))\n",
    "M=int(input())\n",
    "french_roll=set(map(int,input().split()))\n",
    "\n",
    "o=english_roll.symmetric_difference(french_roll)\n",
    "print(len(o))"
   ]
  },
  {
   "cell_type": "markdown",
   "id": "2241c650",
   "metadata": {},
   "source": [
    "### Set Mutations\n"
   ]
  },
  {
   "cell_type": "markdown",
   "id": "0257bf6b",
   "metadata": {},
   "source": [
    "We have seen the applications of union, intersection, difference and symmetric difference operations, but these operations do not make any changes or mutations to the set."
   ]
  },
  {
   "cell_type": "markdown",
   "id": "02b680c3",
   "metadata": {},
   "source": [
    "We can use the following operations to create mutations to a set:\n",
    "\n",
    "### .update() or |=\n",
    "Update the set by adding elements from an iterable/another set.\n"
   ]
  },
  {
   "cell_type": "raw",
   "id": "65a72eec",
   "metadata": {},
   "source": [
    "\n",
    ">>> H = set(\"Hacker\")\n",
    ">>> R = set(\"Rank\")\n",
    ">>> H.update(R)\n",
    ">>> print H\n",
    "set(['a', 'c', 'e', 'H', 'k', 'n', 'r', 'R'])"
   ]
  },
  {
   "cell_type": "markdown",
   "id": "9adfdfb8",
   "metadata": {},
   "source": [
    "### .intersection_update() or &=\n",
    "Update the set by keeping only the elements found in it and an iterable/another set."
   ]
  },
  {
   "cell_type": "raw",
   "id": "3b737a72",
   "metadata": {},
   "source": [
    ">>> H = set(\"Hacker\")\n",
    ">>> R = set(\"Rank\")\n",
    ">>> H.intersection_update(R)\n",
    ">>> print H\n",
    "set(['a', 'k'])"
   ]
  },
  {
   "cell_type": "markdown",
   "id": "5d15e333",
   "metadata": {},
   "source": [
    "### .difference_update() or -=\n",
    "Update the set by removing elements found in an iterable/another set."
   ]
  },
  {
   "cell_type": "raw",
   "id": "46d69143",
   "metadata": {},
   "source": [
    ">>> H = set(\"Hacker\")\n",
    ">>> R = set(\"Rank\")\n",
    ">>> H.difference_update(R)\n",
    ">>> print H\n",
    "set(['c', 'e', 'H', 'r'])"
   ]
  },
  {
   "cell_type": "markdown",
   "id": "1e01fd15",
   "metadata": {},
   "source": [
    "### .symmetric_difference_update() or ^=\n",
    "Update the set by only keeping the elements found in either set, but not in both."
   ]
  },
  {
   "cell_type": "raw",
   "id": "df86b5ec",
   "metadata": {},
   "source": [
    ">>> H = set(\"Hacker\")\n",
    ">>> R = set(\"Rank\")\n",
    ">>> H.symmetric_difference_update(R)\n",
    ">>> print H\n",
    "set(['c', 'e', 'H', 'n', 'r', 'R'])"
   ]
  },
  {
   "cell_type": "code",
   "execution_count": null,
   "id": "08e11e01",
   "metadata": {},
   "outputs": [],
   "source": [
    "# Enter your code here. Read input from STDIN.  output to STDOUT\n",
    "N=int(input())\n",
    "set_1=set(map(int,input().split()))\n",
    "M=int(input())\n",
    "\n",
    "for _ in range(M):\n",
    "    a,b=input().split()\n",
    "    set_2=set(map(int,input().split()))\n",
    "    if a == \"intersection_update\":\n",
    "        set_1.intersection_update(set_2)\n",
    "    elif a == \"update\":\n",
    "        set_1.update(set_2)\n",
    "    elif a == \"symmetric_difference_update\":\n",
    "        set_1.symmetric_difference_update(set_2)\n",
    "    elif a == \"difference_update\":\n",
    "        set_1.difference_update(set_2)\n",
    "        \n",
    "print(sum(set_1))\n",
    "        "
   ]
  },
  {
   "cell_type": "markdown",
   "id": "9b6a7901",
   "metadata": {},
   "source": [
    "### The Captain's Room\n"
   ]
  },
  {
   "cell_type": "code",
   "execution_count": 1,
   "id": "68905b3c",
   "metadata": {},
   "outputs": [
    {
     "name": "stdout",
     "output_type": "stream",
     "text": [
      "5\n",
      "1 2 3 6 5 4 4 2 5 3 6 1 6 5 3 2 4 1 2 5 1 4 3 6 8 4 3 1 5 6 2 \n",
      "8\n"
     ]
    }
   ],
   "source": [
    "# Enter your code here. Read input from STDIN. Print output to STDOUT\n",
    "import collections\n",
    "K=int(input())\n",
    "room_list=list(map(str,input().split()))\n",
    "N=len(room_list)//K\n",
    "unique_room=set(room_list)\n",
    "aa=dict(collections.Counter(room_list))\n",
    "# print(aa.items())\n",
    "for i,j in aa.items():\n",
    "    if j==1:\n",
    "        print(i)\n",
    "\n",
    "\n",
    "\n"
   ]
  },
  {
   "cell_type": "code",
   "execution_count": 4,
   "id": "e9cc5c91",
   "metadata": {},
   "outputs": [
    {
     "name": "stdout",
     "output_type": "stream",
     "text": [
      "5\n",
      "1 2 3 6 5 4 4 2 5 3 6 1 6 5 3 2 4 1 2 5 1 4 3 6 8 4 3 1 5 6 2 \n",
      "8\n"
     ]
    }
   ],
   "source": [
    "d=input();  #get rid of first line \n",
    "a=input().split();  #store all to array\n",
    "s1=set();  #all unique room number\n",
    "s2=set();  #all unique room number occur more than once\n",
    "for i in a:\n",
    "    if  i in s1:\n",
    "        s2.add(i);\n",
    "    else:\n",
    "        s1.add(i);\n",
    "s3=s1.difference(s2);\n",
    "print (list(s3)[0]);\n"
   ]
  },
  {
   "cell_type": "markdown",
   "id": "09a32eb6",
   "metadata": {},
   "source": [
    "#### Check Subset\n"
   ]
  },
  {
   "cell_type": "markdown",
   "id": "4dbf95c3",
   "metadata": {},
   "source": [
    "You are given two sets, A and B.\n",
    "Your job is to find whether set A is a subset of set B.\n",
    "\n",
    "If set A is subset of set B, print True.\n",
    "If set A is not a subset of set B , print False."
   ]
  },
  {
   "cell_type": "code",
   "execution_count": 5,
   "id": "7d471fc5",
   "metadata": {},
   "outputs": [
    {
     "name": "stdout",
     "output_type": "stream",
     "text": [
      "3\n",
      "4\n",
      "1 2 3 5 6\n",
      "9\n",
      "9 8 5 6 3 2 1 4 7\n",
      "True\n",
      "1\n",
      "2\n",
      "5\n",
      "3 6 5 4 1\n",
      "False\n",
      "7\n",
      "1 2 3 5 6 8 9\n",
      "3\n",
      "9 8 2\n",
      "False\n"
     ]
    }
   ],
   "source": [
    "# Enter your code here. Read input from STDIN. Print output to STDOUT\n",
    "T=int(input())\n",
    "for _ in range(T):\n",
    "    A=int(input())\n",
    "    test_case_A=set(map(int,input().split()))\n",
    "    B=int(input())\n",
    "    test_case_B=set(map(int,input().split()))\n",
    "    if test_case_A.issubset(test_case_B):\n",
    "        print(True)\n",
    "    else:\n",
    "        print(False)\n"
   ]
  },
  {
   "cell_type": "markdown",
   "id": "3583d3c2",
   "metadata": {},
   "source": [
    "#### Check Strict Superset\n"
   ]
  },
  {
   "cell_type": "markdown",
   "id": "cc919e96",
   "metadata": {},
   "source": [
    "You are given a set  and  other sets.\n",
    "Your job is to find whether set  is a strict superset of each of the  sets.\n",
    "\n",
    "Print True, if  is a strict superset of each of the  sets. Otherwise, print False.\n",
    "\n",
    "#### A strict superset has at least one element that does not exist in its subset."
   ]
  },
  {
   "cell_type": "markdown",
   "id": "ab8d4f0b",
   "metadata": {},
   "source": [
    "Set ([1,3,4])is a strict superset of set ([1,3]) .\n",
    "\n",
    "Set  ([1,3,4]) is not a strict superset of set Set ([1,3,4]).\n",
    "\n",
    "Set ([1,3,4]) is not a strict superset of set([1,3,5])."
   ]
  },
  {
   "cell_type": "code",
   "execution_count": 1,
   "id": "ce709017",
   "metadata": {},
   "outputs": [
    {
     "name": "stdout",
     "output_type": "stream",
     "text": [
      "1 2 3 4 5 6 7 8 9 10 11 12 23 45 84 78\n",
      "2\n",
      "1 2 3 4 5\n",
      "100 11 12\n",
      "False\n"
     ]
    }
   ],
   "source": [
    "# Enter your code here. Read input from STDIN. Print output to STDOUT\n",
    "A=set(map(int,input().split()))\n",
    "n=int(input())\n",
    "b=[]\n",
    "c=[]\n",
    "for i in range(n):\n",
    "    b.append(set(map(int,input().split())))      \n",
    "    c.append(A.issuperset(b[i]))\n",
    "\n",
    "# print(c)\n",
    "if False in c:\n",
    "    print(False)\n",
    "else:\n",
    "    print(True)"
   ]
  },
  {
   "cell_type": "markdown",
   "id": "96e73c5d",
   "metadata": {},
   "source": [
    "# Regex and Parsing"
   ]
  },
  {
   "cell_type": "markdown",
   "id": "2e385a1b",
   "metadata": {},
   "source": [
    "### Re.split()\n"
   ]
  },
  {
   "cell_type": "code",
   "execution_count": 3,
   "id": "377c171d",
   "metadata": {},
   "outputs": [
    {
     "name": "stdout",
     "output_type": "stream",
     "text": [
      "100,000,000.000\n",
      "100\n",
      "000\n",
      "000\n",
      "000\n"
     ]
    }
   ],
   "source": [
    "regex_pattern = r\"[,.]\"\t# Do not delete 'r'.\n",
    "\n",
    "import re\n",
    "print(\"\\n\".join(re.split(regex_pattern, input())))"
   ]
  },
  {
   "cell_type": "markdown",
   "id": "4f2c68ac",
   "metadata": {},
   "source": [
    "### Validating UID\n"
   ]
  },
  {
   "cell_type": "code",
   "execution_count": 22,
   "id": "dc6743de",
   "metadata": {},
   "outputs": [
    {
     "name": "stdout",
     "output_type": "stream",
     "text": [
      "2\n",
      "B1CD102354\n",
      "Invalid\n",
      "B1CDEF2354\n",
      "Valid\n"
     ]
    }
   ],
   "source": [
    "import re\n",
    "for _ in range(int(input())):\n",
    "    s = input()\n",
    "    print( \"Valid\" if all([re.search(r,s) for r in [(r'([A-Z].*){2,}'),(r'([0-9].*){3,}'),(r'[a-zA-Z0-9]{10}')]]) and not re.search(r'.*(.).*\\1', s) else \"Invalid\")\n",
    "    \n",
    "    \n"
   ]
  },
  {
   "cell_type": "code",
   "execution_count": 23,
   "id": "8fc511d4",
   "metadata": {},
   "outputs": [
    {
     "name": "stdout",
     "output_type": "stream",
     "text": [
      "6\n",
      "4123456789123456\n",
      "Valid\n",
      "5123-4567-8912-3456\n",
      "Valid\n",
      "61234-567-8912-3456\n",
      "Invalid\n",
      "4123356789123456\n",
      "Valid\n",
      "5133-3367-8912-3456\n",
      "Invalid\n",
      "5123 - 3567 - 8912 - 3456\n",
      "Invalid\n"
     ]
    }
   ],
   "source": [
    "import re\n",
    "\n",
    "\n",
    "for _ in range(int(input())):\n",
    "    s = input()\n",
    "\n",
    "    if re.match(r\"^[456]([\\d]{15}|[\\d]{3}(-[\\d]{4}){3})$\", s) and not re.search(r\"([\\d])\\1\\1\\1\", s.replace(\"-\", \"\")):\n",
    "        print(\"Valid\")\n",
    "    else:\n",
    "        print(\"Invalid\")\n"
   ]
  },
  {
   "cell_type": "code",
   "execution_count": null,
   "id": "15ca4c4e",
   "metadata": {},
   "outputs": [],
   "source": []
  },
  {
   "cell_type": "markdown",
   "id": "09b76876",
   "metadata": {},
   "source": [
    "### Group(), Groups() & Groupdict()\n"
   ]
  },
  {
   "cell_type": "markdown",
   "id": "4f7e9c1b",
   "metadata": {},
   "source": [
    "### group()\n",
    "A group() expression returns one or more subgroups of the match"
   ]
  },
  {
   "cell_type": "raw",
   "id": "0bdbaadb",
   "metadata": {},
   "source": [
    ">>> import re\n",
    ">>> m = re.match(r'(\\w+)@(\\w+)\\.(\\w+)','username@hackerrank.com')\n",
    ">>> m.group(0)       # The entire match \n",
    "'username@hackerrank.com'\n",
    ">>> m.group(1)       # The first parenthesized subgroup.\n",
    "'username'\n",
    ">>> m.group(2)       # The second parenthesized subgroup.\n",
    "'hackerrank'\n",
    ">>> m.group(3)       # The third parenthesized subgroup.\n",
    "'com'\n",
    ">>> m.group(1,2,3)   # Multiple arguments give us a tuple.\n",
    "('username', 'hackerrank', 'com')"
   ]
  },
  {
   "cell_type": "markdown",
   "id": "0df68936",
   "metadata": {},
   "source": [
    "### groups()\n",
    "A groups() expression returns a tuple containing all the subgroups of the match."
   ]
  },
  {
   "cell_type": "raw",
   "id": "ce069b92",
   "metadata": {},
   "source": [
    ">>> import re\n",
    ">>> m = re.match(r'(\\w+)@(\\w+)\\.(\\w+)','username@hackerrank.com')\n",
    ">>> m.groups()\n",
    "('username', 'hackerrank', 'com')"
   ]
  },
  {
   "cell_type": "markdown",
   "id": "af8e4c13",
   "metadata": {},
   "source": [
    "### groupdict()\n",
    "A groupdict() expression returns a dictionary containing all the named subgroups of the match, keyed by the subgroup name."
   ]
  },
  {
   "cell_type": "raw",
   "id": "9adbef56",
   "metadata": {},
   "source": [
    ">>> m = re.match(r'(?P<user>\\w+)@(?P<website>\\w+)\\.(?P<extension>\\w+)','myname@hackerrank.com')\n",
    ">>> m.groupdict()\n",
    "{'website': 'hackerrank', 'user': 'myname', 'extension': 'com'}"
   ]
  },
  {
   "cell_type": "raw",
   "id": "acfd68a7",
   "metadata": {},
   "source": [
    "Just for beginners--\n",
    "\n",
    "Method/Attribute Purpose\n",
    "\n",
    "match() -------- > >> Determine if the RE matches at the beginning of the string.\n",
    "\n",
    "search() ---------> >> Scan through a string, looking for any location where this RE matches.\n",
    "\n",
    "findall() ---- ----->>> Find all substrings where the RE matches, and returns them as a list.\n",
    "\n",
    "finditer()----->>> Find all substrings where the RE matches, and returns them as an iterator."
   ]
  },
  {
   "cell_type": "markdown",
   "id": "c2cde7ad",
   "metadata": {},
   "source": [
    "# Date and Time"
   ]
  },
  {
   "cell_type": "markdown",
   "id": "358999a1",
   "metadata": {},
   "source": [
    "### Calendar Module\n",
    "The calendar module allows you to output calendars and provides additional useful functions for them.\n",
    "\n",
    "class calendar.TextCalendar([firstweekday])\n",
    "\n",
    "This class can be used to generate plain text calendars."
   ]
  },
  {
   "cell_type": "code",
   "execution_count": 3,
   "id": "7093cd6c",
   "metadata": {},
   "outputs": [],
   "source": [
    "import calendar \n"
   ]
  },
  {
   "cell_type": "code",
   "execution_count": 7,
   "id": "c77551ee",
   "metadata": {},
   "outputs": [
    {
     "data": {
      "text/plain": [
       "'                                  2015\\n\\n      January                   February                   March\\nSu Mo Tu We Th Fr Sa      Su Mo Tu We Th Fr Sa      Su Mo Tu We Th Fr Sa\\n             1  2  3       1  2  3  4  5  6  7       1  2  3  4  5  6  7\\n 4  5  6  7  8  9 10       8  9 10 11 12 13 14       8  9 10 11 12 13 14\\n11 12 13 14 15 16 17      15 16 17 18 19 20 21      15 16 17 18 19 20 21\\n18 19 20 21 22 23 24      22 23 24 25 26 27 28      22 23 24 25 26 27 28\\n25 26 27 28 29 30 31                                29 30 31\\n\\n       April                      May                       June\\nSu Mo Tu We Th Fr Sa      Su Mo Tu We Th Fr Sa      Su Mo Tu We Th Fr Sa\\n          1  2  3  4                      1  2          1  2  3  4  5  6\\n 5  6  7  8  9 10 11       3  4  5  6  7  8  9       7  8  9 10 11 12 13\\n12 13 14 15 16 17 18      10 11 12 13 14 15 16      14 15 16 17 18 19 20\\n19 20 21 22 23 24 25      17 18 19 20 21 22 23      21 22 23 24 25 26 27\\n26 27 28 29 30            24 25 26 27 28 29 30      28 29 30\\n                          31\\n\\n        July                     August                  September\\nSu Mo Tu We Th Fr Sa      Su Mo Tu We Th Fr Sa      Su Mo Tu We Th Fr Sa\\n          1  2  3  4                         1             1  2  3  4  5\\n 5  6  7  8  9 10 11       2  3  4  5  6  7  8       6  7  8  9 10 11 12\\n12 13 14 15 16 17 18       9 10 11 12 13 14 15      13 14 15 16 17 18 19\\n19 20 21 22 23 24 25      16 17 18 19 20 21 22      20 21 22 23 24 25 26\\n26 27 28 29 30 31         23 24 25 26 27 28 29      27 28 29 30\\n                          30 31\\n\\n      October                   November                  December\\nSu Mo Tu We Th Fr Sa      Su Mo Tu We Th Fr Sa      Su Mo Tu We Th Fr Sa\\n             1  2  3       1  2  3  4  5  6  7             1  2  3  4  5\\n 4  5  6  7  8  9 10       8  9 10 11 12 13 14       6  7  8  9 10 11 12\\n11 12 13 14 15 16 17      15 16 17 18 19 20 21      13 14 15 16 17 18 19\\n18 19 20 21 22 23 24      22 23 24 25 26 27 28      20 21 22 23 24 25 26\\n25 26 27 28 29 30 31      29 30                     27 28 29 30 31\\n'"
      ]
     },
     "execution_count": 7,
     "metadata": {},
     "output_type": "execute_result"
    }
   ],
   "source": [
    "calendar.TextCalendar(firstweekday=6).formatyear(2015)"
   ]
  },
  {
   "cell_type": "markdown",
   "id": "fec6d0e4",
   "metadata": {},
   "source": [
    "## Calendar Module\n",
    "\n",
    "By default, these calendars have Monday as the first day of the week, and Sunday as the last (the European convention)."
   ]
  },
  {
   "cell_type": "code",
   "execution_count": 8,
   "id": "89d10538",
   "metadata": {},
   "outputs": [
    {
     "name": "stdout",
     "output_type": "stream",
     "text": [
      "   November 2017\n",
      "Mo Tu We Th Fr Sa Su\n",
      "       1  2  3  4  5\n",
      " 6  7  8  9 10 11 12\n",
      "13 14 15 16 17 18 19\n",
      "20 21 22 23 24 25 26\n",
      "27 28 29 30\n",
      "\n"
     ]
    }
   ],
   "source": [
    "# Example #1: Display Calendar of given month.\n",
    "\n",
    "# Python program to display calendar of \n",
    "# given month of the year \n",
    "    \n",
    "# import module \n",
    "import calendar \n",
    "    \n",
    "yy = 2017\n",
    "mm = 11\n",
    "    \n",
    "# display the calendar \n",
    "print(calendar.month(yy, mm)) "
   ]
  },
  {
   "cell_type": "markdown",
   "id": "f52fdb5a",
   "metadata": {},
   "source": [
    "### class calendar.Calendar :\n",
    "Calendar class creates a Calendar object. A Calendar object provides several methods that can be used for preparing the calendar data for formatting. This class doesn’t do any formatting itself. This is the job of subclasses. Calendar class allows the calculations for various task based on date, month, and year. Calendar class provides the following methods:"
   ]
  },
  {
   "cell_type": "markdown",
   "id": "863f5166",
   "metadata": {},
   "source": [
    "### class calendar.TextCalendar :\n",
    "TextCalendar class can be used to generate plain text calendars. TextCalendar class in Python allows you to edit the calendar and use as per your requirement."
   ]
  },
  {
   "cell_type": "markdown",
   "id": "3cacf784",
   "metadata": {},
   "source": [
    "### class calendar.HTMLCalendar :\n",
    "HTMLCalendar class can be used to generate HTML calendars. HTMLCalendar class in Python allows you to edit the calendar and use as per your requirement."
   ]
  },
  {
   "cell_type": "markdown",
   "id": "ddec5101",
   "metadata": {},
   "source": [
    "Operations on calendar :\n",
    "\n",
    "1. calendar(year, w, l, c) :- This function displays the year, width of characters, no. of lines per week and column separations.\n",
    "\n",
    "2. firstweekday() :- This function returns the first week day number. By default 0 (Monday).\n",
    "    \n",
    "3. isleap (year) :- This function checks if year mentioned in argument is leap or not.\n",
    "\n",
    "4. leapdays (year1, year2) :- This function returns the number of leap days between the specified years in arguments.\n",
    "    \n",
    "5. month (year, month, w, l) :- This function prints the month of a specific year mentioned in arguments. It takes 4 arguments, year, month, width of characters and no. of lines taken by a week."
   ]
  },
  {
   "cell_type": "code",
   "execution_count": 2,
   "id": "cb0b4bd8",
   "metadata": {},
   "outputs": [
    {
     "name": "stdout",
     "output_type": "stream",
     "text": [
      "05 05 1997\n",
      "MONDAY\n"
     ]
    }
   ],
   "source": [
    "# Enter your code here. Read input from STDIN. Print output to STDOUT\n",
    "import calendar\n",
    "MM,DD,YY=map(int,input().split())\n",
    "print(calendar.day_name[calendar.weekday(YY,MM,DD)].upper())\n"
   ]
  },
  {
   "cell_type": "markdown",
   "id": "45a6cd7c",
   "metadata": {},
   "source": [
    "### Time Delta\n"
   ]
  },
  {
   "cell_type": "code",
   "execution_count": 2,
   "id": "97fc8f8b",
   "metadata": {},
   "outputs": [
    {
     "name": "stdout",
     "output_type": "stream",
     "text": [
      "2\n",
      "Sun 10 May 2015 13:54:36 -0700\n",
      "Sun 10 May 2015 13:54:36 -0000\n",
      "25200\n",
      "Sat 02 May 2015 19:54:36 +0530\n",
      "Fri 01 May 2015 13:54:36 -0000\n",
      "88200\n"
     ]
    }
   ],
   "source": [
    "from datetime import datetime as dt\n",
    "\n",
    "\n",
    "fmt = '%a %d %b %Y %H:%M:%S %z'\n",
    "for i in range(int(input())):\n",
    "    print(int(abs((dt.strptime(input(), fmt) - \n",
    "                   dt.strptime(input(), fmt)).total_seconds())))"
   ]
  },
  {
   "cell_type": "markdown",
   "id": "e8780192",
   "metadata": {},
   "source": [
    "### Re.start() & Re.end()\n"
   ]
  },
  {
   "cell_type": "markdown",
   "id": "e47bd48d",
   "metadata": {},
   "source": [
    "### start() & end()\n",
    "These expressions return the indices of the start and end of the substring matched by the group."
   ]
  },
  {
   "cell_type": "raw",
   "id": "b12dde10",
   "metadata": {},
   "source": [
    ">>> import re\n",
    ">>> m = re.search(r'\\d+','1234')\n",
    ">>> m.end()\n",
    "4\n",
    ">>> m.start()\n",
    "0"
   ]
  },
  {
   "cell_type": "code",
   "execution_count": 4,
   "id": "100c928e",
   "metadata": {},
   "outputs": [
    {
     "name": "stdout",
     "output_type": "stream",
     "text": [
      "aaadaa\n",
      "aa\n",
      "(0, 1)\n",
      "(1, 2)\n",
      "(4, 5)\n"
     ]
    }
   ],
   "source": [
    "import re\n",
    "S = input()\n",
    "k = input()\n",
    "m = re.search(k, S) # as because if no string matches it return None\n",
    "pattern = re.compile(k)\n",
    "if not m: print(\"(-1, -1)\")\n",
    "while m:\n",
    "    print(\"({0}, {1})\".format(m.start(),m.end()-1))\n",
    "    m = pattern.search(S,m.start()+1)"
   ]
  },
  {
   "cell_type": "markdown",
   "id": "e57f7607",
   "metadata": {},
   "source": [
    "### Regex Substitution\n"
   ]
  },
  {
   "cell_type": "markdown",
   "id": "74b79349",
   "metadata": {},
   "source": [
    "The re.sub() tool (sub stands for substitution) evaluates a pattern and, for each valid match, it calls a method (or lambda).\n",
    "The method is called for all matches and can be used to modify strings in different ways.\n",
    "The re.sub() method returns the modified string as an output."
   ]
  },
  {
   "cell_type": "code",
   "execution_count": 7,
   "id": "97779ed1",
   "metadata": {},
   "outputs": [
    {
     "name": "stdout",
     "output_type": "stream",
     "text": [
      "1\n",
      "c $&1|| || && && &|&&| & | | &&c\n",
      "c $&1|| or and and &|&&| & | | &&c\n"
     ]
    }
   ],
   "source": [
    "# Enter your code here. Read input from STDIN. Print output to STDOUT\n",
    "import re\n",
    "q=int(input())\n",
    "for i in range(q):\n",
    "    s=input()\n",
    "    # print(s)\n",
    "    a=re.sub(r\"(?<= )(&{2})(?= )\",\"and\",s)\n",
    "    a=re.sub(r\"(?<= )([|]{2})(?= )\",\"or\",a)\n",
    "    print(a)\n",
    "\n"
   ]
  },
  {
   "cell_type": "markdown",
   "id": "17825cb3",
   "metadata": {},
   "source": [
    "### Validating Roman Numerals\n"
   ]
  },
  {
   "cell_type": "code",
   "execution_count": 8,
   "id": "1d80ea49",
   "metadata": {},
   "outputs": [
    {
     "name": "stdout",
     "output_type": "stream",
     "text": [
      "DXXVIIII\n",
      "False\n"
     ]
    }
   ],
   "source": [
    "\n",
    "\n",
    "\n",
    "thousand=r'M{0,3}'\n",
    "hundered =r'(C[MD]|D?[C]{0,3})'\n",
    "ten=r'(X[LC]|L?[X]{0,3})'\n",
    "ones=r'(I[VX]|[V]?I{0,3})'\n",
    "\n",
    "regex_pattern = thousand + hundered + ten +ones\t+ '$' # Do not delete 'r'.\n",
    "import math\n",
    "\n",
    "import re\n",
    "print(str(bool(re.match(regex_pattern, input()))))"
   ]
  },
  {
   "cell_type": "markdown",
   "id": "70f11795",
   "metadata": {},
   "source": [
    "## Validating phone numbers\n"
   ]
  },
  {
   "cell_type": "code",
   "execution_count": 9,
   "id": "7ee7c0db",
   "metadata": {},
   "outputs": [
    {
     "name": "stdout",
     "output_type": "stream",
     "text": [
      "2\n",
      "9587456281\n",
      "YES\n",
      "1252478965\n",
      "NO\n"
     ]
    }
   ],
   "source": [
    "# Enter your code here. Read input from STDIN. Print output to STDOUT\n",
    "\n",
    "import re\n",
    "pattern=r'^[789][0-9]{9}$'\n",
    "N=int(input())\n",
    "for _ in range(N):\n",
    "    S=input()\n",
    "    if re.match(pattern,S):\n",
    "        print(\"YES\")\n",
    "    else:\n",
    "        print(\"NO\")"
   ]
  },
  {
   "cell_type": "code",
   "execution_count": null,
   "id": "4746b38f",
   "metadata": {},
   "outputs": [],
   "source": []
  },
  {
   "cell_type": "code",
   "execution_count": null,
   "id": "9b979c4b",
   "metadata": {},
   "outputs": [],
   "source": []
  },
  {
   "cell_type": "code",
   "execution_count": null,
   "id": "f90847d6",
   "metadata": {},
   "outputs": [],
   "source": [
    "    "
   ]
  },
  {
   "cell_type": "markdown",
   "id": "ae42285b",
   "metadata": {},
   "source": [
    "### Errors and Exceptions"
   ]
  },
  {
   "cell_type": "markdown",
   "id": "cd1253b8",
   "metadata": {},
   "source": [
    "#### Exceptions\n",
    "Errors detected during execution are called exceptions."
   ]
  },
  {
   "cell_type": "markdown",
   "id": "4bba3ee5",
   "metadata": {},
   "source": [
    "##### ZeroDivisionError\n",
    "This error is raised when the second argument of a division or modulo operation is zero."
   ]
  },
  {
   "cell_type": "raw",
   "id": "106a6b05",
   "metadata": {},
   "source": [
    ">>> a = '1'\n",
    ">>> b = '0'\n",
    ">>> print int(a) / int(b)\n",
    ">>> ZeroDivisionError: integer division or modulo by zero"
   ]
  },
  {
   "cell_type": "raw",
   "id": "d0704578",
   "metadata": {},
   "source": [
    "#### ValueError\n",
    "This error is raised when a built-in operation or function receives an argument that has the right type but an inappropriate value.\n",
    "\n",
    ">>> a = '1'\n",
    ">>> b = '#'\n",
    ">>> print int(a) / int(b)\n",
    ">>> ValueError: invalid literal for int() with base 1"
   ]
  },
  {
   "cell_type": "markdown",
   "id": "9f77cef6",
   "metadata": {},
   "source": [
    "#### Handling Exceptions\n",
    "The statements try and except can be used to handle selected exceptions. A try statement may have more than one except clause to specify handlers for different exceptions."
   ]
  },
  {
   "cell_type": "raw",
   "id": "73bb0b9b",
   "metadata": {},
   "source": [
    "#Code\n",
    "try:\n",
    "    print 1/0\n",
    "except ZeroDivisionError as e:\n",
    "    print \"Error Code:\",e\n",
    "    \n",
    "Output\n",
    "Error Code: integer division or modulo by zero"
   ]
  },
  {
   "cell_type": "code",
   "execution_count": 1,
   "id": "3e443861",
   "metadata": {},
   "outputs": [
    {
     "name": "stdout",
     "output_type": "stream",
     "text": [
      "3\n",
      "1 0\n",
      "Error Code: integer division or modulo by zero\n",
      "2 $\n",
      "Error Code: invalid literal for int() with base 10: '$'\n",
      "3 1\n",
      "3\n"
     ]
    }
   ],
   "source": [
    "# Enter your code here. Read input from STDIN. Print output to STDOUT\n",
    "\n",
    "n=int(input())\n",
    "\n",
    "for _  in range(n):\n",
    "    a,b=input().split()\n",
    "\n",
    "    try:\n",
    "        print(int(a)//int(b))\n",
    "    except ZeroDivisionError as e:\n",
    "        print(f\"Error Code: {e}\")\n",
    "    except ValueError as f:\n",
    "        print(f\"Error Code: {f}\")\n",
    "    "
   ]
  },
  {
   "cell_type": "markdown",
   "id": "b673b8c6",
   "metadata": {},
   "source": [
    "#### Incorrect Regex\n",
    "You are given a string S.\n",
    "Your task is to find out whether S is a valid regex or not."
   ]
  },
  {
   "cell_type": "code",
   "execution_count": 2,
   "id": "fc945b23",
   "metadata": {},
   "outputs": [
    {
     "name": "stdout",
     "output_type": "stream",
     "text": [
      "2\n",
      ".*\\+\n",
      "True\n",
      ".*+\n",
      "False\n"
     ]
    }
   ],
   "source": [
    "# Enter your code here. Read input from STDIN. Print output to STDOUT\n",
    "import re\n",
    "N=int(input())\n",
    "for _ in range(N):\n",
    "    ans=True\n",
    "    a=input()\n",
    "    try:\n",
    "        re.compile(a)\n",
    "    except re.error :\n",
    "        ans=False\n",
    "    print(ans)"
   ]
  },
  {
   "cell_type": "markdown",
   "id": "56a9a45e",
   "metadata": {},
   "source": [
    "#### Python Functionals"
   ]
  },
  {
   "cell_type": "markdown",
   "id": "b2a5a174",
   "metadata": {},
   "source": [
    "### Map and Lambda Function\n",
    "\n",
    "##### Concept\n",
    "\n",
    "The map() function applies a function to every member of an iterable and returns the result. It takes two parameters: first, the function that is to be applied and secondly, the iterables.\n",
    "Let's say you are given a list of names, and you have to print a list that contains the length of each name.\n",
    "\n"
   ]
  },
  {
   "cell_type": "code",
   "execution_count": 4,
   "id": "477b2b9a",
   "metadata": {},
   "outputs": [
    {
     "name": "stdout",
     "output_type": "stream",
     "text": [
      "[4, 3, 3]\n"
     ]
    }
   ],
   "source": [
    "print (list(map(len, ['Tina', 'Raj', 'Tom'])))  \n",
    "#[4, 3, 3]  "
   ]
  },
  {
   "cell_type": "markdown",
   "id": "aee8f7d4",
   "metadata": {},
   "source": [
    "Lambda is a single expression anonymous function often used as an inline function. In simple words, it is a function that has only one line in its body. It proves very handy in functional and GUI programming.\n",
    "\n",
    "###### NOTE ->\n",
    "\n",
    "Lambda functions cannot use the return statement and can only have a single expression. Unlike def, which creates a function and assigns it a name, lambda creates a function and returns the function itself. Lambda can be used inside lists and dictionaries."
   ]
  },
  {
   "cell_type": "code",
   "execution_count": 5,
   "id": "4821cba5",
   "metadata": {},
   "outputs": [
    {
     "data": {
      "text/plain": [
       "6"
      ]
     },
     "execution_count": 5,
     "metadata": {},
     "output_type": "execute_result"
    }
   ],
   "source": [
    "sum = lambda a, b, c: a + b + c\n",
    "sum(1, 2, 3)\n",
    "#6"
   ]
  },
  {
   "cell_type": "code",
   "execution_count": 6,
   "id": "ef2f64e4",
   "metadata": {},
   "outputs": [
    {
     "name": "stdout",
     "output_type": "stream",
     "text": [
      "5\n",
      "[0, 1, 1, 8, 27]\n"
     ]
    }
   ],
   "source": [
    "cube = lambda x: x**3 # complete the lambda function \n",
    "    \n",
    "\n",
    "def fibonacci(n):\n",
    "    # return a list of fibonacci numbers\n",
    "    if n<=2:\n",
    "        if n== 0:\n",
    "            return []\n",
    "        elif n == 1:\n",
    "            return [0]\n",
    "        else:\n",
    "            return [0,1]\n",
    "    else:\n",
    "        a=[0,1]\n",
    "        c=0\n",
    "        for _ in range(n-2):\n",
    "            c=a[-2]+a[-1]\n",
    "            a.append(c)\n",
    "    return a\n",
    "        \n",
    "if __name__ == '__main__':\n",
    "    n = int(input())\n",
    "    print(list(map(cube, fibonacci(n))))"
   ]
  },
  {
   "cell_type": "code",
   "execution_count": 11,
   "id": "556fb1cf",
   "metadata": {},
   "outputs": [
    {
     "name": "stdout",
     "output_type": "stream",
     "text": [
      "5\n",
      "[0, 1, 1, 8, 27]\n"
     ]
    }
   ],
   "source": [
    "# good solution \n",
    "\n",
    "cube = lambda x: pow(x,3)# complete the lambda function \n",
    "def fibonacci(n):\n",
    "     # return a list of fibonacci numbers\n",
    "    lis = [0,1]        \n",
    "    for i in range(2,n):      # here this only runs when \n",
    "#         print(i) \n",
    "        lis.append(lis[i-2] + lis[i-1])\n",
    "    return(lis[0:n])\n",
    "    \n",
    "if __name__ == '__main__':\n",
    "    n = int(input())\n",
    "    print(list(map(cube, fibonacci(n))))"
   ]
  },
  {
   "cell_type": "markdown",
   "id": "aa12017d",
   "metadata": {},
   "source": [
    "#### Validating Email Addresses With a Filter\n",
    "\n",
    "##### Concept\n",
    "\n",
    "A filter takes a function returning True or False and applies it to a sequence, returning a list of only those members of the sequence where the function returned True. A Lambda function can be used with filters."
   ]
  },
  {
   "cell_type": "code",
   "execution_count": 14,
   "id": "8d4a31fa",
   "metadata": {},
   "outputs": [
    {
     "name": "stdout",
     "output_type": "stream",
     "text": [
      "[0, 1, 2, 3, 4, 5, 6, 7, 8, 9]\n",
      "[16, 25, 36, 49, 64]\n"
     ]
    }
   ],
   "source": [
    "l = list(range(10))\n",
    "print(l)\n",
    "l = list(map(lambda x:x*x, l))\n",
    "l = list(filter(lambda x: x > 10 and x < 80, l))\n",
    "print(l)\n"
   ]
  },
  {
   "cell_type": "code",
   "execution_count": 15,
   "id": "be29bba3",
   "metadata": {},
   "outputs": [
    {
     "name": "stdout",
     "output_type": "stream",
     "text": [
      "2\n",
      "harsh@gmail\n",
      "iota_98@hackerrank.com\n",
      "['iota_98@hackerrank.com']\n"
     ]
    }
   ],
   "source": [
    "def fun(s):\n",
    "    # return True if s is a valid email, else return False\n",
    "    import re\n",
    "    if re.fullmatch(r\"([a-z,A-Z,0-9,\\-,\\_])+@([a-z,A-Z,0-9])*\\.([a-z,A-Z]?[a-z,A-Z]?[a-z,A-Z]?)\",s):\n",
    "        return True\n",
    "    else:\n",
    "        return False\n",
    "\n",
    "def filter_mail(emails):\n",
    "    return list(filter(fun, emails))\n",
    "\n",
    "if __name__ == '__main__':\n",
    "    n = int(input())\n",
    "    emails = []\n",
    "    for _ in range(n):\n",
    "        emails.append(input())\n",
    "\n",
    "filtered_emails = filter_mail(emails)\n",
    "filtered_emails.sort()\n",
    "print(filtered_emails)"
   ]
  },
  {
   "cell_type": "markdown",
   "id": "b869b4b2",
   "metadata": {},
   "source": [
    "### Reduce Function\n"
   ]
  },
  {
   "cell_type": "markdown",
   "id": "2f6f7330",
   "metadata": {},
   "source": [
    "#### Concept\n",
    "The reduce() function applies a function of two arguments cumulatively on a list of objects in succession from left to right to reduce it to one value. Say you have a list, say [1,2,3] and you have to find its sum."
   ]
  },
  {
   "cell_type": "code",
   "execution_count": 19,
   "id": "65b41dea",
   "metadata": {},
   "outputs": [
    {
     "data": {
      "text/plain": [
       "8"
      ]
     },
     "execution_count": 19,
     "metadata": {},
     "output_type": "execute_result"
    }
   ],
   "source": [
    "from functools import reduce\n",
    "reduce(lambda x, y : x + y,[1,2,5])"
   ]
  },
  {
   "cell_type": "markdown",
   "id": "cce0e3b4",
   "metadata": {},
   "source": [
    "You can also define an initial value. If it is specified, the function will assume initial value as the value given, and then reduce. It is equivalent to adding the initial value at the beginning of the list. For example:"
   ]
  },
  {
   "cell_type": "code",
   "execution_count": 20,
   "id": "c2c3d011",
   "metadata": {},
   "outputs": [
    {
     "data": {
      "text/plain": [
       "3"
      ]
     },
     "execution_count": 20,
     "metadata": {},
     "output_type": "execute_result"
    }
   ],
   "source": [
    "reduce(lambda x, y : x + y, [1,2,3], -3)"
   ]
  },
  {
   "cell_type": "code",
   "execution_count": 21,
   "id": "dbde830f",
   "metadata": {},
   "outputs": [
    {
     "name": "stdout",
     "output_type": "stream",
     "text": [
      "3\n",
      "1 2\n",
      "3 4\n",
      "10 6\n",
      "5 8\n"
     ]
    }
   ],
   "source": [
    "from fractions import Fraction\n",
    "from functools import reduce\n",
    "\n",
    "def product(fracs):\n",
    "    t =reduce(lambda x,y : x*y,fracs)\n",
    "    return t.numerator, t.denominator\n",
    "\n",
    "if __name__ == '__main__':\n",
    "    fracs = []\n",
    "    for _ in range(int(input())):\n",
    "        fracs.append(Fraction(*map(int, input().split())))\n",
    "    result = product(fracs)\n",
    "    print(*result)"
   ]
  },
  {
   "cell_type": "markdown",
   "id": "a62d9ba9",
   "metadata": {},
   "source": [
    "### Validating Postal Codes\n"
   ]
  },
  {
   "cell_type": "code",
   "execution_count": 3,
   "id": "2b0c5868",
   "metadata": {},
   "outputs": [
    {
     "name": "stdout",
     "output_type": "stream",
     "text": [
      "552523\n",
      "False\n"
     ]
    }
   ],
   "source": [
    "regex_integer_in_range = r\"^[1-9]\\d{5}$\"\t# Do not delete 'r'.\n",
    "regex_alternating_repetitive_digit_pair = r\"(\\d)(?=\\d\\1)\"\t# Do not delete 'r'.\n",
    "\n",
    "\n",
    "import re\n",
    "P = input()\n",
    "\n",
    "print (bool(re.match(regex_integer_in_range, P)) \n",
    "and len(re.findall(regex_alternating_repetitive_digit_pair, P)) < 2)\n",
    "\n",
    "# 121426  Here, 1 is an alternating repetitive digit.\n",
    "# 523563  Here, NO digit is an alternating repetitive digit.\n",
    "#552523  Here, both 2 and 5 are alternating repetitive digits."
   ]
  },
  {
   "cell_type": "markdown",
   "id": "ff320735",
   "metadata": {},
   "source": [
    "### Matrix Script\n"
   ]
  },
  {
   "cell_type": "markdown",
   "id": "c6e60bc0",
   "metadata": {},
   "source": [
    "### zip() "
   ]
  },
  {
   "cell_type": "markdown",
   "id": "92deccad",
   "metadata": {},
   "source": [
    "The zip() function returns a zip object, which is an iterator of tuples where the first item in each passed iterator is paired together, and then the second item in each passed iterator are paired together etc.\n",
    "\n",
    "If the passed iterators have different lengths, the iterator with the least items decides the length of the new iterator.\n",
    "\n",
    "#### Syntax\n",
    "zip(iterator1, iterator2, iterator3 ...)"
   ]
  },
  {
   "cell_type": "code",
   "execution_count": 6,
   "id": "ab26d43b",
   "metadata": {},
   "outputs": [
    {
     "name": "stdout",
     "output_type": "stream",
     "text": [
      "('John', 'Jenny')\n",
      "('Charles', 'Christy')\n",
      "('Mike', 'Monica')\n"
     ]
    }
   ],
   "source": [
    "a = (\"John\", \"Charles\", \"Mike\")\n",
    "b = (\"Jenny\", \"Christy\", \"Monica\", \"Vicky\")\n",
    "\n",
    "x = zip(a, b)\n",
    "for i in x:\n",
    "    print(i)"
   ]
  },
  {
   "cell_type": "code",
   "execution_count": 8,
   "id": "8f535268",
   "metadata": {},
   "outputs": [
    {
     "name": "stdout",
     "output_type": "stream",
     "text": [
      "7 3\n",
      "Tsi\n",
      "h%x\n",
      "i #\n",
      "sM \n",
      "$a \n",
      "#t%\n",
      "ir!\n",
      "This is Matrix#  %!\n"
     ]
    }
   ],
   "source": [
    "#!/bin/python3\n",
    "\n",
    "import math\n",
    "import os\n",
    "import random\n",
    "import re\n",
    "import sys\n",
    "\n",
    "\n",
    "\n",
    "\n",
    "first_multiple_input = input().rstrip().split()\n",
    "\n",
    "n = int(first_multiple_input[0])\n",
    "\n",
    "m = int(first_multiple_input[1])\n",
    "\n",
    "matrix = []\n",
    "\n",
    "for _ in range(n):\n",
    "    matrix_item = input()\n",
    "    matrix.append(matrix_item)\n",
    "b=\"\"\n",
    "for z in zip(*matrix):\n",
    "    b+=\"\".join(z)\n",
    "\n",
    "# print(b)\n",
    "a=re.sub(r\"(?<=\\w)([^\\w]+)(?=\\w)\",\" \",b)\n",
    "print(a)\n",
    "\n",
    "'''\n",
    "inputs \n",
    "\n",
    "7 3\n",
    "Tsi\n",
    "h%x\n",
    "i #\n",
    "sM \n",
    "$a \n",
    "#t%\n",
    "ir!\n",
    "This is Matrix#  %!\n",
    "'''"
   ]
  },
  {
   "cell_type": "markdown",
   "id": "e025db28",
   "metadata": {},
   "source": [
    "# Built-Ins"
   ]
  },
  {
   "cell_type": "markdown",
   "id": "f3cbfeb9",
   "metadata": {},
   "source": [
    "### Python Evaluation\n",
    "\n",
    "The eval() expression is a very powerful built-in function of Python. It helps in evaluating an expression. The expression can be a Python statement, or a code object."
   ]
  },
  {
   "cell_type": "raw",
   "id": "1a7aca40",
   "metadata": {},
   "source": [
    ">>> eval(\"9 + 5\")\n",
    "14\n",
    ">>> x = 2\n",
    ">>> eval(\"x + 3\")\n",
    "5"
   ]
  },
  {
   "cell_type": "markdown",
   "id": "b7b4bbb2",
   "metadata": {},
   "source": [
    "Here, eval() can also be used to work with Python keywords or defined functions and variables. These would normally be stored as strings."
   ]
  },
  {
   "cell_type": "raw",
   "id": "d0b9ed60",
   "metadata": {},
   "source": [
    "For example:\n",
    "\n",
    ">>> type(eval(\"len\"))\n",
    "<type 'builtin_function_or_method'>\n",
    "Without eval()\n",
    "\n",
    ">>> type(\"len\")\n",
    "<type 'str'>"
   ]
  },
  {
   "cell_type": "code",
   "execution_count": 3,
   "id": "32da7959",
   "metadata": {},
   "outputs": [
    {
     "name": "stdout",
     "output_type": "stream",
     "text": [
      "print(2 + 3)\n",
      "5\n"
     ]
    }
   ],
   "source": [
    "var=input()\n",
    "\n",
    "eval(var)"
   ]
  },
  {
   "cell_type": "markdown",
   "id": "e7c08c9f",
   "metadata": {},
   "source": [
    "### Athlete Sort\n"
   ]
  },
  {
   "cell_type": "code",
   "execution_count": 2,
   "id": "74bc1001",
   "metadata": {},
   "outputs": [
    {
     "name": "stdout",
     "output_type": "stream",
     "text": [
      "5 3\n",
      "10 2 5\n",
      "7 1 0\n",
      "9 9 9\n",
      "1 23 12\n",
      "6 5 9\n",
      "1\n",
      "7 1 0\n",
      "10 2 5\n",
      "6 5 9\n",
      "9 9 9\n",
      "1 23 12\n"
     ]
    }
   ],
   "source": [
    "#!/bin/python3\n",
    "\n",
    "import math\n",
    "import os\n",
    "import random\n",
    "import re\n",
    "import sys\n",
    "\n",
    "\n",
    "\n",
    "if __name__ == '__main__':\n",
    "    nm = input().split()\n",
    "\n",
    "    n = int(nm[0])\n",
    "\n",
    "    m = int(nm[1])\n",
    "\n",
    "    arr = []\n",
    "\n",
    "    for _ in range(n):\n",
    "        arr.append(list(map(int, input().rstrip().split())))\n",
    "\n",
    "    k = int(input())\n",
    "  \n",
    "    arr.sort(key=lambda row: row[k])\n",
    "    for m in arr:\n",
    "        print(*m)\n",
    "        \n",
    "'''\n",
    "INPUTS\n",
    "5 3\n",
    "10 2 5\n",
    "7 1 0\n",
    "9 9 9\n",
    "1 23 12\n",
    "6 5 9\n",
    "1\n",
    "'''"
   ]
  },
  {
   "cell_type": "markdown",
   "id": "fb000d32",
   "metadata": {},
   "source": [
    "## Any or All\n"
   ]
  },
  {
   "cell_type": "markdown",
   "id": "b4ccf2c5",
   "metadata": {},
   "source": [
    "#### any()\n",
    "This expression returns True if any element of the iterable is true.\n",
    "If the iterable is empty, it will return False."
   ]
  },
  {
   "cell_type": "raw",
   "id": "fe369716",
   "metadata": {},
   "source": [
    ">>> any([1>0,1==0,1<0])\n",
    "True\n",
    ">>> any([1<0,2<1,3<2])\n",
    "False"
   ]
  },
  {
   "cell_type": "markdown",
   "id": "2ac977b9",
   "metadata": {},
   "source": [
    "### all()\n",
    "This expression returns True if all of the elements of the iterable are true. If the iterable is empty, it will return True."
   ]
  },
  {
   "cell_type": "raw",
   "id": "7594ddea",
   "metadata": {},
   "source": [
    ">>> all(['a'<'b','b'<'c'])\n",
    "True\n",
    ">>> all(['a'<'b','c'<'b'])\n",
    "False"
   ]
  },
  {
   "cell_type": "code",
   "execution_count": 4,
   "id": "3e0906c0",
   "metadata": {},
   "outputs": [
    {
     "name": "stdout",
     "output_type": "stream",
     "text": [
      "5\n",
      "12 9 61 5 14\n",
      "True\n"
     ]
    }
   ],
   "source": [
    "n = int(input())\n",
    "\n",
    "arr = input().split(\" \")\n",
    "\n",
    "print(all(int(i)>=0 for i in arr) and any(i == i[::-1]for i in arr))"
   ]
  },
  {
   "cell_type": "markdown",
   "id": "4844c5a4",
   "metadata": {},
   "source": [
    "### ginortS\n"
   ]
  },
  {
   "cell_type": "code",
   "execution_count": 5,
   "id": "3fb180b1",
   "metadata": {},
   "outputs": [
    {
     "name": "stdout",
     "output_type": "stream",
     "text": [
      "Sorting1234\n",
      "ginortS1324"
     ]
    }
   ],
   "source": [
    "# Enter your code here. Read input from STDIN. Print output to STDOUT\n",
    "S=input()\n",
    "a=[]\n",
    "S=sorted(S)\n",
    "for i in S:\n",
    "    if i.islower():\n",
    "        a.append(i)\n",
    "for i in S:\n",
    "    if i.isupper():\n",
    "        a.append(i)\n",
    "b=[]\n",
    "for i in S:\n",
    "    if i.isnumeric():\n",
    "        b.append(i)\n",
    "b=sorted(b)\n",
    "# print(b)\n",
    "for i in b:\n",
    "    if int(i)%2 !=0:\n",
    "        a.append(i)\n",
    "for i in b:\n",
    "    if int(i)%2 ==0:\n",
    "        a.append(i)\n",
    "\n",
    "for i in a:\n",
    "    print(i,end=\"\")\n",
    "    \n",
    "    '''\n",
    "All sorted lowercase letters are ahead of uppercase letters.\n",
    "All sorted uppercase letters are ahead of digits.\n",
    "All sorted odd digits are ahead of sorted even digits.\n",
    "    '''"
   ]
  },
  {
   "cell_type": "code",
   "execution_count": 7,
   "id": "c6dec92a",
   "metadata": {},
   "outputs": [
    {
     "name": "stdout",
     "output_type": "stream",
     "text": [
      "Sorting1234\n",
      "ginortS1324"
     ]
    }
   ],
   "source": [
    "# Enter your code here. Read input from STDIN. Print output to STDOUT\n",
    "S=input()\n",
    "L=[]\n",
    "U=[]\n",
    "O=[]# \n",
    "    if i.isnumeric():\n",
    "        if int(i)%2 !=0:\n",
    "            O.append(i)\n",
    "        else:\n",
    "            E.append(i)\n",
    "\n",
    "a=L+U+O+E       \n",
    "\n",
    "\n",
    "for i in a:\n",
    "    print(i,end=\"\")\n",
    "    "
   ]
  },
  {
   "cell_type": "markdown",
   "id": "7421ee2f",
   "metadata": {},
   "source": [
    "# Classes"
   ]
  },
  {
   "cell_type": "markdown",
   "id": "41e52b0b",
   "metadata": {},
   "source": [
    "### Class 2 - Find the Torsional Angle\n"
   ]
  },
  {
   "cell_type": "code",
   "execution_count": 9,
   "id": "82de9238",
   "metadata": {},
   "outputs": [
    {
     "name": "stdout",
     "output_type": "stream",
     "text": [
      "0 4 5\n",
      "1 7 6\n",
      "0 5 9\n",
      "1 7 2\n",
      "8.19\n"
     ]
    }
   ],
   "source": [
    "import math\n",
    "class Points(object):\n",
    "    def __init__(self, x, y, z):\n",
    "        self.x=x\n",
    "        self.y=y\n",
    "        self.z=z\n",
    "\n",
    "    def __sub__(self, no):\n",
    "        return  Points((self.x-no.x),(self.y-no.y),(self.z-no.z))\n",
    "\n",
    "    def dot(self, no):\n",
    "        return (self.x*no.x)+(self.y*no.y)+(self.z*no.z)\n",
    "\n",
    "    def cross(self, no):\n",
    "        return Points((self.y*no.z-self.z*no.y),(self.z*no.x-self.x*no.z),(self.x*no.y-self.y*no.x))\n",
    "        \n",
    "    def absolute(self):\n",
    "        return pow((self.x ** 2 + self.y ** 2 + self.z ** 2), 0.5)\n",
    "if __name__ == '__main__':\n",
    "    points = list()\n",
    "    for i in range(4):\n",
    "        a = list(map(float, input().split()))\n",
    "        points.append(a)\n",
    "\n",
    "    a, b, c, d = Points(*points[0]), Points(*points[1]), Points(*points[2]), Points(*points[3])\n",
    "    x = (b - a).cross(c - b)\n",
    "    y = (c - b).cross(d - c)\n",
    "    angle = math.acos(x.dot(y) / (x.absolute() * y.absolute()))\n",
    "\n",
    "    print(\"%.2f\" % math.degrees(angle))"
   ]
  },
  {
   "cell_type": "code",
   "execution_count": null,
   "id": "94fedd61",
   "metadata": {},
   "outputs": [],
   "source": []
  },
  {
   "cell_type": "code",
   "execution_count": null,
   "id": "f2d42fec",
   "metadata": {},
   "outputs": [],
   "source": []
  },
  {
   "cell_type": "code",
   "execution_count": null,
   "id": "a733dad5",
   "metadata": {},
   "outputs": [],
   "source": []
  },
  {
   "cell_type": "code",
   "execution_count": null,
   "id": "cf450fe6",
   "metadata": {},
   "outputs": [],
   "source": []
  },
  {
   "cell_type": "code",
   "execution_count": null,
   "id": "3e5ed92f",
   "metadata": {},
   "outputs": [],
   "source": []
  }
 ],
 "metadata": {
  "kernelspec": {
   "display_name": "Python 3",
   "language": "python",
   "name": "python3"
  },
  "language_info": {
   "codemirror_mode": {
    "name": "ipython",
    "version": 3
   },
   "file_extension": ".py",
   "mimetype": "text/x-python",
   "name": "python",
   "nbconvert_exporter": "python",
   "pygments_lexer": "ipython3",
   "version": "3.8.10"
  }
 },
 "nbformat": 4,
 "nbformat_minor": 5
}
