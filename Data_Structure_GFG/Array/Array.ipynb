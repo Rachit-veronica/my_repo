{
 "cells": [
  {
   "cell_type": "markdown",
   "id": "3395e0c9",
   "metadata": {},
   "source": [
    "# reverse the array\n",
    " "
   ]
  },
  {
   "cell_type": "code",
   "execution_count": 2,
   "id": "ee4b9bc1",
   "metadata": {},
   "outputs": [
    {
     "name": "stdout",
     "output_type": "stream",
     "text": [
      "[6, 5, 4, 3, 2, 1]\n",
      "[6, 5, 4, 3, 2, 1]\n"
     ]
    }
   ],
   "source": [
    "arr =[1,2,3,4,5,6]\n",
    "a=[]\n",
    "for i in arr[len(arr)::-1]:\n",
    "    a.append(i)\n",
    "\n",
    "print(a)\n",
    "print(arr[::-1])\n",
    "\n",
    "# time complexity O(n)"
   ]
  },
  {
   "cell_type": "markdown",
   "id": "ba0c33a6",
   "metadata": {},
   "source": [
    "# finding min and max element "
   ]
  },
  {
   "cell_type": "markdown",
   "id": "4d9fe101",
   "metadata": {},
   "source": [
    "### method 1 -> basic iteration (my way)"
   ]
  },
  {
   "cell_type": "code",
   "execution_count": 3,
   "id": "33efee97",
   "metadata": {},
   "outputs": [
    {
     "name": "stdout",
     "output_type": "stream",
     "text": [
      "min element is 1\n",
      "max element is 3242\n"
     ]
    }
   ],
   "source": [
    "def getmin_max(arr):\n",
    "    max_1=0\n",
    "    min_1=arr[0]\n",
    "    for i in arr:\n",
    "        if i > max_1:\n",
    "            max_1=i\n",
    "        if i<min_1:\n",
    "            min_1=i\n",
    "    return max_1,min_1\n",
    "\n",
    "if __name__ == \"__main__\":\n",
    "    arr=[1000,11,445,1,330,3000,3242]\n",
    "    max_1,min_1=getmin_max(arr)\n",
    "    print(f\"min element is {min_1}\")\n",
    "    print(f\"max element is {max_1}\")"
   ]
  },
  {
   "cell_type": "markdown",
   "id": "8bf39a36",
   "metadata": {},
   "source": [
    "### method 2 -> simple linear search"
   ]
  },
  {
   "cell_type": "code",
   "execution_count": 4,
   "id": "87b22e67",
   "metadata": {},
   "outputs": [
    {
     "name": "stdout",
     "output_type": "stream",
     "text": [
      "max value is 324234\n",
      "min value is 1\n"
     ]
    }
   ],
   "source": [
    "class MinMax():\n",
    "    def __init__(self):\n",
    "        self.max=0\n",
    "        self.min=0\n",
    "\n",
    "def getMaxMin(arr):\n",
    "    max_min=MinMax()\n",
    "    if len(arr) == 1:\n",
    "        max_min.max=arr[0]\n",
    "        max_min.min=arr[0]\n",
    "        return max_min\n",
    "    else:\n",
    "        if arr[0]>=arr[1]:\n",
    "            max_min.min=arr[1]\n",
    "            max_min.max=arr[0]\n",
    "        else:\n",
    "        # if arr[1]>arr[0]:\n",
    "            max_min.min=arr[0]\n",
    "            max_min.max=arr[1]\n",
    "\n",
    "        for i in range(2,len(arr)):\n",
    "            if arr[i] > max_min.max:\n",
    "                max_min.max=arr[i]\n",
    "            elif arr[i]< max_min.min:\n",
    "                max_min.min=arr[i]\n",
    "    return max_min\n",
    "\n",
    "\n",
    "if __name__ == \"__main__\":\n",
    "    arr=[1000,11,445,1,330,3000,3242,324234]\n",
    "    max_min=getMaxMin(arr)\n",
    "    print(f\"max value is {max_min.max}\")\n",
    "    print(f\"min value is {max_min.min}\")"
   ]
  },
  {
   "cell_type": "markdown",
   "id": "fa70c239",
   "metadata": {},
   "source": [
    "### METHOD 3 (Tournament Method) "
   ]
  },
  {
   "cell_type": "code",
   "execution_count": 34,
   "id": "a9c2a808",
   "metadata": {},
   "outputs": [
    {
     "name": "stdout",
     "output_type": "stream",
     "text": [
      "Minimum element is  1\n",
      "nMaximum element is  3000\n"
     ]
    }
   ],
   "source": [
    "# Python program of above implementation\n",
    "def getMinMax(low, high, arr):\n",
    "    arr_max = arr[low]\n",
    "    arr_min = arr[low]\n",
    "\t\n",
    "\t# If there is only one element\n",
    "\tif low == high:\n",
    "\t\tarr_max = arr[low]\n",
    "\t\tarr_min = arr[low]\n",
    "\t\treturn (arr_max, arr_min)\n",
    "\t\t\n",
    "\t# If there is only two element\n",
    "\telif high == low + 1:\n",
    "\t\tif arr[low] > arr[high]:\n",
    "\t\t\tarr_max = arr[low]\n",
    "\t\t\tarr_min = arr[high]\n",
    "\t\telse:\n",
    "\t\t\tarr_max = arr[high]\n",
    "\t\t\tarr_min = arr[low]\n",
    "\t\treturn (arr_max, arr_min)\n",
    "\telse:\n",
    "\t\t\n",
    "\t\t# If there are more than 2 elements\n",
    "\t\tmid = int((low + high) / 2)\n",
    "\t\tarr_max1, arr_min1 = getMinMax(low, mid, arr)\n",
    "\t\tarr_max2, arr_min2 = getMinMax(mid + 1, high, arr)\n",
    "\n",
    "\treturn (max(arr_max1, arr_max2), min(arr_min1, arr_min2))\n",
    "\n",
    "# Driver code\n",
    "arr = [1000, 11, 445, 1, 330, 3000]\n",
    "high = len(arr) - 1\n",
    "low = 0\n",
    "arr_max, arr_min = getMinMax(low, high, arr)\n",
    "print('Minimum element is ', arr_min)\n",
    "print('Maximum element is ', arr_max)\n",
    "\n"
   ]
  },
  {
   "cell_type": "markdown",
   "id": "fa2638d8",
   "metadata": {},
   "source": [
    "### method 4 ->compare in pairs"
   ]
  },
  {
   "cell_type": "code",
   "execution_count": 3,
   "id": "2f28fb61",
   "metadata": {},
   "outputs": [
    {
     "name": "stdout",
     "output_type": "stream",
     "text": [
      "max value is 324234\n",
      "min value is 1\n"
     ]
    }
   ],
   "source": [
    "def getMaxMin(arr):\n",
    "    n=len(arr)\n",
    "    low=0\n",
    "    high=0\n",
    "    if n%2 != 0:\n",
    "        low= arr[0]\n",
    "        high=arr[0]\n",
    "    else:\n",
    "        if arr[0]>arr[1]:\n",
    "            low=arr[1]\n",
    "            high=arr[0]\n",
    "        else:\n",
    "            low=arr[0]\n",
    "            high=arr[1]\n",
    "    i=1\n",
    "    while i<n-1:\n",
    "        if arr[i]<arr[i+1]:\n",
    "            high=max(high,arr[i+1])\n",
    "            low=min(low,arr[i])\n",
    "        elif arr[i]>arr[i+1]:\n",
    "            high=max(high,arr[i])\n",
    "            low=min(low,arr[i+1])\n",
    "        i+=1\n",
    "    return high,low\n",
    "\n",
    "\n",
    "\n",
    "if __name__ == \"__main__\":\n",
    "    arr=[1000,11,445,1,330,3000,3242,324234]\n",
    "    high,low=getMaxMin(arr)\n",
    "    print(f\"max value is {high}\")\n",
    "    print(f\"min value is {low}\")\n"
   ]
  },
  {
   "cell_type": "code",
   "execution_count": null,
   "id": "f8d90a71",
   "metadata": {},
   "outputs": [],
   "source": []
  }
 ],
 "metadata": {
  "kernelspec": {
   "display_name": "Python 3.7.3 64-bit ('base': conda)",
   "language": "python",
   "name": "python373jvsc74a57bd0e59e41f7f8f7635ab50ab32d3d3407b52b92d395d5551a7f8b5afd99c69e8ad8"
  },
  "language_info": {
   "codemirror_mode": {
    "name": "ipython",
    "version": 3
   },
   "file_extension": ".py",
   "mimetype": "text/x-python",
   "name": "python",
   "nbconvert_exporter": "python",
   "pygments_lexer": "ipython3",
   "version": "3.7.3"
  }
 },
 "nbformat": 4,
 "nbformat_minor": 5
}
