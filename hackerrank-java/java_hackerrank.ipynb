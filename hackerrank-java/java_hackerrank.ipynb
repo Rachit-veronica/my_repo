{
 "cells": [
  {
   "cell_type": "markdown",
   "id": "55baa6a1",
   "metadata": {},
   "source": [
    "## Java Output Formatting\n"
   ]
  },
  {
   "cell_type": "markdown",
   "id": "60ed7c22",
   "metadata": {},
   "source": [
    "ava's System.out.printf function can be used to print formatted output. The purpose of this exercise is to test your understanding of formatting output using printf."
   ]
  },
  {
   "cell_type": "markdown",
   "id": "e36af4af",
   "metadata": {},
   "source": [
    "### Formatting output using System.out.printf() \n",
    "#### System.out.format() is equivalent to printf() and can also be used."
   ]
  },
  {
   "cell_type": "code",
   "execution_count": null,
   "id": "1e23923f",
   "metadata": {},
   "outputs": [],
   "source": [
    "// A Java program to demonstrate working of printf() in Java\n",
    "class JavaFormatter1\n",
    "{\n",
    "public static void main(String args[])\n",
    "{\n",
    "\tint x = 100;\n",
    "\tSystem.out.printf(\"Printing simple integer: x = %d\\n\", x);\n",
    "\n",
    "\t// this will print it upto 2 decimal places\n",
    "\tSystem.out.printf(\"Formatted with precison: PI = %.2f\\n\", Math.PI);\n",
    "\n",
    "\tfloat n = 5.2f;\n",
    "\n",
    "\t// automatically appends zero to the rightmost part of decimal\n",
    "\tSystem.out.printf(\"Formatted to specific width: n = %.4f\\n\", n);\n",
    "\n",
    "\tn = 2324435.3f;\n",
    "\n",
    "\t// here number is formatted from right margin and occupies a\n",
    "\t// width of 20 characters\n",
    "\tSystem.out.printf(\"Formatted to right margin: n = %20.4f\\n\", n);\n",
    "}\n",
    "}\n",
    "\n",
    "Output: \n",
    "Printing simple integer: x = 100\n",
    "Formatted with precison: PI = 3.14\n",
    "Formatted to specific width: n = 5.2000\n",
    "Formatted to right margin: n =         2324435.2500"
   ]
  },
  {
   "cell_type": "markdown",
   "id": "b8cd40ba",
   "metadata": {},
   "source": [
    "###    Formatting using DecimalFormat class: \n",
    "DecimalFormat is used to format decimal numbers. "
   ]
  },
  {
   "cell_type": "code",
   "execution_count": null,
   "id": "972095e4",
   "metadata": {},
   "outputs": [],
   "source": [
    "// Java program to demonstrate working of DecimalFormat\n",
    "import java.text.DecimalFormat;\n",
    "\n",
    "class JavaFormatter2\n",
    "{\n",
    "public static void main(String args[])\n",
    "{\n",
    "\tdouble num = 123.4567;\n",
    "\n",
    "\t// prints only numeric part of a floating number\n",
    "\tDecimalFormat ft = new DecimalFormat(\"####\");\n",
    "\tSystem.out.println(\"Without fraction part: num = \" + ft.format(num));\n",
    "\n",
    "\t// this will print it upto 2 decimal places\n",
    "\tft = new DecimalFormat(\"#.##\");\n",
    "\tSystem.out.println(\"Formatted to Give precison: num = \" + ft.format(num));\n",
    "\n",
    "\t// automatically appends zero to the rightmost part of decimal\n",
    "\t// instead of #,we use digit 0\n",
    "\tft = new DecimalFormat(\"#.000000\");\n",
    "\tSystem.out.println(\"appended zeroes to right: num = \" + ft.format(num));\n",
    "\n",
    "\t// automatically appends zero to the leftmost of decimal number\n",
    "\t// instead of #,we use digit 0\n",
    "\tft = new DecimalFormat(\"00000.00\");\n",
    "\tSystem.out.println(\"formatting Numeric part : num = \"+ft.format(num));\n",
    "\n",
    "\t// formatting money in dollars\n",
    "\tdouble income = 23456.789;\n",
    "\tft = new DecimalFormat(\"$###,###.##\");\n",
    "\tSystem.out.println(\"your Formatted Dream Income : \" + ft.format(income));\n",
    "}\n",
    "}\n",
    "\n",
    "Output: \n",
    "Without fraction part: num = 123\n",
    "Formatted to Give precison: num = 123.46\n",
    "appended zeroes to right: num = 123.456700\n",
    "formatting Numeric part : num = 00123.46\n",
    "your Formatted Dream Income : $23,456.79"
   ]
  },
  {
   "cell_type": "markdown",
   "id": "87899172",
   "metadata": {},
   "source": [
    "### Formatting dates and parsing using SimpleDateFormat class: \n",
    "This class is present in java.text package."
   ]
  },
  {
   "cell_type": "code",
   "execution_count": 9,
   "id": "e098ee16",
   "metadata": {},
   "outputs": [],
   "source": [
    "// Java program to demonstrate working of SimpleDateFormat\n",
    "import java.text.ParseException;\n",
    "import java.text.SimpleDateFormat;\n",
    "import java.util.Date;\n",
    "\n",
    "class Formatter3\n",
    "{\n",
    "public static void main(String args[]) throws ParseException\n",
    "{\n",
    "\t// Formatting as per given pattern in the argument\n",
    "\tSimpleDateFormat ft = new SimpleDateFormat(\"dd-MM-yyyy\");\n",
    "\tString str = ft.format(new Date());\n",
    "\tSystem.out.println(\"Formatted Date : \" + str);\n",
    "\n",
    "\t// parsing a given String\n",
    "\tstr = \"02/18/1995\";\n",
    "\tft = new SimpleDateFormat(\"MM/dd/yyyy\");\n",
    "\tDate date = ft.parse(str);\n",
    "\n",
    "\t// this will print the date as per parsed string\n",
    "\tSystem.out.println(\"Parsed Date : \" + date);\n",
    "}\n",
    "}\n",
    "\n",
    "Output: \n",
    "Formatted Date : 09-08-2018\n",
    "Parsed Date : Sat Feb 18 00:00:00 UTC 1995"
   ]
  },
  {
   "cell_type": "markdown",
   "id": "509b30b8",
   "metadata": {},
   "source": [
    "### Argument Index\n",
    "An argument index is specified as a number ending with a “$” after the “%” and selects the specified argument in the argument list.\n",
    "\n",
    "1\n",
    "String.format(\"%2$s\", 32, \"Hello\"); // prints: \"Hello\""
   ]
  },
  {
   "cell_type": "code",
   "execution_count": null,
   "id": "0e658f36",
   "metadata": {},
   "outputs": [],
   "source": [
    "## Formatting an Integer\n",
    "With the %d format specifier, you can use an argument of all integral types including byte, short, int, long and BigInteger.\n",
    "\n",
    "#### Default formatting:\n",
    "\n",
    "1. String.format(\"%d\", 93); // prints 93\n",
    "\n",
    "\n",
    "#### Specifying a width:\n",
    "\n",
    "1. String.format(\"|%20d|\", 93); // prints: |                  93| \n",
    "\n",
    "\n",
    "#### Left-justifying within the specified width:\n",
    "\n",
    "1. String.format(\"|%-20d|\", 93); // prints: |93                  |\n",
    "\n",
    "\n",
    "#### Pad with zeros:\n",
    "\n",
    "1. String.format(\"|%020d|\", 93); // prints: |00000000000000000093|\n",
    "\n",
    "\n",
    "#### Print positive numbers with a “+”:\n",
    "\n",
    "(Negative numbers always have the “-” included):\n",
    "\n",
    "1. String.format(\"|%+20d|', 93); // prints: |                 +93|\n",
    "\n",
    "#### A space before positive numbers.\n",
    "\n",
    "(A “-” is included for negative numbers as per normal.)\n",
    "\n",
    "1. String.format(\"|% d|\", 93); // prints: | 93| String.format(\"|% d|\", -36); // prints: |-36|\n",
    "                 \n",
    "## Use locale-specific thousands separator:\n",
    "\n",
    "#### For the US locale, it is “,”:\n",
    "\n",
    "1. String.format(\"|%,d|\", 10000000); // prints: |10,000,000|\n",
    "\n",
    "\n",
    "#### Enclose negative numbers within parentheses (“()”) and skip the \"-\":\n",
    "\n",
    "1. String.format(\"|%(d|\", -36); // prints: |(36)|\n",
    "\n",
    "\n",
    "#### Octal output:\n",
    "\n",
    "1. String.format(\"|%o|\"), 93); // prints: 135\n",
    "\n",
    "\n",
    "#### Hex output:\n",
    "\n",
    "1. String.format(\"|%x|\", 93); // prints: 5d\n",
    "                 "
   ]
  },
  {
   "cell_type": "code",
   "execution_count": null,
   "id": "1bd1f34b",
   "metadata": {},
   "outputs": [],
   "source": []
  },
  {
   "cell_type": "markdown",
   "id": "a30c6708",
   "metadata": {},
   "source": [
    "## String and Character Conversion\n",
    "Default formatting:\n",
    "\n",
    "Prints the whole string.\n",
    "\n",
    "1\n",
    "String.format(\"|%s|\", \"Hello World\"); // prints: \"Hello World\""
   ]
  },
  {
   "cell_type": "code",
   "execution_count": null,
   "id": "2d441f0b",
   "metadata": {},
   "outputs": [],
   "source": [
    "#### Specify Field Length\n",
    "\n",
    "1. String.format(\"|%30s|\", \"Hello World\"); // prints: | Hello World|\n",
    "\n",
    "\n",
    "#### Left Justify Text\n",
    "\n",
    "1. String.format(\"|%-30s|\", \"Hello World\"); // prints: |Hello World |\n",
    "\n",
    "\n",
    "#### Specify Maximum Number of Characters\n",
    "\n",
    "1. String.format(\"|%.5s|\", \"Hello World\"); // prints: |Hello|\n",
    "\n",
    "\n",
    "#### Field Width and Maximum Number of Characters\n",
    "\n",
    "1. String.format(\"|%30.5s|\", \"Hello World\"); | Hello|"
   ]
  },
  {
   "cell_type": "markdown",
   "id": "b9e27f5e",
   "metadata": {},
   "source": [
    "# Java Output Formatting\n"
   ]
  },
  {
   "cell_type": "code",
   "execution_count": null,
   "id": "2772ce8c",
   "metadata": {},
   "outputs": [],
   "source": [
    "import java.util.Scanner;\n",
    "import java.text.DecimalFormat;\n",
    "\n",
    "public class Solution {\n",
    "\n",
    "    public static void main(String[] args) {\n",
    "            Scanner sc=new Scanner(System.in);\n",
    "            System.out.println(\"================================\");\n",
    "            for(int i=0;i<3;i++){\n",
    "                String s1=sc.next();\n",
    "                int x=sc.nextInt();\n",
    "                //Complete this line\n",
    "                // DecimalFormat dt=new DecimalFormat(\"%15s\");\n",
    "                System.out.printf(\"%-15s\",s1);\n",
    "                DecimalFormat ft =new DecimalFormat(\"000\");\n",
    "                System.out.printf(ft.format(x)+\"\\n\");\n",
    "            \n",
    "                \n",
    "            }\n",
    "            System.out.println(\"================================\");\n",
    "\n",
    "    }\n",
    "}\n",
    "Sample Input\n",
    "\n",
    "java 100\n",
    "cpp 65\n",
    "python 50\n",
    "Sample Output\n",
    "\n",
    "================================\n",
    "java           100 \n",
    "cpp            065 \n",
    "python         050 \n",
    "================================\n",
    "\n"
   ]
  },
  {
   "cell_type": "markdown",
   "id": "db4d8848",
   "metadata": {},
   "source": [
    "## Java Loops I\n",
    "\n"
   ]
  },
  {
   "cell_type": "code",
   "execution_count": 33,
   "id": "c7819af6",
   "metadata": {},
   "outputs": [],
   "source": [
    "import java.io.*;\n",
    "import java.math.*;\n",
    "import java.security.*;\n",
    "import java.text.*;\n",
    "import java.util.*;\n",
    "import java.util.concurrent.*;\n",
    "import java.util.regex.*;\n",
    "\n",
    "\n",
    "\n",
    "public class Solution {\n",
    "    public static void main(String[] args) throws IOException {\n",
    "        BufferedReader bufferedReader = new BufferedReader(new InputStreamReader(System.in));\n",
    "\n",
    "        int N = Integer.parseInt(bufferedReader.readLine().trim());\n",
    "    for (int i =1;i<=10;i++){\n",
    "        System.out.println(N+\" x \"+i+\" = \"+(N*i));\n",
    "    }\n",
    "        bufferedReader.close();\n",
    "    }\n",
    "}\n",
    "\n",
    "\n"
   ]
  },
  {
   "cell_type": "markdown",
   "id": "eeacfa1c",
   "metadata": {},
   "source": [
    "## Java Loops II\n"
   ]
  },
  {
   "cell_type": "code",
   "execution_count": 20,
   "id": "6b4a8938",
   "metadata": {},
   "outputs": [],
   "source": [
    "import java.util.*;\n",
    "import java.io.*;\n",
    "\n",
    "class Solution{\n",
    "    public static void main(String [] argh){\n",
    "        Scanner in = new Scanner(System.in);\n",
    "        int t=in.nextInt();\n",
    "        for(int i=0;i<t;i++){\n",
    "            int a = in.nextInt();\n",
    "            int b = in.nextInt();\n",
    "            int n = in.nextInt();\n",
    "        int sum =a;\n",
    "        // int j=b;\n",
    "        for (int j =0 ; j<n;j++){\n",
    "            sum=sum+(int)Math.pow(2,j)*b; // here i use the math.pow() method and then i type cast its value \n",
    "        System.out.print(sum+\" \");         \n",
    "        } \n",
    "        System.out.println();  \n",
    "        }\n",
    "        in.close();\n",
    "    }\n",
    "}\n"
   ]
  },
  {
   "cell_type": "markdown",
   "id": "9366799a",
   "metadata": {},
   "source": [
    "## Java Datatypes\n"
   ]
  },
  {
   "cell_type": "markdown",
   "id": "f6f09472",
   "metadata": {},
   "source": [
    "### Java has 8 primitive data types; char, boolean, byte, short, int, long, float, and double.\n",
    "to hold integer values (byte, short, int, and long):\n",
    "1. A byte is an 8-bit signed integer.\n",
    "2. A short is a 16-bit signed integer.\n",
    "3. An int is a 32-bit signed integer.\n",
    "4. A long is a 64-bit signed integer."
   ]
  },
  {
   "cell_type": "code",
   "execution_count": 23,
   "id": "418368e8",
   "metadata": {},
   "outputs": [
    {
     "name": "stdout",
     "output_type": "stream",
     "text": [
      "-9.223372036854776E18"
     ]
    }
   ],
   "source": [
    "System.out.print(-(double)(Math.pow(2,64)/2))"
   ]
  },
  {
   "cell_type": "code",
   "execution_count": 24,
   "id": "0cc506c6",
   "metadata": {},
   "outputs": [],
   "source": [
    "import java.util.*;\n",
    "import java.io.*;\n",
    "\n",
    "\n",
    "\n",
    "class Solution{\n",
    "    public static void main(String []argh)\n",
    "    {\n",
    "\n",
    "\n",
    "\n",
    "        Scanner sc = new Scanner(System.in);\n",
    "        int t=sc.nextInt();\n",
    "\n",
    "        for(int i=0;i<t;i++)\n",
    "        {\n",
    "\n",
    "            try\n",
    "            {\n",
    "                long x=sc.nextLong();\n",
    "                System.out.println(x+\" can be fitted in:\");\n",
    "                if(x>=-128 && x<=127)System.out.println(\"* byte\");\n",
    "                //Complete the code\n",
    "                if (x>= -32768 && x<= 32767)System.out.println(\"* short\");\n",
    "                if (x>=-(Math.pow(2,32)/2) && x<=(Math.pow(2,32)/2)-1)System.out.println(\"* int\");\n",
    "                if (x>=-(Math.pow(2,64)/2) && x<= (Math.pow(2,64)/2)-1)System.out.println(\"* long\");  \n",
    "            }\n",
    "            catch(Exception e)\n",
    "            {\n",
    "                System.out.println(sc.next()+\" can't be fitted anywhere.\");\n",
    "            }\n",
    "\n",
    "        }\n",
    "    }\n",
    "}\n",
    "\n",
    "\n",
    "\n"
   ]
  },
  {
   "cell_type": "markdown",
   "id": "049bae55",
   "metadata": {},
   "source": [
    "### Java End-of-file\n"
   ]
  },
  {
   "cell_type": "markdown",
   "id": "6fb24acc",
   "metadata": {},
   "source": [
    "The challenge here is to read  lines of input until you reach EOF, then number and print all  lines of content.\n",
    "\n",
    "### Hint: Java's Scanner.hasNext() "
   ]
  },
  {
   "cell_type": "markdown",
   "id": "20ee0070",
   "metadata": {},
   "source": [
    "he hasNextInt() method of java.util.Scanner class returns true if the next token in this scanner’s input can be assumed as a Int value of the given radix. \n",
    "\n",
    "#### Syntax:\n",
    "\n",
    "1. public boolean hasNextInt(int radix)\n",
    "            or\n",
    "2. public boolean hasNextInt()\n",
    "\n",
    "Return Value: This function returns true if and only if this scanner’s next token is a valid Int value in the default radix.\n",
    "\n"
   ]
  },
  {
   "cell_type": "code",
   "execution_count": 25,
   "id": "b09c264a",
   "metadata": {},
   "outputs": [],
   "source": [
    "import java.io.*;\n",
    "import java.util.*;\n",
    "import java.text.*;\n",
    "import java.math.*;\n",
    "import java.util.regex.*;\n",
    "\n",
    "public class Solution {\n",
    "\n",
    "    public static void main(String[] args) {\n",
    "        /* Enter your code here. Read input from STDIN. Print output to STDOUT. Your class should be named Solution. */\n",
    "    Scanner sc=new Scanner(System.in);\n",
    "    int i =1;\n",
    "    while (sc.hasNext()){    //here has.next() means till when it end of the line the loop will run\n",
    "    String Sr=sc.nextLine();\n",
    "    System.out.println(i+\" \"+Sr);\n",
    "    i+=1;\n",
    "    }\n",
    "    }\n",
    "}"
   ]
  },
  {
   "cell_type": "markdown",
   "id": "1ebc7193",
   "metadata": {},
   "source": [
    "## Java Static Initializer Block\n"
   ]
  },
  {
   "cell_type": "markdown",
   "id": "13f3da31",
   "metadata": {},
   "source": [
    "Unlike C++, Java supports a special block, called static block (also called static clause) which can be used for static initializations of a class. This code inside static block is executed only once: the first time the class is loaded into memory."
   ]
  },
  {
   "cell_type": "code",
   "execution_count": null,
   "id": "2ba84e1d",
   "metadata": {},
   "outputs": [],
   "source": []
  },
  {
   "cell_type": "code",
   "execution_count": null,
   "id": "af47eb38",
   "metadata": {},
   "outputs": [],
   "source": []
  },
  {
   "cell_type": "markdown",
   "id": "a4b75ed2",
   "metadata": {},
   "source": []
  },
  {
   "cell_type": "code",
   "execution_count": null,
   "id": "fdd841da",
   "metadata": {},
   "outputs": [],
   "source": []
  },
  {
   "cell_type": "code",
   "execution_count": null,
   "id": "a45434ad",
   "metadata": {},
   "outputs": [],
   "source": [
    "    "
   ]
  },
  {
   "cell_type": "code",
   "execution_count": null,
   "id": "5c4965ff",
   "metadata": {},
   "outputs": [],
   "source": []
  },
  {
   "cell_type": "code",
   "execution_count": null,
   "id": "c9e4ec43",
   "metadata": {},
   "outputs": [],
   "source": []
  },
  {
   "cell_type": "code",
   "execution_count": null,
   "id": "2da19728",
   "metadata": {},
   "outputs": [],
   "source": []
  },
  {
   "cell_type": "code",
   "execution_count": null,
   "id": "f10ff4af",
   "metadata": {},
   "outputs": [],
   "source": []
  },
  {
   "cell_type": "code",
   "execution_count": null,
   "id": "482bd28a",
   "metadata": {},
   "outputs": [],
   "source": []
  },
  {
   "cell_type": "code",
   "execution_count": null,
   "id": "711c8f89",
   "metadata": {},
   "outputs": [],
   "source": []
  },
  {
   "cell_type": "code",
   "execution_count": null,
   "id": "f4b1c429",
   "metadata": {},
   "outputs": [],
   "source": []
  },
  {
   "cell_type": "code",
   "execution_count": null,
   "id": "26b1903a",
   "metadata": {},
   "outputs": [],
   "source": []
  },
  {
   "cell_type": "code",
   "execution_count": null,
   "id": "50ada11e",
   "metadata": {},
   "outputs": [],
   "source": []
  },
  {
   "cell_type": "code",
   "execution_count": 24,
   "id": "b6c794e1",
   "metadata": {},
   "outputs": [
    {
     "name": "stdout",
     "output_type": "stream",
     "text": [
      "working\n",
      "Hello Printed line:working\n"
     ]
    }
   ],
   "source": [
    "import java.util.Scanner;\n",
    "Scanner sc =new Scanner(System.in);\n",
    "String s1=sc.next();\n",
    "System.out.println(\"Hello Printed line:\"+s1);"
   ]
  },
  {
   "cell_type": "code",
   "execution_count": null,
   "id": "8c3529ae",
   "metadata": {},
   "outputs": [],
   "source": []
  },
  {
   "cell_type": "code",
   "execution_count": null,
   "id": "18b63077",
   "metadata": {},
   "outputs": [],
   "source": []
  },
  {
   "cell_type": "code",
   "execution_count": null,
   "id": "88ee9af6",
   "metadata": {},
   "outputs": [],
   "source": []
  },
  {
   "cell_type": "code",
   "execution_count": null,
   "id": "0219b7a7",
   "metadata": {},
   "outputs": [],
   "source": []
  },
  {
   "cell_type": "code",
   "execution_count": null,
   "id": "affeb789",
   "metadata": {},
   "outputs": [],
   "source": []
  },
  {
   "cell_type": "raw",
   "id": "0d9bc1d0",
   "metadata": {},
   "source": []
  },
  {
   "cell_type": "raw",
   "id": "29b2e022",
   "metadata": {},
   "source": []
  },
  {
   "cell_type": "code",
   "execution_count": null,
   "id": "a1c79388",
   "metadata": {},
   "outputs": [],
   "source": []
  },
  {
   "cell_type": "code",
   "execution_count": null,
   "id": "b62455d7",
   "metadata": {},
   "outputs": [],
   "source": []
  }
 ],
 "metadata": {
  "kernelspec": {
   "display_name": "Java",
   "language": "java",
   "name": "java"
  },
  "language_info": {
   "codemirror_mode": "java",
   "file_extension": ".jshell",
   "mimetype": "text/x-java-source",
   "name": "Java",
   "pygments_lexer": "java",
   "version": "11.0.11+9-Ubuntu-0ubuntu2.20.04"
  }
 },
 "nbformat": 4,
 "nbformat_minor": 5
}
